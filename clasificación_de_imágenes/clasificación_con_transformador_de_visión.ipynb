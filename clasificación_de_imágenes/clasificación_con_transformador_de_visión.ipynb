{
  "cells": [
    {
      "cell_type": "markdown",
      "metadata": {
        "id": "view-in-github",
        "colab_type": "text"
      },
      "source": [
        "<a href=\"https://colab.research.google.com/github/FernandoBRdgz/inteligencia_artificial/blob/main/clasificaci%C3%B3n_de_im%C3%A1genes/clasificaci%C3%B3n_con_transformador_de_visi%C3%B3n.ipynb\" target=\"_parent\"><img src=\"https://colab.research.google.com/assets/colab-badge.svg\" alt=\"Open In Colab\"/></a>"
      ]
    },
    {
      "cell_type": "markdown",
      "metadata": {
        "id": "wLi6DA6TXeHF"
      },
      "source": [
        "# Clasificación de imágenes con Transformador de Visión (ViT)\n",
        "\n",
        "**Objetivo:** Implementar un modelo de visión artificial basado en la arquitectura Transformador de Visión para  clasificación de imágenes.\n",
        "\n",
        "Esta arquitectura es mejor conocida en inglés como Vision Transformer (ViT)."
      ]
    },
    {
      "cell_type": "markdown",
      "source": [
        "## Introducción\n",
        "\n",
        "En este *notebook* se implementa el Transformador de visión o *Vision Transformer* (ViT), modelo originalmente presentado por Alexey Dosovitskiy para la clasificación de imágenes. Para este ejemplo se utilizará el conjunto de datos CIFAR-100.\n",
        "\n",
        "El modelo ViT aplica la arquitectura Transformer con atención propia (*self-attention*) a secuencias de parches de imagen, **sin usar capas de convolución**.\n",
        "\n",
        "Este ejemplo requiere Complementos de TensorFlow también conocidos como *tensorflow-addons*. Para más información sobre estos complementos se puede consultar el siguientes enlace: *https://www.tensorflow.org/addons/overview*.\n",
        "\n",
        "Estos complementos pueden ser instalados usando el siguiente comando:\n",
        "\n",
        "```python\n",
        "pip install -U tensorflow-addons\n",
        "```"
      ],
      "metadata": {
        "id": "RRuqaIF2Z0WZ"
      }
    },
    {
      "cell_type": "code",
      "source": [
        "!pip install -U tensorflow-addons"
      ],
      "metadata": {
        "colab": {
          "base_uri": "https://localhost:8080/"
        },
        "id": "WRyA7swzV1h6",
        "outputId": "6a1d2227-7dea-43aa-c504-2d6decae1bcb"
      },
      "execution_count": 1,
      "outputs": [
        {
          "output_type": "stream",
          "name": "stdout",
          "text": [
            "Looking in indexes: https://pypi.org/simple, https://us-python.pkg.dev/colab-wheels/public/simple/\n",
            "Collecting tensorflow-addons\n",
            "  Downloading tensorflow_addons-0.19.0-cp38-cp38-manylinux_2_17_x86_64.manylinux2014_x86_64.whl (1.1 MB)\n",
            "\u001b[2K     \u001b[90m━━━━━━━━━━━━━━━━━━━━━━━━━━━━━━━━━━━━━━━━\u001b[0m \u001b[32m1.1/1.1 MB\u001b[0m \u001b[31m40.3 MB/s\u001b[0m eta \u001b[36m0:00:00\u001b[0m\n",
            "\u001b[?25hRequirement already satisfied: typeguard>=2.7 in /usr/local/lib/python3.8/dist-packages (from tensorflow-addons) (2.7.1)\n",
            "Requirement already satisfied: packaging in /usr/local/lib/python3.8/dist-packages (from tensorflow-addons) (21.3)\n",
            "Requirement already satisfied: pyparsing!=3.0.5,>=2.0.2 in /usr/local/lib/python3.8/dist-packages (from packaging->tensorflow-addons) (3.0.9)\n",
            "Installing collected packages: tensorflow-addons\n",
            "Successfully installed tensorflow-addons-0.19.0\n"
          ]
        }
      ]
    },
    {
      "cell_type": "code",
      "source": [
        "!nvidia-smi"
      ],
      "metadata": {
        "colab": {
          "base_uri": "https://localhost:8080/"
        },
        "id": "M_Hd5BScoAz5",
        "outputId": "18888426-5d4e-41f1-a6e1-34e0f6028ddc"
      },
      "execution_count": 2,
      "outputs": [
        {
          "output_type": "stream",
          "name": "stdout",
          "text": [
            "Wed Jan 11 02:19:58 2023       \n",
            "+-----------------------------------------------------------------------------+\n",
            "| NVIDIA-SMI 460.32.03    Driver Version: 460.32.03    CUDA Version: 11.2     |\n",
            "|-------------------------------+----------------------+----------------------+\n",
            "| GPU  Name        Persistence-M| Bus-Id        Disp.A | Volatile Uncorr. ECC |\n",
            "| Fan  Temp  Perf  Pwr:Usage/Cap|         Memory-Usage | GPU-Util  Compute M. |\n",
            "|                               |                      |               MIG M. |\n",
            "|===============================+======================+======================|\n",
            "|   0  Tesla T4            Off  | 00000000:00:04.0 Off |                    0 |\n",
            "| N/A   42C    P8     9W /  70W |      0MiB / 15109MiB |      0%      Default |\n",
            "|                               |                      |                  N/A |\n",
            "+-------------------------------+----------------------+----------------------+\n",
            "                                                                               \n",
            "+-----------------------------------------------------------------------------+\n",
            "| Processes:                                                                  |\n",
            "|  GPU   GI   CI        PID   Type   Process name                  GPU Memory |\n",
            "|        ID   ID                                                   Usage      |\n",
            "|=============================================================================|\n",
            "|  No running processes found                                                 |\n",
            "+-----------------------------------------------------------------------------+\n"
          ]
        }
      ]
    },
    {
      "cell_type": "markdown",
      "metadata": {
        "id": "5eUNL3OvXeHL"
      },
      "source": [
        "## Librerías"
      ]
    },
    {
      "cell_type": "code",
      "execution_count": 3,
      "metadata": {
        "id": "PEzMC2OtXeHM"
      },
      "outputs": [],
      "source": [
        "import numpy as np\n",
        "import matplotlib.pyplot as plt\n",
        "\n",
        "import tensorflow as tf\n",
        "import tensorflow_addons as tfa\n",
        "from tensorflow.keras import layers"
      ]
    },
    {
      "cell_type": "markdown",
      "metadata": {
        "id": "3pIxis-zXeHN"
      },
      "source": [
        "## Preprocesamiento de datos"
      ]
    },
    {
      "cell_type": "code",
      "execution_count": 4,
      "metadata": {
        "id": "Vn639zVLXeHO",
        "colab": {
          "base_uri": "https://localhost:8080/"
        },
        "outputId": "0a78b256-fde3-41cf-a41d-4152d9b94482"
      },
      "outputs": [
        {
          "output_type": "stream",
          "name": "stdout",
          "text": [
            "Downloading data from https://www.cs.toronto.edu/~kriz/cifar-100-python.tar.gz\n",
            "169001437/169001437 [==============================] - 13s 0us/step\n",
            "[INFO] x_train shape: (50000, 32, 32, 3) - y_train shape: (50000, 1)\n",
            "[INFO] x_val shape: (10000, 32, 32, 3) - y_val shape: (10000, 1)\n"
          ]
        }
      ],
      "source": [
        "num_classes = 100\n",
        "input_shape = (32, 32, 3)\n",
        "\n",
        "(X_train, y_train), (X_val, y_val) = tf.keras.datasets.cifar100.load_data()\n",
        "\n",
        "print(f\"[INFO] x_train shape: {X_train.shape} - y_train shape: {y_train.shape}\")\n",
        "print(f\"[INFO] x_val shape: {X_val.shape} - y_val shape: {y_val.shape}\")"
      ]
    },
    {
      "cell_type": "markdown",
      "metadata": {
        "id": "y5iy-DMLXeHO"
      },
      "source": [
        "## Configuración de hiperparámetros"
      ]
    },
    {
      "cell_type": "code",
      "execution_count": 5,
      "metadata": {
        "id": "V_bQKZxhXeHP"
      },
      "outputs": [],
      "source": [
        "batch_size = 256\n",
        "weight_decay = 0.0001\n",
        "learning_rate = 0.001\n",
        "\n",
        "# Se cambiará el tamaño de las imágenes de entrada a este tamaño\n",
        "image_size = 72\n",
        "# Tamaño de los parches a extraer de las imágenes de entrada\n",
        "patch_size = 6\n",
        "\n",
        "num_heads = 4\n",
        "projection_dim = 64\n",
        "num_patches = (image_size//patch_size) ** 2\n",
        "\n",
        "transformer_layers = 8\n",
        "# Tamaño de las capas del transformador\n",
        "transformer_units = [projection_dim * 2, projection_dim]\n",
        "# Tamaño de las capas densas del clasificador final\n",
        "mlp_head_units = [2048, 1024]"
      ]
    },
    {
      "cell_type": "markdown",
      "metadata": {
        "id": "2qM0vNxdXeHP"
      },
      "source": [
        "## Aumentación de datos"
      ]
    },
    {
      "cell_type": "code",
      "execution_count": 6,
      "metadata": {
        "id": "oSDTs0LWXeHQ"
      },
      "outputs": [],
      "source": [
        "data_augmentation = tf.keras.Sequential([layers.Normalization(),\n",
        "                                         layers.Resizing(image_size, image_size),\n",
        "                                         layers.RandomFlip(\"horizontal\"),\n",
        "                                         layers.RandomRotation(factor=0.02),\n",
        "                                         layers.RandomZoom(height_factor=0.2,\n",
        "                                                        width_factor=0.2)],\n",
        "                                        name=\"data_augmentation\")\n",
        "\n",
        "# Calcula la media y la varianza de los datos de entrenamiento para la normalización.\n",
        "data_augmentation.layers[0].adapt(X_train)"
      ]
    },
    {
      "cell_type": "markdown",
      "metadata": {
        "id": "9Mll0bMSXeHQ"
      },
      "source": [
        "## Perceptrón Multicapa (MLP)"
      ]
    },
    {
      "cell_type": "code",
      "execution_count": 7,
      "metadata": {
        "id": "DWP5PWffXeHR"
      },
      "outputs": [],
      "source": [
        "def mlp(x, hidden_units, dropout_rate):\n",
        "    for units in hidden_units:\n",
        "        x = layers.Dense(units, activation=tf.nn.gelu)(x)\n",
        "        x = layers.Dropout(dropout_rate)(x)\n",
        "    return x"
      ]
    },
    {
      "cell_type": "markdown",
      "metadata": {
        "id": "VZ1-Xu-WXeHS"
      },
      "source": [
        "## Creación de parches"
      ]
    },
    {
      "cell_type": "code",
      "execution_count": 8,
      "metadata": {
        "id": "cl371JZJXeHT"
      },
      "outputs": [],
      "source": [
        "class Patches(layers.Layer):\n",
        "    def __init__(self, patch_size):\n",
        "        super().__init__()\n",
        "        self.patch_size = patch_size\n",
        "\n",
        "    def call(self, images):\n",
        "        batch_size = tf.shape(images)[0]\n",
        "        patches = tf.image.extract_patches(images=images,\n",
        "                                           sizes=[1, self.patch_size, self.patch_size, 1],\n",
        "                                           strides=[1, self.patch_size, self.patch_size, 1],\n",
        "                                           rates=[1, 1, 1, 1],\n",
        "                                           padding=\"VALID\")\n",
        "        patch_dims = patches.shape[-1]\n",
        "        patches = tf.reshape(patches, [batch_size, -1, patch_dims])\n",
        "        return patches"
      ]
    },
    {
      "cell_type": "markdown",
      "metadata": {
        "id": "Gz75EzEhXeHU"
      },
      "source": [
        "Se muestran los parches para una imagen de muestra."
      ]
    },
    {
      "cell_type": "code",
      "execution_count": 9,
      "metadata": {
        "id": "yD0YbO4lXeHU",
        "colab": {
          "base_uri": "https://localhost:8080/",
          "height": 548
        },
        "outputId": "bccd003b-b187-4bdf-b33e-18dde37cb352"
      },
      "outputs": [
        {
          "output_type": "stream",
          "name": "stdout",
          "text": [
            "[INFO] Image size: 72 X 72\n",
            "[INFO] Patch size: 6 X 6\n",
            "[INFO] Patches per image: 144\n",
            "[INFO] Elements per patch: 108\n"
          ]
        },
        {
          "output_type": "display_data",
          "data": {
            "text/plain": [
              "<Figure size 288x288 with 1 Axes>"
            ],
            "image/png": "[encoded data removed]"
          },
          "metadata": {
            "needs_background": "light"
          }
        },
        {
          "output_type": "display_data",
          "data": {
            "text/plain": [
              "<Figure size 288x288 with 144 Axes>"
            ],
            "image/png": "[encoded data removed]"
          },
          "metadata": {
            "needs_background": "light"
          }
        }
      ],
      "source": [
        "plt.figure(figsize=(4, 4))\n",
        "image = X_train[np.random.choice(range(X_train.shape[0]))]\n",
        "plt.imshow(image.astype(\"uint8\"))\n",
        "plt.axis(\"off\")\n",
        "\n",
        "resized_image = tf.image.resize(tf.convert_to_tensor([image]), size=(image_size, image_size))\n",
        "patches = Patches(patch_size)(resized_image)\n",
        "\n",
        "print(f\"[INFO] Image size: {image_size} X {image_size}\")\n",
        "print(f\"[INFO] Patch size: {patch_size} X {patch_size}\")\n",
        "print(f\"[INFO] Patches per image: {patches.shape[1]}\")\n",
        "print(f\"[INFO] Elements per patch: {patches.shape[-1]}\")\n",
        "\n",
        "n = int(np.sqrt(patches.shape[1]))\n",
        "plt.figure(figsize=(4, 4))\n",
        "for i, patch in enumerate(patches[0]):\n",
        "    ax = plt.subplot(n, n, i + 1)\n",
        "    patch_img = tf.reshape(patch, (patch_size, patch_size, 3))\n",
        "    plt.imshow(patch_img.numpy().astype(\"uint8\"))\n",
        "    plt.axis(\"off\")"
      ]
    },
    {
      "cell_type": "markdown",
      "metadata": {
        "id": "nYgvgyhxXeHV"
      },
      "source": [
        "## Codificación de parches\n",
        "\n",
        "La clase `PatchEncoder` transformará linealmente un parche proyectándolo en un vector de tamaño `projection_dim`. Además, agrega una una incrustación de posición aprendible en el vector proyectado."
      ]
    },
    {
      "cell_type": "code",
      "execution_count": 10,
      "metadata": {
        "id": "KXBC-Zi4XeHW"
      },
      "outputs": [],
      "source": [
        "class PatchEncoder(layers.Layer):\n",
        "    def __init__(self, num_patches, projection_dim):\n",
        "        super().__init__()\n",
        "        self.num_patches = num_patches\n",
        "        self.projection = layers.Dense(units=projection_dim)\n",
        "        self.position_embedding = layers.Embedding(input_dim=num_patches,\n",
        "                                                   output_dim=projection_dim)\n",
        "\n",
        "    def call(self, patch):\n",
        "        positions = tf.range(start=0, limit=self.num_patches, delta=1)\n",
        "        encoded = self.projection(patch) + self.position_embedding(positions)\n",
        "        return encoded"
      ]
    },
    {
      "cell_type": "markdown",
      "source": [
        "## Construcción del modelo ViT\n",
        "\n",
        "El modelo ViT consta de varios bloques de transformadores,\n",
        "que utilizan la capa `layers.MultiHeadAttention` como mecanismo de autoatención\n",
        "aplicado a la secuencia de parches. Los bloques Transformer producen un\n",
        "tensor `[batch_size, num_patches,projection_dim]`, que se procesa a través de un\n",
        "cabeza clasificadora con softmax para producir la salida final de probabilidades de clase.\n",
        "\n",
        "A diferencia de la técnica descrita en el *paper*, que antepone una incrustación aprendible a la secuencia de parches codificados para servir como la representación de la imagen, todas las salidas del bloque Transformador final son reformado con `layers.Flatten()` y usado como imagen entrada de representación a la cabeza del clasificador.\n",
        "\n",
        "Se debe tener en cuenta que la capa `layers.GlobalAveragePooling1D` también podría usarse en su lugar para agregar las salidas del bloque Transformador,\n",
        "especialmente cuando el número de parches y las dimensiones de proyección son grandes."
      ],
      "metadata": {
        "id": "oTNvBWCaNYSw"
      }
    },
    {
      "cell_type": "code",
      "execution_count": 11,
      "metadata": {
        "id": "8Syl03eJXeHX"
      },
      "outputs": [],
      "source": [
        "def create_vit_classifier():\n",
        "    inputs = layers.Input(shape=input_shape)\n",
        "    # Aumentación de datos\n",
        "    augmented = data_augmentation(inputs)\n",
        "    # Creación de parches\n",
        "    patches = Patches(patch_size)(augmented)\n",
        "    # Codificación de parches\n",
        "    encoded_patches = PatchEncoder(num_patches, projection_dim)(patches)\n",
        "\n",
        "    # Crea múltiples capas del bloque Transformador\n",
        "    for _ in range(transformer_layers):\n",
        "        # Capa de normalización 1\n",
        "        x1 = layers.LayerNormalization(epsilon=1e-6)(encoded_patches)\n",
        "        # Capa de atención de varias cabezas\n",
        "        attention_output = layers.MultiHeadAttention(num_heads=num_heads,\n",
        "                                                     key_dim=projection_dim,\n",
        "                                                     dropout=0.1)(x1, x1)\n",
        "        # Salto de conexión 1 (skip connection)\n",
        "        x2 = layers.Add()([attention_output, encoded_patches])\n",
        "        # Capa de normalización 2\n",
        "        x3 = layers.LayerNormalization(epsilon=1e-6)(x2)\n",
        "        # Perceptrón Multicapa\n",
        "        x3 = mlp(x3, hidden_units=transformer_units, dropout_rate=0.1)\n",
        "        # Salto de conexión 2 (skip connection)\n",
        "        encoded_patches = layers.Add()([x3, x2])\n",
        "\n",
        "    # Crea un tensor [batch_size, projection_dim]\n",
        "    representation = layers.LayerNormalization(epsilon=1e-6)(encoded_patches)\n",
        "    representation = layers.Flatten()(representation)\n",
        "    representation = layers.Dropout(0.5)(representation)\n",
        "    # Añadir Perceptrón Multicapa\n",
        "    features = mlp(representation, hidden_units=mlp_head_units, dropout_rate=0.5)\n",
        "    # Clasificar salidas\n",
        "    logits = layers.Dense(num_classes)(features)\n",
        "    # Crea el modelo\n",
        "    model = tf.keras.Model(inputs=inputs, outputs=logits)\n",
        "    return model"
      ]
    },
    {
      "cell_type": "code",
      "source": [
        "vit_classifier = create_vit_classifier()"
      ],
      "metadata": {
        "id": "ldo8EG_PmzLq"
      },
      "execution_count": 12,
      "outputs": []
    },
    {
      "cell_type": "markdown",
      "metadata": {
        "id": "fwzVqO1jXeHX"
      },
      "source": [
        "## Entrenamiento del modelo"
      ]
    },
    {
      "cell_type": "code",
      "execution_count": 13,
      "metadata": {
        "id": "3VY8zsgtXeHY"
      },
      "outputs": [],
      "source": [
        "optimizer = tfa.optimizers.AdamW(learning_rate=learning_rate, weight_decay=weight_decay)\n",
        "\n",
        "vit_classifier.compile(optimizer=optimizer,\n",
        "                       loss=tf.keras.losses.SparseCategoricalCrossentropy(from_logits=True),\n",
        "                       metrics=[tf.keras.metrics.SparseCategoricalAccuracy(name=\"accuracy\"),\n",
        "                                tf.keras.metrics.SparseTopKCategoricalAccuracy(5, name=\"top-5-accuracy\")])\n",
        "\n",
        "ckpt = tf.keras.callbacks.ModelCheckpoint(filepath='weights.{epoch:02d}-{val_accuracy:.2f}.h5',\n",
        "                                          monitor=\"val_accuracy\",\n",
        "                                          save_best_only=True,\n",
        "                                          save_weights_only=True)"
      ]
    },
    {
      "cell_type": "code",
      "source": [
        "%%time\n",
        "num_epochs = 3\n",
        "history = vit_classifier.fit(x=X_train, y=y_train, batch_size=batch_size, epochs=num_epochs, validation_split=0.1, callbacks=[ckpt])"
      ],
      "metadata": {
        "colab": {
          "base_uri": "https://localhost:8080/"
        },
        "id": "ryod-II8nA1f",
        "outputId": "fe419265-9a1c-4d29-85aa-8b1641a2e8cd"
      },
      "execution_count": 14,
      "outputs": [
        {
          "output_type": "stream",
          "name": "stdout",
          "text": [
            "Epoch 1/3\n",
            "176/176 [==============================] - 96s 481ms/step - loss: 4.5140 - accuracy: 0.0414 - top-5-accuracy: 0.1492 - val_loss: 3.9181 - val_accuracy: 0.1014 - val_top-5-accuracy: 0.3056\n",
            "Epoch 2/3\n",
            "176/176 [==============================] - 83s 472ms/step - loss: 3.9755 - accuracy: 0.0888 - top-5-accuracy: 0.2806 - val_loss: 3.5733 - val_accuracy: 0.1616 - val_top-5-accuracy: 0.4072\n",
            "Epoch 3/3\n",
            "176/176 [==============================] - 83s 473ms/step - loss: 3.7066 - accuracy: 0.1288 - top-5-accuracy: 0.3639 - val_loss: 3.3437 - val_accuracy: 0.1980 - val_top-5-accuracy: 0.4726\n",
            "CPU times: user 3min 42s, sys: 25.4 s, total: 4min 7s\n",
            "Wall time: 4min 22s\n"
          ]
        }
      ]
    },
    {
      "cell_type": "code",
      "source": [
        "vit_classifier.load_weights(\"weights.03-0.20.h5\")\n",
        "_, accuracy, top_5_accuracy = vit_classifier.evaluate(X_val, y_val)\n",
        "print(f\"[INFO] Validation accuracy: {round(accuracy * 100, 2)}%\")\n",
        "print(f\"[INFO] Validation top 5 accuracy: {round(top_5_accuracy * 100, 2)}%\")"
      ],
      "metadata": {
        "colab": {
          "base_uri": "https://localhost:8080/"
        },
        "id": "FT_kGPJlnLrM",
        "outputId": "838d687a-56a2-4333-d5a0-35bd565f8902"
      },
      "execution_count": 23,
      "outputs": [
        {
          "output_type": "stream",
          "name": "stdout",
          "text": [
            "313/313 [==============================] - 8s 24ms/step - loss: 3.3229 - accuracy: 0.2027 - top-5-accuracy: 0.4814\n",
            "[INFO] Validation accuracy: 20.27%\n",
            "[INFO] Validation top 5 accuracy: 48.14%\n"
          ]
        }
      ]
    },
    {
      "cell_type": "markdown",
      "source": [
        "Después de 100 épocas, el modelo ViT logra alrededor del 55% de *accuracy* y\n",
        "82% de *accuracy* en el top 5 en los datos de prueba. Estos no son resultados competitivos en el conjunto de datos CIFAR-100, ya que un ResNet50V2 entrenado desde cero con los mismos datos puede lograr un *accuracy* del 67%.\n",
        "\n",
        "Nótese que los resultados del estado del arte informados en el paper se logran pre-entrenando el modelo ViT usando\n",
        "el conjunto de datos JFT-300M, luego ajustándolo en el conjunto de datos de destino. Para mejorar la calidad del modelo.\n",
        "sin entrenamiento previo, se puede intentar entrenar el modelo para más épocas, utilizando una mayor cantidad de capas Transformer, cambiando el tamaño de las imágenes de entrada, cambiando también el tamaño del parche o aumentando las dimensiones de proyección.\n",
        "\n",
        "Además, como se menciona en el documento, la calidad del modelo se ve afectada no solo por las opciones de arquitectura, pero también por hiperparámetros como la tasa de aprendizaje, optimizador, decaimiento de peso, etc. En la práctica, se recomienda afinar un modelo ViT que fue pre-entrenado utilizando un gran conjunto de datos de alta resolución."
      ],
      "metadata": {
        "id": "XZhgTGUQPviM"
      }
    },
    {
      "cell_type": "code",
      "source": [],
      "metadata": {
        "id": "NhxT5i4SqumQ"
      },
      "execution_count": null,
      "outputs": []
    }
  ],
  "metadata": {
    "accelerator": "GPU",
    "colab": {
      "provenance": [],
      "include_colab_link": true
    },
    "environment": {
      "name": "tf2-gpu.2-4.m61",
      "type": "gcloud",
      "uri": "gcr.io/deeplearning-platform-release/tf2-gpu.2-4:m61"
    },
    "kernelspec": {
      "display_name": "Python 3",
      "language": "python",
      "name": "python3"
    },
    "language_info": {
      "codemirror_mode": {
        "name": "ipython",
        "version": 3
      },
      "file_extension": ".py",
      "mimetype": "text/x-python",
      "name": "python",
      "nbconvert_exporter": "python",
      "pygments_lexer": "ipython3",
      "version": "3.7.9"
    },
    "gpuClass": "standard"
  },
  "nbformat": 4,
  "nbformat_minor": 0
}