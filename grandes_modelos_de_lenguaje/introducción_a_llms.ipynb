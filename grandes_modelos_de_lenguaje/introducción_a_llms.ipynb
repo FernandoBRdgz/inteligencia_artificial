{
  "nbformat": 4,
  "nbformat_minor": 0,
  "metadata": {
    "colab": {
      "provenance": [],
      "authorship_tag": "ABX9TyPDHmtMmk6oLqcysi663bwR",
      "include_colab_link": true
    },
    "kernelspec": {
      "name": "python3",
      "display_name": "Python 3"
    },
    "language_info": {
      "name": "python"
    }
  },
  "cells": [
    {
      "cell_type": "markdown",
      "metadata": {
        "id": "view-in-github",
        "colab_type": "text"
      },
      "source": [
        "<a href=\"https://colab.research.google.com/github/FernandoBRdgz/inteligencia_artificial/blob/main/grandes_modelos_de_lenguaje/introducci%C3%B3n_a_llms.ipynb\" target=\"_parent\"><img src=\"https://colab.research.google.com/assets/colab-badge.svg\" alt=\"Open In Colab\"/></a>"
      ]
    },
    {
      "cell_type": "markdown",
      "source": [
        "## Introducción\n",
        "\n",
        "En la era digital actual, el procesamiento del lenguaje natural ha experimentado avances significativos gracias a los modelos de aprendizaje automático, en particular, los modelos largos del lenguaje. Estos modelos, basados en técnicas de inteligencia artificial, han revolucionado la forma en que las computadoras comprenden y generan texto de manera similar a los humanos.\n",
        "\n",
        "Un modelo largo del lenguaje es capaz de aprender patrones complejos y estructuras gramaticales en grandes cantidades de texto, adquiriendo conocimiento sobre el lenguaje en general. Estos modelos se entrenan en enormes conjuntos de datos, como libros, artículos de noticias, páginas web y corpus lingüísticos, para capturar las regularidades y matices del lenguaje humano."
      ],
      "metadata": {
        "id": "xN2LlnzZQPCa"
      }
    },
    {
      "cell_type": "markdown",
      "source": [
        "### Funcionamiento\n",
        "\n",
        "La arquitectura principal detrás de estos modelos es el Transformer, que se destaca por su capacidad para procesar secuencias de texto de manera eficiente. El Transformer utiliza capas de atención y cálculos paralelos para capturar las relaciones entre las palabras y generar representaciones contextualizadas de cada palabra en función de su contexto. Estas representaciones son fundamentales para la capacidad del modelo de comprender el significado y la estructura del texto.\n",
        "\n",
        "Una vez que un modelo largo del lenguaje ha sido entrenado, puede ser utilizado para diversas tareas del procesamiento del lenguaje natural, como la traducción automática, la generación de texto, el resumen de documentos, el análisis de sentimientos y la respuesta a preguntas. Estos modelos son altamente flexibles y pueden adaptarse a diferentes dominios o tareas específicas."
      ],
      "metadata": {
        "id": "JLKfPY6NP5VA"
      }
    },
    {
      "cell_type": "markdown",
      "source": [
        "### Limitaciones\n",
        "\n",
        "Si bien los modelos largos del lenguaje han demostrado ser asombrosamente efectivos para muchas aplicaciones, también presentan desafíos. El entrenamiento y la utilización de estos modelos requieren una gran cantidad de recursos computacionales y de almacenamiento, así como una gran cantidad de datos de entrenamiento etiquetados. Además, la ética y la privacidad son consideraciones importantes en el uso de estos modelos, ya que pueden generar contenido potencialmente engañoso o discriminatorio si no se manejan adecuadamente. Y dificultades para comprender el razonamiento y la causalidad (sufren de alucinaciones)."
      ],
      "metadata": {
        "id": "wt78JNnCQeeg"
      }
    },
    {
      "cell_type": "markdown",
      "source": [
        "## Arquitectura base (El Transformador)"
      ],
      "metadata": {
        "id": "QgQlfJcNVF5H"
      }
    },
    {
      "cell_type": "markdown",
      "source": [
        "En 2017, Google publicó el artículo “Atención es todo lo que necesitas” introduciendo una nueva arquitectura a la cual nombraron Transformer. La idea principal es detener el uso de RNNs y CNNs y, en lugar, utilizar esta arquitectura con el uso de mecanismos de atención pero de una manera muy ingeniosa. Esto permite obtener modelos mucho más paralelizables y, por lo tanto, computacionalmente eficientes comparado con arquitecturas como LSTMs o GRUs mostrando que los Transformadores modelan de mejor forma las dependencias de largo plazo entre las palabras. Se muestra su arquitectura a alto nivel.\n",
        "\n",
        "![Arquitectura Transformer](https://d2l.ai/_images/transformer.svg)"
      ],
      "metadata": {
        "id": "82fhQwHYUJyl"
      }
    },
    {
      "cell_type": "markdown",
      "source": [
        "Stack tecnológico (core)\n",
        "\n",
        "* Open AI: https://platform.openai.com/\n",
        "* LangChain: https://python.langchain.com/en/latest/index.html\n",
        "* Facebook AI Similarity Search: https://ai.facebook.com/tools/faiss/\n",
        "* Google Text2Speech: https://github.com/pndurette/gTTS\n",
        "* PyPDF2: https://konfuzio.com/en/pypdf2/\n",
        "* Gradio: https://gradio.app/"
      ],
      "metadata": {
        "id": "LIqMLEhaZjEB"
      }
    },
    {
      "cell_type": "code",
      "source": [
        "!pip install openai==0.27.7 langchain==0.0.154 faiss-cpu==1.7.4 PyPDF2==3.0.1"
      ],
      "metadata": {
        "colab": {
          "base_uri": "https://localhost:8080/"
        },
        "id": "9kxY81XeMBFp",
        "outputId": "ecb3384d-6a9e-4236-fa7b-87d837ec63c4"
      },
      "execution_count": 1,
      "outputs": [
        {
          "output_type": "stream",
          "name": "stdout",
          "text": [
            "Looking in indexes: https://pypi.org/simple, https://us-python.pkg.dev/colab-wheels/public/simple/\n",
            "Requirement already satisfied: openai==0.27.7 in /usr/local/lib/python3.10/dist-packages (0.27.7)\n",
            "Requirement already satisfied: langchain==0.0.154 in /usr/local/lib/python3.10/dist-packages (0.0.154)\n",
            "Requirement already satisfied: faiss-cpu==1.7.4 in /usr/local/lib/python3.10/dist-packages (1.7.4)\n",
            "Requirement already satisfied: PyPDF2==3.0.1 in /usr/local/lib/python3.10/dist-packages (3.0.1)\n",
            "Requirement already satisfied: requests>=2.20 in /usr/local/lib/python3.10/dist-packages (from openai==0.27.7) (2.27.1)\n",
            "Requirement already satisfied: tqdm in /usr/local/lib/python3.10/dist-packages (from openai==0.27.7) (4.65.0)\n",
            "Requirement already satisfied: aiohttp in /usr/local/lib/python3.10/dist-packages (from openai==0.27.7) (3.8.4)\n",
            "Requirement already satisfied: PyYAML>=5.4.1 in /usr/local/lib/python3.10/dist-packages (from langchain==0.0.154) (6.0)\n",
            "Requirement already satisfied: SQLAlchemy<3,>1.4 in /usr/local/lib/python3.10/dist-packages (from langchain==0.0.154) (2.0.10)\n",
            "Requirement already satisfied: async-timeout<5.0.0,>=4.0.0 in /usr/local/lib/python3.10/dist-packages (from langchain==0.0.154) (4.0.2)\n",
            "Requirement already satisfied: dataclasses-json<0.6.0,>=0.5.7 in /usr/local/lib/python3.10/dist-packages (from langchain==0.0.154) (0.5.7)\n",
            "Requirement already satisfied: numexpr<3.0.0,>=2.8.4 in /usr/local/lib/python3.10/dist-packages (from langchain==0.0.154) (2.8.4)\n",
            "Requirement already satisfied: numpy<2,>=1 in /usr/local/lib/python3.10/dist-packages (from langchain==0.0.154) (1.22.4)\n",
            "Requirement already satisfied: openapi-schema-pydantic<2.0,>=1.2 in /usr/local/lib/python3.10/dist-packages (from langchain==0.0.154) (1.2.4)\n",
            "Requirement already satisfied: pydantic<2,>=1 in /usr/local/lib/python3.10/dist-packages (from langchain==0.0.154) (1.10.7)\n",
            "Requirement already satisfied: tenacity<9.0.0,>=8.1.0 in /usr/local/lib/python3.10/dist-packages (from langchain==0.0.154) (8.2.2)\n",
            "Requirement already satisfied: attrs>=17.3.0 in /usr/local/lib/python3.10/dist-packages (from aiohttp->openai==0.27.7) (23.1.0)\n",
            "Requirement already satisfied: charset-normalizer<4.0,>=2.0 in /usr/local/lib/python3.10/dist-packages (from aiohttp->openai==0.27.7) (2.0.12)\n",
            "Requirement already satisfied: multidict<7.0,>=4.5 in /usr/local/lib/python3.10/dist-packages (from aiohttp->openai==0.27.7) (6.0.4)\n",
            "Requirement already satisfied: yarl<2.0,>=1.0 in /usr/local/lib/python3.10/dist-packages (from aiohttp->openai==0.27.7) (1.9.2)\n",
            "Requirement already satisfied: frozenlist>=1.1.1 in /usr/local/lib/python3.10/dist-packages (from aiohttp->openai==0.27.7) (1.3.3)\n",
            "Requirement already satisfied: aiosignal>=1.1.2 in /usr/local/lib/python3.10/dist-packages (from aiohttp->openai==0.27.7) (1.3.1)\n",
            "Requirement already satisfied: marshmallow<4.0.0,>=3.3.0 in /usr/local/lib/python3.10/dist-packages (from dataclasses-json<0.6.0,>=0.5.7->langchain==0.0.154) (3.19.0)\n",
            "Requirement already satisfied: marshmallow-enum<2.0.0,>=1.5.1 in /usr/local/lib/python3.10/dist-packages (from dataclasses-json<0.6.0,>=0.5.7->langchain==0.0.154) (1.5.1)\n",
            "Requirement already satisfied: typing-inspect>=0.4.0 in /usr/local/lib/python3.10/dist-packages (from dataclasses-json<0.6.0,>=0.5.7->langchain==0.0.154) (0.9.0)\n",
            "Requirement already satisfied: typing-extensions>=4.2.0 in /usr/local/lib/python3.10/dist-packages (from pydantic<2,>=1->langchain==0.0.154) (4.5.0)\n",
            "Requirement already satisfied: urllib3<1.27,>=1.21.1 in /usr/local/lib/python3.10/dist-packages (from requests>=2.20->openai==0.27.7) (1.26.15)\n",
            "Requirement already satisfied: certifi>=2017.4.17 in /usr/local/lib/python3.10/dist-packages (from requests>=2.20->openai==0.27.7) (2022.12.7)\n",
            "Requirement already satisfied: idna<4,>=2.5 in /usr/local/lib/python3.10/dist-packages (from requests>=2.20->openai==0.27.7) (3.4)\n",
            "Requirement already satisfied: greenlet!=0.4.17 in /usr/local/lib/python3.10/dist-packages (from SQLAlchemy<3,>1.4->langchain==0.0.154) (2.0.2)\n",
            "Requirement already satisfied: packaging>=17.0 in /usr/local/lib/python3.10/dist-packages (from marshmallow<4.0.0,>=3.3.0->dataclasses-json<0.6.0,>=0.5.7->langchain==0.0.154) (23.1)\n",
            "Requirement already satisfied: mypy-extensions>=0.3.0 in /usr/local/lib/python3.10/dist-packages (from typing-inspect>=0.4.0->dataclasses-json<0.6.0,>=0.5.7->langchain==0.0.154) (1.0.0)\n"
          ]
        }
      ]
    },
    {
      "cell_type": "code",
      "source": [
        "!pip install tiktoken==0.4.0 gradio==3.28.3 requests==2.27.1 gTTS==2.3.1"
      ],
      "metadata": {
        "colab": {
          "base_uri": "https://localhost:8080/"
        },
        "id": "s6kmO7Rz3rm9",
        "outputId": "c95025cb-dd9a-4d85-8ee7-913c494673e3"
      },
      "execution_count": 2,
      "outputs": [
        {
          "output_type": "stream",
          "name": "stdout",
          "text": [
            "Looking in indexes: https://pypi.org/simple, https://us-python.pkg.dev/colab-wheels/public/simple/\n",
            "Requirement already satisfied: tiktoken==0.4.0 in /usr/local/lib/python3.10/dist-packages (0.4.0)\n",
            "Requirement already satisfied: gradio==3.28.3 in /usr/local/lib/python3.10/dist-packages (3.28.3)\n",
            "Requirement already satisfied: requests==2.27.1 in /usr/local/lib/python3.10/dist-packages (2.27.1)\n",
            "Requirement already satisfied: gTTS==2.3.1 in /usr/local/lib/python3.10/dist-packages (2.3.1)\n",
            "Requirement already satisfied: regex>=2022.1.18 in /usr/local/lib/python3.10/dist-packages (from tiktoken==0.4.0) (2022.10.31)\n",
            "Requirement already satisfied: aiofiles in /usr/local/lib/python3.10/dist-packages (from gradio==3.28.3) (23.1.0)\n",
            "Requirement already satisfied: aiohttp in /usr/local/lib/python3.10/dist-packages (from gradio==3.28.3) (3.8.4)\n",
            "Requirement already satisfied: altair>=4.2.0 in /usr/local/lib/python3.10/dist-packages (from gradio==3.28.3) (4.2.2)\n",
            "Requirement already satisfied: fastapi in /usr/local/lib/python3.10/dist-packages (from gradio==3.28.3) (0.95.2)\n",
            "Requirement already satisfied: ffmpy in /usr/local/lib/python3.10/dist-packages (from gradio==3.28.3) (0.3.0)\n",
            "Requirement already satisfied: gradio-client>=0.1.3 in /usr/local/lib/python3.10/dist-packages (from gradio==3.28.3) (0.1.4)\n",
            "Requirement already satisfied: httpx in /usr/local/lib/python3.10/dist-packages (from gradio==3.28.3) (0.24.1)\n",
            "Requirement already satisfied: huggingface-hub>=0.13.0 in /usr/local/lib/python3.10/dist-packages (from gradio==3.28.3) (0.14.1)\n",
            "Requirement already satisfied: jinja2 in /usr/local/lib/python3.10/dist-packages (from gradio==3.28.3) (3.1.2)\n",
            "Requirement already satisfied: markdown-it-py[linkify]>=2.0.0 in /usr/local/lib/python3.10/dist-packages (from gradio==3.28.3) (2.2.0)\n",
            "Requirement already satisfied: markupsafe in /usr/local/lib/python3.10/dist-packages (from gradio==3.28.3) (2.1.2)\n",
            "Requirement already satisfied: matplotlib in /usr/local/lib/python3.10/dist-packages (from gradio==3.28.3) (3.7.1)\n",
            "Requirement already satisfied: mdit-py-plugins<=0.3.3 in /usr/local/lib/python3.10/dist-packages (from gradio==3.28.3) (0.3.3)\n",
            "Requirement already satisfied: numpy in /usr/local/lib/python3.10/dist-packages (from gradio==3.28.3) (1.22.4)\n",
            "Requirement already satisfied: orjson in /usr/local/lib/python3.10/dist-packages (from gradio==3.28.3) (3.8.13)\n",
            "Requirement already satisfied: pandas in /usr/local/lib/python3.10/dist-packages (from gradio==3.28.3) (1.5.3)\n",
            "Requirement already satisfied: pillow in /usr/local/lib/python3.10/dist-packages (from gradio==3.28.3) (8.4.0)\n",
            "Requirement already satisfied: pydantic in /usr/local/lib/python3.10/dist-packages (from gradio==3.28.3) (1.10.7)\n",
            "Requirement already satisfied: pydub in /usr/local/lib/python3.10/dist-packages (from gradio==3.28.3) (0.25.1)\n",
            "Requirement already satisfied: pygments>=2.12.0 in /usr/local/lib/python3.10/dist-packages (from gradio==3.28.3) (2.14.0)\n",
            "Requirement already satisfied: python-multipart in /usr/local/lib/python3.10/dist-packages (from gradio==3.28.3) (0.0.6)\n",
            "Requirement already satisfied: pyyaml in /usr/local/lib/python3.10/dist-packages (from gradio==3.28.3) (6.0)\n",
            "Requirement already satisfied: semantic-version in /usr/local/lib/python3.10/dist-packages (from gradio==3.28.3) (2.10.0)\n",
            "Requirement already satisfied: typing-extensions in /usr/local/lib/python3.10/dist-packages (from gradio==3.28.3) (4.5.0)\n",
            "Requirement already satisfied: uvicorn in /usr/local/lib/python3.10/dist-packages (from gradio==3.28.3) (0.22.0)\n",
            "Requirement already satisfied: websockets>=10.0 in /usr/local/lib/python3.10/dist-packages (from gradio==3.28.3) (11.0.3)\n",
            "Requirement already satisfied: urllib3<1.27,>=1.21.1 in /usr/local/lib/python3.10/dist-packages (from requests==2.27.1) (1.26.15)\n",
            "Requirement already satisfied: certifi>=2017.4.17 in /usr/local/lib/python3.10/dist-packages (from requests==2.27.1) (2022.12.7)\n",
            "Requirement already satisfied: charset-normalizer~=2.0.0 in /usr/local/lib/python3.10/dist-packages (from requests==2.27.1) (2.0.12)\n",
            "Requirement already satisfied: idna<4,>=2.5 in /usr/local/lib/python3.10/dist-packages (from requests==2.27.1) (3.4)\n",
            "Requirement already satisfied: click<8.2,>=7.1 in /usr/local/lib/python3.10/dist-packages (from gTTS==2.3.1) (8.1.3)\n",
            "Requirement already satisfied: entrypoints in /usr/local/lib/python3.10/dist-packages (from altair>=4.2.0->gradio==3.28.3) (0.4)\n",
            "Requirement already satisfied: jsonschema>=3.0 in /usr/local/lib/python3.10/dist-packages (from altair>=4.2.0->gradio==3.28.3) (4.3.3)\n",
            "Requirement already satisfied: toolz in /usr/local/lib/python3.10/dist-packages (from altair>=4.2.0->gradio==3.28.3) (0.12.0)\n",
            "Requirement already satisfied: fsspec in /usr/local/lib/python3.10/dist-packages (from gradio-client>=0.1.3->gradio==3.28.3) (2023.4.0)\n",
            "Requirement already satisfied: packaging in /usr/local/lib/python3.10/dist-packages (from gradio-client>=0.1.3->gradio==3.28.3) (23.1)\n",
            "Requirement already satisfied: filelock in /usr/local/lib/python3.10/dist-packages (from huggingface-hub>=0.13.0->gradio==3.28.3) (3.12.0)\n",
            "Requirement already satisfied: tqdm>=4.42.1 in /usr/local/lib/python3.10/dist-packages (from huggingface-hub>=0.13.0->gradio==3.28.3) (4.65.0)\n",
            "Requirement already satisfied: mdurl~=0.1 in /usr/local/lib/python3.10/dist-packages (from markdown-it-py[linkify]>=2.0.0->gradio==3.28.3) (0.1.2)\n",
            "Requirement already satisfied: linkify-it-py<3,>=1 in /usr/local/lib/python3.10/dist-packages (from markdown-it-py[linkify]>=2.0.0->gradio==3.28.3) (2.0.2)\n",
            "Requirement already satisfied: python-dateutil>=2.8.1 in /usr/local/lib/python3.10/dist-packages (from pandas->gradio==3.28.3) (2.8.2)\n",
            "Requirement already satisfied: pytz>=2020.1 in /usr/local/lib/python3.10/dist-packages (from pandas->gradio==3.28.3) (2022.7.1)\n",
            "Requirement already satisfied: attrs>=17.3.0 in /usr/local/lib/python3.10/dist-packages (from aiohttp->gradio==3.28.3) (23.1.0)\n",
            "Requirement already satisfied: multidict<7.0,>=4.5 in /usr/local/lib/python3.10/dist-packages (from aiohttp->gradio==3.28.3) (6.0.4)\n",
            "Requirement already satisfied: async-timeout<5.0,>=4.0.0a3 in /usr/local/lib/python3.10/dist-packages (from aiohttp->gradio==3.28.3) (4.0.2)\n",
            "Requirement already satisfied: yarl<2.0,>=1.0 in /usr/local/lib/python3.10/dist-packages (from aiohttp->gradio==3.28.3) (1.9.2)\n",
            "Requirement already satisfied: frozenlist>=1.1.1 in /usr/local/lib/python3.10/dist-packages (from aiohttp->gradio==3.28.3) (1.3.3)\n",
            "Requirement already satisfied: aiosignal>=1.1.2 in /usr/local/lib/python3.10/dist-packages (from aiohttp->gradio==3.28.3) (1.3.1)\n",
            "Requirement already satisfied: starlette<0.28.0,>=0.27.0 in /usr/local/lib/python3.10/dist-packages (from fastapi->gradio==3.28.3) (0.27.0)\n",
            "Requirement already satisfied: httpcore<0.18.0,>=0.15.0 in /usr/local/lib/python3.10/dist-packages (from httpx->gradio==3.28.3) (0.17.2)\n",
            "Requirement already satisfied: sniffio in /usr/local/lib/python3.10/dist-packages (from httpx->gradio==3.28.3) (1.3.0)\n",
            "Requirement already satisfied: contourpy>=1.0.1 in /usr/local/lib/python3.10/dist-packages (from matplotlib->gradio==3.28.3) (1.0.7)\n",
            "Requirement already satisfied: cycler>=0.10 in /usr/local/lib/python3.10/dist-packages (from matplotlib->gradio==3.28.3) (0.11.0)\n",
            "Requirement already satisfied: fonttools>=4.22.0 in /usr/local/lib/python3.10/dist-packages (from matplotlib->gradio==3.28.3) (4.39.3)\n",
            "Requirement already satisfied: kiwisolver>=1.0.1 in /usr/local/lib/python3.10/dist-packages (from matplotlib->gradio==3.28.3) (1.4.4)\n",
            "Requirement already satisfied: pyparsing>=2.3.1 in /usr/local/lib/python3.10/dist-packages (from matplotlib->gradio==3.28.3) (3.0.9)\n",
            "Requirement already satisfied: h11>=0.8 in /usr/local/lib/python3.10/dist-packages (from uvicorn->gradio==3.28.3) (0.14.0)\n",
            "Requirement already satisfied: anyio<5.0,>=3.0 in /usr/local/lib/python3.10/dist-packages (from httpcore<0.18.0,>=0.15.0->httpx->gradio==3.28.3) (3.6.2)\n",
            "Requirement already satisfied: pyrsistent!=0.17.0,!=0.17.1,!=0.17.2,>=0.14.0 in /usr/local/lib/python3.10/dist-packages (from jsonschema>=3.0->altair>=4.2.0->gradio==3.28.3) (0.19.3)\n",
            "Requirement already satisfied: uc-micro-py in /usr/local/lib/python3.10/dist-packages (from linkify-it-py<3,>=1->markdown-it-py[linkify]>=2.0.0->gradio==3.28.3) (1.0.2)\n",
            "Requirement already satisfied: six>=1.5 in /usr/local/lib/python3.10/dist-packages (from python-dateutil>=2.8.1->pandas->gradio==3.28.3) (1.16.0)\n"
          ]
        }
      ]
    },
    {
      "cell_type": "code",
      "execution_count": 3,
      "metadata": {
        "id": "FMVkngIi3hNP"
      },
      "outputs": [],
      "source": [
        "import os\n",
        "import sys\n",
        "import requests\n",
        "import gradio as gr\n",
        "\n",
        "from gtts import gTTS\n",
        "from PyPDF2 import PdfReader\n",
        "\n",
        "from langchain.llms import OpenAI\n",
        "from langchain.vectorstores import FAISS\n",
        "from langchain.callbacks import get_openai_callback\n",
        "from langchain.text_splitter import CharacterTextSplitter\n",
        "from langchain.embeddings.openai import OpenAIEmbeddings\n",
        "from langchain.chains.question_answering import load_qa_chain"
      ]
    },
    {
      "cell_type": "code",
      "source": [
        "from google.colab import drive\n",
        "drive.mount('/content/gdrive')"
      ],
      "metadata": {
        "colab": {
          "base_uri": "https://localhost:8080/"
        },
        "id": "kKq-mccx5QPM",
        "outputId": "095e0996-b67b-41e1-fc4a-a2f65a5308ea"
      },
      "execution_count": 4,
      "outputs": [
        {
          "output_type": "stream",
          "name": "stdout",
          "text": [
            "Drive already mounted at /content/gdrive; to attempt to forcibly remount, call drive.mount(\"/content/gdrive\", force_remount=True).\n"
          ]
        }
      ]
    },
    {
      "cell_type": "code",
      "source": [
        "path = '/content/gdrive/MyDrive/Colab Notebooks/Inteligencia Artificial/Q&A/'\n",
        "sys.path.append(path)"
      ],
      "metadata": {
        "id": "sRkp1ugS5X03"
      },
      "execution_count": 5,
      "outputs": []
    },
    {
      "cell_type": "code",
      "source": [
        "from config import api_key_openai\n",
        "\n",
        "os.environ[\"OPENAI_API_KEY\"] = api_key_openai"
      ],
      "metadata": {
        "id": "G50KQqWV5hUb"
      },
      "execution_count": 6,
      "outputs": []
    },
    {
      "cell_type": "code",
      "source": [
        "def get_pdf_from_url(url):\n",
        "    response = requests.get(url=url, timeout=120)\n",
        "    with open('document.pdf', 'wb') as file:\n",
        "        file.write(response.content)\n",
        "    return 'document.pdf'"
      ],
      "metadata": {
        "id": "UXYcC92T3m0u"
      },
      "execution_count": 7,
      "outputs": []
    },
    {
      "cell_type": "code",
      "source": [
        "def questiondocument(user_question, url):\n",
        "    document = get_pdf_from_url(url)\n",
        "    pdf_reader = PdfReader(document)\n",
        "    text = \"\"\n",
        "    for page in pdf_reader.pages:\n",
        "        text += page.extract_text()\n",
        "        \n",
        "    text_splitter = CharacterTextSplitter(separator=\"\\n\", chunk_size=1000, chunk_overlap=200, length_function=len)\n",
        "    chunks = text_splitter.split_text(text)\n",
        "      \n",
        "    embeddings = OpenAIEmbeddings()\n",
        "    knowledge_base = FAISS.from_texts(chunks, embeddings)\n",
        "    docs = knowledge_base.similarity_search(user_question)\n",
        "        \n",
        "    llm = OpenAI(model_name=\"gpt-3.5-turbo\")\n",
        "    chain = load_qa_chain(llm, chain_type=\"stuff\")\n",
        "    with get_openai_callback() as cb:\n",
        "        response = chain.run(input_documents=docs, question=user_question)\n",
        "\n",
        "    audio = gTTS(response, lang='es', tld='com.mx', slow=False)\n",
        "    audio.save(\"output.mp3\")\n",
        "    cost = cb\n",
        "\n",
        "    return response, \"output.mp3\""
      ],
      "metadata": {
        "id": "YOoo8DWv4fp_"
      },
      "execution_count": 8,
      "outputs": []
    },
    {
      "cell_type": "code",
      "source": [
        "demo = gr.Interface(fn=questiondocument, inputs=[\"text\", \"text\"], outputs=[\"text\", \"audio\"])\n",
        "demo.launch(share=True, debug=False)"
      ],
      "metadata": {
        "colab": {
          "base_uri": "https://localhost:8080/",
          "height": 591
        },
        "id": "xl7vfaAu4jkY",
        "outputId": "db776a9c-1166-442d-f5d5-79b38688894f"
      },
      "execution_count": 9,
      "outputs": [
        {
          "output_type": "stream",
          "name": "stdout",
          "text": [
            "Colab notebook detected. To show errors in colab notebook, set debug=True in launch()\n",
            "Running on public URL: https://e180a3f55fdc170dab.gradio.live\n",
            "\n",
            "This share link expires in 72 hours. For free permanent hosting and GPU upgrades (NEW!), check out Spaces: https://huggingface.co/spaces\n"
          ]
        },
        {
          "output_type": "display_data",
          "data": {
            "text/plain": [
              "<IPython.core.display.HTML object>"
            ],
            "text/html": [
              "<div><iframe src=\"https://e180a3f55fdc170dab.gradio.live\" width=\"100%\" height=\"500\" allow=\"autoplay; camera; microphone; clipboard-read; clipboard-write;\" frameborder=\"0\" allowfullscreen></iframe></div>"
            ]
          },
          "metadata": {}
        },
        {
          "output_type": "execute_result",
          "data": {
            "text/plain": []
          },
          "metadata": {},
          "execution_count": 9
        }
      ]
    },
    {
      "cell_type": "markdown",
      "source": [
        "* Enlace al paper original en formato PDF: https://arxiv.org/pdf/1706.03762.pdf\n",
        "* Enlace al modo lectura: https://ar5iv.labs.arxiv.org/html/1706.03762"
      ],
      "metadata": {
        "id": "4lk-7pGmhoPU"
      }
    },
    {
      "cell_type": "markdown",
      "source": [
        "Preguntas sugeridas:\n",
        "\n",
        "1. ¿Cuál es la estructura básica del modelo Transformer y cómo se compone?\n",
        "2. ¿Cómo se representa una secuencia de entrada en el modelo Transformer?\n",
        "3. ¿Cuál es el propósito de la función de atención y cómo se calcula en el Transformer?\n",
        "4. ¿Cómo se implementa la autoatención en el Transformer y cuáles son sus ventajas?\n",
        "5. ¿Cuál es la función de las capas de codificación y decodificación en el modelo Transformer?\n",
        "6. ¿Cómo se lleva a cabo la propagación hacia adelante (forward propagation) en el Transformer?\n",
        "7. ¿Cuál es el papel de la máscara de atención en el proceso de decodificación?\n",
        "8. ¿Cómo se realiza el aprendizaje del modelo Transformer y cuál es la función de pérdida utilizada?\n",
        "9. ¿Cuáles son los hiperparámetros clave que afectan el rendimiento y la capacidad del modelo Transformer?\n",
        "10. ¿Qué resultados y experimentos se presentan en el artículo para validar la eficacia del modelo Transformer en comparación con otros enfoques existentes?"
      ],
      "metadata": {
        "id": "-C2B4GRYhXin"
      }
    },
    {
      "cell_type": "markdown",
      "source": [
        "![Transformador detallado](https://deepfrench.gitlab.io/deep-learning-project/resources/transformer.png)"
      ],
      "metadata": {
        "id": "b8hmHlykV3KY"
      }
    },
    {
      "cell_type": "markdown",
      "source": [
        "**Referencias**\n",
        "\n",
        "* https://deepfrench.gitlab.io/deep-learning-project/\n",
        "* https://platform.openai.com/docs/models/overview\n",
        "* https://arxiv.org/pdf/1706.03762.pdf\n",
        "* https://jalammar.github.io/illustrated-transformer/\n",
        "* https://youtu.be/n9sLZPLOxG8\n",
        "* https://gtts.readthedocs.io/en/latest/module.html#module-gtts.lang"
      ],
      "metadata": {
        "id": "Is59cRjcTa69"
      }
    }
  ]
}