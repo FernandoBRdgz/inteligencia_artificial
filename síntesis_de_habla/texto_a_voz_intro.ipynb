{
  "nbformat": 4,
  "nbformat_minor": 0,
  "metadata": {
    "colab": {
      "provenance": [],
      "authorship_tag": "ABX9TyMX4HE6rgxsq3QSKS3zjVZD",
      "include_colab_link": true
    },
    "kernelspec": {
      "name": "python3",
      "display_name": "Python 3"
    },
    "language_info": {
      "name": "python"
    }
  },
  "cells": [
    {
      "cell_type": "markdown",
      "metadata": {
        "id": "view-in-github",
        "colab_type": "text"
      },
      "source": [
        "<a href=\"https://colab.research.google.com/github/FernandoBRdgz/inteligencia_artificial/blob/main/s%C3%ADntesis_de_habla/texto_a_voz_intro.ipynb\" target=\"_parent\"><img src=\"https://colab.research.google.com/assets/colab-badge.svg\" alt=\"Open In Colab\"/></a>"
      ]
    },
    {
      "cell_type": "markdown",
      "source": [
        "### Introducción\n",
        "\n",
        "En términos generales, la síntesis de voz implica la conversión de texto en habla mediante un software especializado que utiliza técnicas de procesamiento de lenguaje natural y procesamiento de señales de audio. El proceso de síntesis de voz puede ser dividido en los siguientes pasos:\n",
        "\n",
        "Análisis del texto: en esta etapa, el texto a ser sintetizado es analizado para determinar su estructura lingüística y sintáctica. Este análisis puede incluir la identificación de las palabras, la sintaxis, la entonación, la prosodia y otras características del lenguaje.\n",
        "\n",
        "Generación de la representación fonética: se crea una representación fonética del texto, que consiste en una secuencia de símbolos fonéticos que representan los sonidos del habla. Esta representación es utilizada para generar la forma de onda de la voz.\n",
        "\n",
        "Síntesis de la voz: se utiliza un motor de síntesis de voz para generar una forma de onda de audio que representa el habla sintética. El motor de síntesis de voz puede utilizar diferentes técnicas, como la síntesis por concatenación, la síntesis por formantes o la síntesis estadística.\n",
        "\n",
        "Post-procesamiento: se aplican técnicas de post-procesamiento para mejorar la calidad de la síntesis de voz, como la reducción del ruido, la normalización del volumen y la eliminación de artefactos."
      ],
      "metadata": {
        "id": "TOzJ0tFoM3Pn"
      }
    },
    {
      "cell_type": "markdown",
      "source": [
        "---\n",
        "\n",
        "Primeramente, se instalan las dependencias de Linux"
      ],
      "metadata": {
        "id": "bza6vknNOcc4"
      }
    },
    {
      "cell_type": "code",
      "source": [
        "!sudo apt-get install libcairo2-dev libjpeg-dev libgif-dev"
      ],
      "metadata": {
        "colab": {
          "base_uri": "https://localhost:8080/"
        },
        "id": "GaMGdvuv6jGU",
        "outputId": "3c14c6ab-d1d5-489f-d26c-0d4e0852defb"
      },
      "execution_count": null,
      "outputs": [
        {
          "output_type": "stream",
          "name": "stdout",
          "text": [
            "Reading package lists... Done\n",
            "Building dependency tree       \n",
            "Reading state information... Done\n",
            "libcairo2-dev is already the newest version (1.16.0-4ubuntu1).\n",
            "libgif-dev is already the newest version (5.1.9-1).\n",
            "libjpeg-dev is already the newest version (8c-2ubuntu8).\n",
            "0 upgraded, 0 newly installed, 0 to remove and 23 not upgraded.\n"
          ]
        }
      ]
    },
    {
      "cell_type": "code",
      "execution_count": null,
      "metadata": {
        "colab": {
          "base_uri": "https://localhost:8080/"
        },
        "id": "MWPOuYaQuUl4",
        "outputId": "0646781b-57c5-4735-ed3d-f3d68772c93d"
      },
      "outputs": [
        {
          "output_type": "stream",
          "name": "stdout",
          "text": [
            "Looking in indexes: https://pypi.org/simple, https://us-python.pkg.dev/colab-wheels/public/simple/\n",
            "Requirement already satisfied: gTTS in /usr/local/lib/python3.9/dist-packages (2.3.1)\n",
            "Requirement already satisfied: playsound in /usr/local/lib/python3.9/dist-packages (1.3.0)\n",
            "Requirement already satisfied: pygobject in /usr/lib/python3/dist-packages (3.36.0)\n",
            "Requirement already satisfied: pydub in /usr/local/lib/python3.9/dist-packages (0.25.1)\n",
            "Requirement already satisfied: click<8.2,>=7.1 in /usr/local/lib/python3.9/dist-packages (from gTTS) (8.1.3)\n",
            "Requirement already satisfied: requests<3,>=2.27 in /usr/local/lib/python3.9/dist-packages (from gTTS) (2.27.1)\n",
            "Requirement already satisfied: pycairo>=1.11.1 in /usr/local/lib/python3.9/dist-packages (from pygobject) (1.23.0)\n",
            "Requirement already satisfied: urllib3<1.27,>=1.21.1 in /usr/local/lib/python3.9/dist-packages (from requests<3,>=2.27->gTTS) (1.26.15)\n",
            "Requirement already satisfied: charset-normalizer~=2.0.0 in /usr/local/lib/python3.9/dist-packages (from requests<3,>=2.27->gTTS) (2.0.12)\n",
            "Requirement already satisfied: certifi>=2017.4.17 in /usr/local/lib/python3.9/dist-packages (from requests<3,>=2.27->gTTS) (2022.12.7)\n",
            "Requirement already satisfied: idna<4,>=2.5 in /usr/local/lib/python3.9/dist-packages (from requests<3,>=2.27->gTTS) (3.4)\n"
          ]
        }
      ],
      "source": [
        "!pip install gTTS playsound pygobject pydub"
      ]
    },
    {
      "cell_type": "markdown",
      "source": [
        "La librería gTTS (Google Text-to-Speech) es una herramienta de síntesis de voz para Python que permite generar archivos de audio a partir de texto utilizando la tecnología de síntesis de voz de Google. Internamente, la librería funciona de la siguiente manera:\n",
        "\n",
        "Conversión de texto a URL: cuando se proporciona un texto como entrada, la librería gTTS lo convierte en una URL de solicitud HTTP para enviarlo a los servidores de Google.\n",
        "\n",
        "Solicitud HTTP: la URL generada es utilizada para enviar una solicitud HTTP a los servidores de Google, que responden con una pista de audio codificada en MP3.\n",
        "\n",
        "Decodificación de audio: una vez que se recibe la respuesta de los servidores de Google, la librería gTTS decodifica la pista de audio MP3 utilizando una librería Python llamada \"pydub\".\n",
        "\n",
        "Almacenamiento del audio: finalmente, la librería gTTS almacena el audio decodificado en un archivo de audio en formato WAV, que puede ser reproducido o utilizado como se desee."
      ],
      "metadata": {
        "id": "ZPKsonhQN8O2"
      }
    },
    {
      "cell_type": "code",
      "source": [
        "import os\n",
        "from gtts import gTTS\n",
        "from playsound import playsound"
      ],
      "metadata": {
        "colab": {
          "base_uri": "https://localhost:8080/"
        },
        "id": "nIeG3Ub9ungX",
        "outputId": "82bb6e74-743c-434f-ab86-446edfe6c738"
      },
      "execution_count": null,
      "outputs": [
        {
          "output_type": "stream",
          "name": "stderr",
          "text": [
            "WARNING:playsound:playsound is relying on another python subprocess. Please use `pip install pygobject` if you want playsound to run more efficiently.\n"
          ]
        }
      ]
    },
    {
      "cell_type": "code",
      "source": [
        "from gtts import gTTS\n",
        "from IPython.display import Audio\n",
        "from io import BytesIO\n",
        "\n",
        "def texto_a_audio(texto):\n",
        "    tts = gTTS(texto, lang='es-us')\n",
        "    archivo_mp3 = BytesIO()\n",
        "    tts.write_to_fp(archivo_mp3)\n",
        "    archivo_mp3.seek(0)\n",
        "    return Audio(archivo_mp3, autoplay=True)"
      ],
      "metadata": {
        "id": "hLVXr6da5ciA"
      },
      "execution_count": null,
      "outputs": []
    },
    {
      "cell_type": "code",
      "source": [
        "from gtts import gTTS\n",
        "from io import BytesIO\n",
        "from pydub import AudioSegment\n",
        "\n",
        "def texto_a_audio(texto):\n",
        "    # Generar el audio\n",
        "    audio_bytes = BytesIO()\n",
        "    tts = gTTS(text=texto, lang='es')\n",
        "    tts.write_to_fp(audio_bytes)\n",
        "\n",
        "    # Guardar el audio temporalmente en el disco\n",
        "    with open('audio.mp3', 'wb') as f:\n",
        "        f.write(audio_bytes.getbuffer())\n",
        "\n",
        "    # Cargar el audio desde el archivo temporal con pydub\n",
        "    audio = AudioSegment.from_file('audio.mp3', format='mp3')\n",
        "\n",
        "    # Devolver el audio cargado\n",
        "    return audio"
      ],
      "metadata": {
        "id": "Q-HaghVb5vg7"
      },
      "execution_count": null,
      "outputs": []
    },
    {
      "cell_type": "code",
      "source": [
        "texto_a_audio('Hola, esto es un ejemplo de texto convertido a audio')"
      ],
      "metadata": {
        "colab": {
          "base_uri": "https://localhost:8080/",
          "height": 75
        },
        "id": "ZLLZ3g8n5FS1",
        "outputId": "c91853cf-2a80-4681-ebb9-4e100e5c8114"
      },
      "execution_count": null,
      "outputs": [
        {
          "output_type": "execute_result",
          "data": {
            "text/plain": [
              "<pydub.audio_segment.AudioSegment at 0x7f71e6d807f0>"
            ],
            "text/html": [
              "\n",
              "                    <audio controls>\n",
              "                        <source src=\"data:audio/mpeg;base64,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\" type=\"audio/mpeg\"/>\n",
              "                        Your browser does not support the audio element.\n",
              "                    </audio>\n",
              "                  "
            ]
          },
          "metadata": {},
          "execution_count": 6
        }
      ]
    },
    {
      "cell_type": "code",
      "source": [
        "!sudo apt-get install espeak"
      ],
      "metadata": {
        "colab": {
          "base_uri": "https://localhost:8080/"
        },
        "id": "GUfRxaXH_Gho",
        "outputId": "c7e1ea22-9317-496b-9746-38fdbf31ebca"
      },
      "execution_count": null,
      "outputs": [
        {
          "output_type": "stream",
          "name": "stdout",
          "text": [
            "Reading package lists... Done\n",
            "Building dependency tree       \n",
            "Reading state information... Done\n",
            "espeak is already the newest version (1.48.04+dfsg-8build1).\n",
            "0 upgraded, 0 newly installed, 0 to remove and 23 not upgraded.\n"
          ]
        }
      ]
    },
    {
      "cell_type": "code",
      "source": [
        "!pip install pyttsx3"
      ],
      "metadata": {
        "colab": {
          "base_uri": "https://localhost:8080/"
        },
        "id": "lzsDCKZe-uNj",
        "outputId": "c1b4585b-5ac4-4296-a5f6-c2fd54d38bdd"
      },
      "execution_count": null,
      "outputs": [
        {
          "output_type": "stream",
          "name": "stdout",
          "text": [
            "Looking in indexes: https://pypi.org/simple, https://us-python.pkg.dev/colab-wheels/public/simple/\n",
            "Requirement already satisfied: pyttsx3 in /usr/local/lib/python3.9/dist-packages (2.90)\n"
          ]
        }
      ]
    },
    {
      "cell_type": "code",
      "source": [
        "import pyttsx3\n",
        "\n",
        "def texto_a_audio(texto):\n",
        "    # Crear el objeto de la librería pyttsx3\n",
        "    engine = pyttsx3.init()\n",
        "\n",
        "    # Establecer la voz a utilizar (en este caso, la voz de español)\n",
        "    voices = engine.getProperty('voices')\n",
        "    engine.setProperty('voice', voices[22].id)\n",
        "\n",
        "    # Generar el audio\n",
        "    audio_bytes = BytesIO()\n",
        "    engine.save_to_file(texto, 'audio.mp3')\n",
        "    engine.runAndWait()\n",
        "\n",
        "    # Cargar el audio generado\n",
        "    audio = AudioSegment.from_file('audio.mp3', format='mp3')\n",
        "\n",
        "    # Devolver el audio cargado\n",
        "    return audio"
      ],
      "metadata": {
        "id": "a95ECVFQ7Uwo"
      },
      "execution_count": null,
      "outputs": []
    },
    {
      "cell_type": "code",
      "source": [
        "texto_a_audio('Hola, esto es un ejemplo de texto convertido a audio')"
      ],
      "metadata": {
        "colab": {
          "base_uri": "https://localhost:8080/",
          "height": 75
        },
        "id": "OhXq4Y9L-r8L",
        "outputId": "7ff5d6e8-c698-4bed-9db2-236584a6541f"
      },
      "execution_count": null,
      "outputs": [
        {
          "output_type": "execute_result",
          "data": {
            "text/plain": [
              "<pydub.audio_segment.AudioSegment at 0x7f71e6d80a60>"
            ],
            "text/html": [
              "\n",
              "                    <audio controls>\n",
              "                        <source src=\"data:audio/mpeg;base64,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\" type=\"audio/mpeg\"/>\n",
              "                        Your browser does not support the audio element.\n",
              "                    </audio>\n",
              "                  "
            ]
          },
          "metadata": {},
          "execution_count": 10
        }
      ]
    },
    {
      "cell_type": "code",
      "source": [
        "import pyttsx3\n",
        "\n",
        "def texto_a_audio(texto):\n",
        "    # Crear el objeto de la librería pyttsx3\n",
        "    engine = pyttsx3.init()\n",
        "\n",
        "    # Establecer la voz a utilizar (en este caso, la voz masculina de español de España)\n",
        "    voices = engine.getProperty('voices')\n",
        "    engine.setProperty('voice', voices[-30].id)\n",
        "\n",
        "    # Generar el audio\n",
        "    audio_bytes = BytesIO()\n",
        "    engine.save_to_file(texto, 'audio.mp3')\n",
        "    engine.runAndWait()\n",
        "\n",
        "    # Cargar el audio generado\n",
        "    audio = AudioSegment.from_file('audio.mp3', format='mp3')\n",
        "\n",
        "    # Devolver el audio cargado\n",
        "    return audio"
      ],
      "metadata": {
        "id": "habWrtW2-6NX"
      },
      "execution_count": null,
      "outputs": []
    },
    {
      "cell_type": "code",
      "source": [
        "texto_a_audio('Hola, esto es un ejemplo de texto convertido a audio')"
      ],
      "metadata": {
        "colab": {
          "base_uri": "https://localhost:8080/",
          "height": 75
        },
        "id": "XCmKyo85_auZ",
        "outputId": "3ea8ce85-9a9a-44d9-e465-070ca8ab5125"
      },
      "execution_count": null,
      "outputs": [
        {
          "output_type": "execute_result",
          "data": {
            "text/plain": [
              "<pydub.audio_segment.AudioSegment at 0x7f71e6d14b80>"
            ],
            "text/html": [
              "\n",
              "                    <audio controls>\n",
              "                        <source src=\"data:audio/mpeg;base64,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\" type=\"audio/mpeg\"/>\n",
              "                        Your browser does not support the audio element.\n",
              "                    </audio>\n",
              "                  "
            ]
          },
          "metadata": {},
          "execution_count": 12
        }
      ]
    },
    {
      "cell_type": "code",
      "source": [
        "import pyttsx3\n",
        "\n",
        "# Crear el objeto de la librería pyttsx3\n",
        "engine = pyttsx3.init()\n",
        "\n",
        "# Imprimir la lista de voces disponibles\n",
        "for voice in engine.getProperty('voices'):\n",
        "    print(voice)"
      ],
      "metadata": {
        "colab": {
          "base_uri": "https://localhost:8080/"
        },
        "id": "fJu6ONbb_c2V",
        "outputId": "7f38f14e-f8a5-4179-cee9-8f3e7a65b1d6"
      },
      "execution_count": null,
      "outputs": [
        {
          "output_type": "stream",
          "name": "stdout",
          "text": [
            "<Voice id=afrikaans\n",
            "          name=afrikaans\n",
            "          languages=[b'\\x05af']\n",
            "          gender=male\n",
            "          age=None>\n",
            "<Voice id=aragonese\n",
            "          name=aragonese\n",
            "          languages=[b'\\x05an']\n",
            "          gender=male\n",
            "          age=None>\n",
            "<Voice id=bulgarian\n",
            "          name=bulgarian\n",
            "          languages=[b'\\x05bg']\n",
            "          gender=None\n",
            "          age=None>\n",
            "<Voice id=bosnian\n",
            "          name=bosnian\n",
            "          languages=[b'\\x05bs']\n",
            "          gender=male\n",
            "          age=None>\n",
            "<Voice id=catalan\n",
            "          name=catalan\n",
            "          languages=[b'\\x05ca']\n",
            "          gender=male\n",
            "          age=None>\n",
            "<Voice id=czech\n",
            "          name=czech\n",
            "          languages=[b'\\x05cs']\n",
            "          gender=male\n",
            "          age=None>\n",
            "<Voice id=welsh\n",
            "          name=welsh\n",
            "          languages=[b'\\x05cy']\n",
            "          gender=male\n",
            "          age=None>\n",
            "<Voice id=danish\n",
            "          name=danish\n",
            "          languages=[b'\\x05da']\n",
            "          gender=male\n",
            "          age=None>\n",
            "<Voice id=german\n",
            "          name=german\n",
            "          languages=[b'\\x05de']\n",
            "          gender=male\n",
            "          age=None>\n",
            "<Voice id=greek\n",
            "          name=greek\n",
            "          languages=[b'\\x05el']\n",
            "          gender=male\n",
            "          age=None>\n",
            "<Voice id=default\n",
            "          name=default\n",
            "          languages=[b'\\x05en']\n",
            "          gender=male\n",
            "          age=None>\n",
            "<Voice id=english\n",
            "          name=english\n",
            "          languages=[b'\\x02en-gb']\n",
            "          gender=male\n",
            "          age=None>\n",
            "<Voice id=en-scottish\n",
            "          name=en-scottish\n",
            "          languages=[b'\\x05en-sc']\n",
            "          gender=male\n",
            "          age=None>\n",
            "<Voice id=english-north\n",
            "          name=english-north\n",
            "          languages=[b'\\x05en-uk-north']\n",
            "          gender=male\n",
            "          age=None>\n",
            "<Voice id=english_rp\n",
            "          name=english_rp\n",
            "          languages=[b'\\x05en-uk-rp']\n",
            "          gender=male\n",
            "          age=None>\n",
            "<Voice id=english_wmids\n",
            "          name=english_wmids\n",
            "          languages=[b'\\x05en-uk-wmids']\n",
            "          gender=male\n",
            "          age=None>\n",
            "<Voice id=english-us\n",
            "          name=english-us\n",
            "          languages=[b'\\x02en-us']\n",
            "          gender=male\n",
            "          age=None>\n",
            "<Voice id=en-westindies\n",
            "          name=en-westindies\n",
            "          languages=[b'\\x05en-wi']\n",
            "          gender=male\n",
            "          age=None>\n",
            "<Voice id=esperanto\n",
            "          name=esperanto\n",
            "          languages=[b'\\x05eo']\n",
            "          gender=male\n",
            "          age=None>\n",
            "<Voice id=spanish\n",
            "          name=spanish\n",
            "          languages=[b'\\x05es']\n",
            "          gender=male\n",
            "          age=None>\n",
            "<Voice id=spanish-latin-am\n",
            "          name=spanish-latin-am\n",
            "          languages=[b'\\x05es-la']\n",
            "          gender=male\n",
            "          age=None>\n",
            "<Voice id=estonian\n",
            "          name=estonian\n",
            "          languages=[b'\\x05et']\n",
            "          gender=None\n",
            "          age=None>\n",
            "<Voice id=persian\n",
            "          name=persian\n",
            "          languages=[b'\\x05fa']\n",
            "          gender=None\n",
            "          age=None>\n",
            "<Voice id=persian-pinglish\n",
            "          name=persian-pinglish\n",
            "          languages=[b'\\x05fa-pin']\n",
            "          gender=None\n",
            "          age=None>\n",
            "<Voice id=finnish\n",
            "          name=finnish\n",
            "          languages=[b'\\x05fi']\n",
            "          gender=male\n",
            "          age=None>\n",
            "<Voice id=french-Belgium\n",
            "          name=french-Belgium\n",
            "          languages=[b'\\x05fr-be']\n",
            "          gender=male\n",
            "          age=None>\n",
            "<Voice id=french\n",
            "          name=french\n",
            "          languages=[b'\\x05fr-fr']\n",
            "          gender=male\n",
            "          age=None>\n",
            "<Voice id=irish-gaeilge\n",
            "          name=irish-gaeilge\n",
            "          languages=[b'\\x05ga']\n",
            "          gender=None\n",
            "          age=None>\n",
            "<Voice id=greek-ancient\n",
            "          name=greek-ancient\n",
            "          languages=[b'\\x05grc']\n",
            "          gender=male\n",
            "          age=None>\n",
            "<Voice id=hindi\n",
            "          name=hindi\n",
            "          languages=[b'\\x05hi']\n",
            "          gender=male\n",
            "          age=None>\n",
            "<Voice id=croatian\n",
            "          name=croatian\n",
            "          languages=[b'\\x05hr']\n",
            "          gender=male\n",
            "          age=None>\n",
            "<Voice id=hungarian\n",
            "          name=hungarian\n",
            "          languages=[b'\\x05hu']\n",
            "          gender=male\n",
            "          age=None>\n",
            "<Voice id=armenian\n",
            "          name=armenian\n",
            "          languages=[b'\\x05hy']\n",
            "          gender=male\n",
            "          age=None>\n",
            "<Voice id=armenian-west\n",
            "          name=armenian-west\n",
            "          languages=[b'\\x05hy-west']\n",
            "          gender=male\n",
            "          age=None>\n",
            "<Voice id=indonesian\n",
            "          name=indonesian\n",
            "          languages=[b'\\x05id']\n",
            "          gender=male\n",
            "          age=None>\n",
            "<Voice id=icelandic\n",
            "          name=icelandic\n",
            "          languages=[b'\\x05is']\n",
            "          gender=male\n",
            "          age=None>\n",
            "<Voice id=italian\n",
            "          name=italian\n",
            "          languages=[b'\\x05it']\n",
            "          gender=male\n",
            "          age=None>\n",
            "<Voice id=lojban\n",
            "          name=lojban\n",
            "          languages=[b'\\x05jbo']\n",
            "          gender=None\n",
            "          age=None>\n",
            "<Voice id=georgian\n",
            "          name=georgian\n",
            "          languages=[b'\\x05ka']\n",
            "          gender=None\n",
            "          age=None>\n",
            "<Voice id=kannada\n",
            "          name=kannada\n",
            "          languages=[b'\\x05kn']\n",
            "          gender=None\n",
            "          age=None>\n",
            "<Voice id=kurdish\n",
            "          name=kurdish\n",
            "          languages=[b'\\x05ku']\n",
            "          gender=male\n",
            "          age=None>\n",
            "<Voice id=latin\n",
            "          name=latin\n",
            "          languages=[b'\\x05la']\n",
            "          gender=male\n",
            "          age=None>\n",
            "<Voice id=lingua_franca_nova\n",
            "          name=lingua_franca_nova\n",
            "          languages=[b'\\x05lfn']\n",
            "          gender=male\n",
            "          age=None>\n",
            "<Voice id=lithuanian\n",
            "          name=lithuanian\n",
            "          languages=[b'\\x05lt']\n",
            "          gender=male\n",
            "          age=None>\n",
            "<Voice id=latvian\n",
            "          name=latvian\n",
            "          languages=[b'\\x05lv']\n",
            "          gender=male\n",
            "          age=None>\n",
            "<Voice id=macedonian\n",
            "          name=macedonian\n",
            "          languages=[b'\\x05mk']\n",
            "          gender=male\n",
            "          age=None>\n",
            "<Voice id=malayalam\n",
            "          name=malayalam\n",
            "          languages=[b'\\x05ml']\n",
            "          gender=male\n",
            "          age=None>\n",
            "<Voice id=malay\n",
            "          name=malay\n",
            "          languages=[b'\\x05ms']\n",
            "          gender=male\n",
            "          age=None>\n",
            "<Voice id=nepali\n",
            "          name=nepali\n",
            "          languages=[b'\\x05ne']\n",
            "          gender=male\n",
            "          age=None>\n",
            "<Voice id=dutch\n",
            "          name=dutch\n",
            "          languages=[b'\\x05nl']\n",
            "          gender=male\n",
            "          age=None>\n",
            "<Voice id=norwegian\n",
            "          name=norwegian\n",
            "          languages=[b'\\x05no']\n",
            "          gender=male\n",
            "          age=None>\n",
            "<Voice id=punjabi\n",
            "          name=punjabi\n",
            "          languages=[b'\\x05pa']\n",
            "          gender=None\n",
            "          age=None>\n",
            "<Voice id=polish\n",
            "          name=polish\n",
            "          languages=[b'\\x05pl']\n",
            "          gender=male\n",
            "          age=None>\n",
            "<Voice id=brazil\n",
            "          name=brazil\n",
            "          languages=[b'\\x05pt-br']\n",
            "          gender=male\n",
            "          age=None>\n",
            "<Voice id=portugal\n",
            "          name=portugal\n",
            "          languages=[b'\\x05pt-pt']\n",
            "          gender=male\n",
            "          age=None>\n",
            "<Voice id=romanian\n",
            "          name=romanian\n",
            "          languages=[b'\\x05ro']\n",
            "          gender=male\n",
            "          age=None>\n",
            "<Voice id=russian\n",
            "          name=russian\n",
            "          languages=[b'\\x05ru']\n",
            "          gender=male\n",
            "          age=None>\n",
            "<Voice id=slovak\n",
            "          name=slovak\n",
            "          languages=[b'\\x05sk']\n",
            "          gender=male\n",
            "          age=None>\n",
            "<Voice id=albanian\n",
            "          name=albanian\n",
            "          languages=[b'\\x05sq']\n",
            "          gender=male\n",
            "          age=None>\n",
            "<Voice id=serbian\n",
            "          name=serbian\n",
            "          languages=[b'\\x05sr']\n",
            "          gender=male\n",
            "          age=None>\n",
            "<Voice id=swedish\n",
            "          name=swedish\n",
            "          languages=[b'\\x05sv']\n",
            "          gender=male\n",
            "          age=None>\n",
            "<Voice id=swahili-test\n",
            "          name=swahili-test\n",
            "          languages=[b'\\x05sw']\n",
            "          gender=male\n",
            "          age=None>\n",
            "<Voice id=tamil\n",
            "          name=tamil\n",
            "          languages=[b'\\x05ta']\n",
            "          gender=male\n",
            "          age=None>\n",
            "<Voice id=turkish\n",
            "          name=turkish\n",
            "          languages=[b'\\x05tr']\n",
            "          gender=male\n",
            "          age=None>\n",
            "<Voice id=vietnam\n",
            "          name=vietnam\n",
            "          languages=[b'\\x05vi']\n",
            "          gender=male\n",
            "          age=None>\n",
            "<Voice id=vietnam_hue\n",
            "          name=vietnam_hue\n",
            "          languages=[b'\\x05vi-hue']\n",
            "          gender=male\n",
            "          age=None>\n",
            "<Voice id=vietnam_sgn\n",
            "          name=vietnam_sgn\n",
            "          languages=[b'\\x05vi-sgn']\n",
            "          gender=male\n",
            "          age=None>\n",
            "<Voice id=Mandarin\n",
            "          name=Mandarin\n",
            "          languages=[b'\\x05zh']\n",
            "          gender=male\n",
            "          age=None>\n",
            "<Voice id=cantonese\n",
            "          name=cantonese\n",
            "          languages=[b'\\x05zh-yue']\n",
            "          gender=male\n",
            "          age=None>\n"
          ]
        }
      ]
    },
    {
      "cell_type": "code",
      "source": [
        "import pyttsx3\n",
        "\n",
        "def texto_a_audio(texto):\n",
        "    # Crear el objeto de la librería pyttsx3\n",
        "    engine = pyttsx3.init()\n",
        "\n",
        "    # Establecer la voz a utilizar (en este caso, la voz de español de América Latina)\n",
        "    engine.setProperty('voice', 'spanish-latin-am')\n",
        "\n",
        "    # Generar el audio\n",
        "    audio_bytes = BytesIO()\n",
        "    engine.save_to_file(texto, 'audio.mp3')\n",
        "    engine.runAndWait()\n",
        "\n",
        "    # Cargar el audio generado\n",
        "    audio = AudioSegment.from_file('audio.mp3', format='mp3')\n",
        "\n",
        "    # Devolver el audio cargado\n",
        "    return audio"
      ],
      "metadata": {
        "id": "QuITKhZ0AJ0W"
      },
      "execution_count": null,
      "outputs": []
    },
    {
      "cell_type": "code",
      "source": [
        "texto_a_audio('Hola, esto es un ejemplo de texto convertido a audio')"
      ],
      "metadata": {
        "colab": {
          "base_uri": "https://localhost:8080/",
          "height": 75
        },
        "id": "5Np9m-RlAxtN",
        "outputId": "438d276f-e1d1-42d5-9717-681b21b6573e"
      },
      "execution_count": null,
      "outputs": [
        {
          "output_type": "execute_result",
          "data": {
            "text/plain": [
              "<pydub.audio_segment.AudioSegment at 0x7f71e6d14c40>"
            ],
            "text/html": [
              "\n",
              "                    <audio controls>\n",
              "                        <source src=\"data:audio/mpeg;base64,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\" type=\"audio/mpeg\"/>\n",
              "                        Your browser does not support the audio element.\n",
              "                    </audio>\n",
              "                  "
            ]
          },
          "metadata": {},
          "execution_count": 15
        }
      ]
    },
    {
      "cell_type": "markdown",
      "source": [
        "**Por hacer**\n",
        "\n",
        "* Añadir comenarios\n",
        "* Añadir referencias\n",
        "* Mejorar estructura\n",
        "* Limpiar dependencias no usadas"
      ],
      "metadata": {
        "id": "1ENFQ294CHJZ"
      }
    },
    {
      "cell_type": "markdown",
      "source": [
        "**Referencias**\n",
        "\n",
        "* https://github.com/pndurette/gTTS\n",
        "* https://gtts.readthedocs.io/en/latest/\n",
        "* https://towardsdatascience.com/how-to-get-started-with-google-text-to-speech-using-python-485e43d1d544"
      ],
      "metadata": {
        "id": "YQBih9VOOXv6"
      }
    }
  ]
}