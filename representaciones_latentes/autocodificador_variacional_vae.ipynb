{
  "nbformat": 4,
  "nbformat_minor": 0,
  "metadata": {
    "colab": {
      "provenance": [],
      "authorship_tag": "ABX9TyPnhJCRmBHercg3H6ZhJFSU",
      "include_colab_link": true
    },
    "kernelspec": {
      "name": "python3",
      "display_name": "Python 3"
    },
    "language_info": {
      "name": "python"
    },
    "accelerator": "GPU",
    "gpuClass": "standard",
    "widgets": {
      "application/vnd.jupyter.widget-state+json": {
        "8b579fc7b3e44146b1f29c0e8f23ffd3": {
          "model_module": "@jupyter-widgets/controls",
          "model_name": "HBoxModel",
          "model_module_version": "1.5.0",
          "state": {
            "_dom_classes": [],
            "_model_module": "@jupyter-widgets/controls",
            "_model_module_version": "1.5.0",
            "_model_name": "HBoxModel",
            "_view_count": null,
            "_view_module": "@jupyter-widgets/controls",
            "_view_module_version": "1.5.0",
            "_view_name": "HBoxView",
            "box_style": "",
            "children": [
              "IPY_MODEL_11e3f300574c41b8a6608feb74596a7e",
              "IPY_MODEL_e0cb48e5d3814844ba310306f2b0ddac",
              "IPY_MODEL_6b0e630a01e145d38299c4317c8bd913"
            ],
            "layout": "IPY_MODEL_f6bce8059dae4fbba3a78f11798e9eb7"
          }
        },
        "11e3f300574c41b8a6608feb74596a7e": {
          "model_module": "@jupyter-widgets/controls",
          "model_name": "HTMLModel",
          "model_module_version": "1.5.0",
          "state": {
            "_dom_classes": [],
            "_model_module": "@jupyter-widgets/controls",
            "_model_module_version": "1.5.0",
            "_model_name": "HTMLModel",
            "_view_count": null,
            "_view_module": "@jupyter-widgets/controls",
            "_view_module_version": "1.5.0",
            "_view_name": "HTMLView",
            "description": "",
            "description_tooltip": null,
            "layout": "IPY_MODEL_bcc8cd7bc7cd4fafb5a3152f920f2699",
            "placeholder": "​",
            "style": "IPY_MODEL_7592b8c0173b4f72bc91dc4191e841d2",
            "value": "Dl Completed...: 100%"
          }
        },
        "e0cb48e5d3814844ba310306f2b0ddac": {
          "model_module": "@jupyter-widgets/controls",
          "model_name": "FloatProgressModel",
          "model_module_version": "1.5.0",
          "state": {
            "_dom_classes": [],
            "_model_module": "@jupyter-widgets/controls",
            "_model_module_version": "1.5.0",
            "_model_name": "FloatProgressModel",
            "_view_count": null,
            "_view_module": "@jupyter-widgets/controls",
            "_view_module_version": "1.5.0",
            "_view_name": "ProgressView",
            "bar_style": "success",
            "description": "",
            "description_tooltip": null,
            "layout": "IPY_MODEL_2a6a38672a43487aa16c43ec41d0f85d",
            "max": 5,
            "min": 0,
            "orientation": "horizontal",
            "style": "IPY_MODEL_3f2fe6a9aa254e67b4118f6f141dcca3",
            "value": 5
          }
        },
        "6b0e630a01e145d38299c4317c8bd913": {
          "model_module": "@jupyter-widgets/controls",
          "model_name": "HTMLModel",
          "model_module_version": "1.5.0",
          "state": {
            "_dom_classes": [],
            "_model_module": "@jupyter-widgets/controls",
            "_model_module_version": "1.5.0",
            "_model_name": "HTMLModel",
            "_view_count": null,
            "_view_module": "@jupyter-widgets/controls",
            "_view_module_version": "1.5.0",
            "_view_name": "HTMLView",
            "description": "",
            "description_tooltip": null,
            "layout": "IPY_MODEL_3c2a0b3d4ad24c088058255e1ed628c0",
            "placeholder": "​",
            "style": "IPY_MODEL_72ead46520bf4d6d8dbc2999a7cf225c",
            "value": " 5/5 [00:03&lt;00:00,  1.26 file/s]"
          }
        },
        "f6bce8059dae4fbba3a78f11798e9eb7": {
          "model_module": "@jupyter-widgets/base",
          "model_name": "LayoutModel",
          "model_module_version": "1.2.0",
          "state": {
            "_model_module": "@jupyter-widgets/base",
            "_model_module_version": "1.2.0",
            "_model_name": "LayoutModel",
            "_view_count": null,
            "_view_module": "@jupyter-widgets/base",
            "_view_module_version": "1.2.0",
            "_view_name": "LayoutView",
            "align_content": null,
            "align_items": null,
            "align_self": null,
            "border": null,
            "bottom": null,
            "display": null,
            "flex": null,
            "flex_flow": null,
            "grid_area": null,
            "grid_auto_columns": null,
            "grid_auto_flow": null,
            "grid_auto_rows": null,
            "grid_column": null,
            "grid_gap": null,
            "grid_row": null,
            "grid_template_areas": null,
            "grid_template_columns": null,
            "grid_template_rows": null,
            "height": null,
            "justify_content": null,
            "justify_items": null,
            "left": null,
            "margin": null,
            "max_height": null,
            "max_width": null,
            "min_height": null,
            "min_width": null,
            "object_fit": null,
            "object_position": null,
            "order": null,
            "overflow": null,
            "overflow_x": null,
            "overflow_y": null,
            "padding": null,
            "right": null,
            "top": null,
            "visibility": null,
            "width": null
          }
        },
        "bcc8cd7bc7cd4fafb5a3152f920f2699": {
          "model_module": "@jupyter-widgets/base",
          "model_name": "LayoutModel",
          "model_module_version": "1.2.0",
          "state": {
            "_model_module": "@jupyter-widgets/base",
            "_model_module_version": "1.2.0",
            "_model_name": "LayoutModel",
            "_view_count": null,
            "_view_module": "@jupyter-widgets/base",
            "_view_module_version": "1.2.0",
            "_view_name": "LayoutView",
            "align_content": null,
            "align_items": null,
            "align_self": null,
            "border": null,
            "bottom": null,
            "display": null,
            "flex": null,
            "flex_flow": null,
            "grid_area": null,
            "grid_auto_columns": null,
            "grid_auto_flow": null,
            "grid_auto_rows": null,
            "grid_column": null,
            "grid_gap": null,
            "grid_row": null,
            "grid_template_areas": null,
            "grid_template_columns": null,
            "grid_template_rows": null,
            "height": null,
            "justify_content": null,
            "justify_items": null,
            "left": null,
            "margin": null,
            "max_height": null,
            "max_width": null,
            "min_height": null,
            "min_width": null,
            "object_fit": null,
            "object_position": null,
            "order": null,
            "overflow": null,
            "overflow_x": null,
            "overflow_y": null,
            "padding": null,
            "right": null,
            "top": null,
            "visibility": null,
            "width": null
          }
        },
        "7592b8c0173b4f72bc91dc4191e841d2": {
          "model_module": "@jupyter-widgets/controls",
          "model_name": "DescriptionStyleModel",
          "model_module_version": "1.5.0",
          "state": {
            "_model_module": "@jupyter-widgets/controls",
            "_model_module_version": "1.5.0",
            "_model_name": "DescriptionStyleModel",
            "_view_count": null,
            "_view_module": "@jupyter-widgets/base",
            "_view_module_version": "1.2.0",
            "_view_name": "StyleView",
            "description_width": ""
          }
        },
        "2a6a38672a43487aa16c43ec41d0f85d": {
          "model_module": "@jupyter-widgets/base",
          "model_name": "LayoutModel",
          "model_module_version": "1.2.0",
          "state": {
            "_model_module": "@jupyter-widgets/base",
            "_model_module_version": "1.2.0",
            "_model_name": "LayoutModel",
            "_view_count": null,
            "_view_module": "@jupyter-widgets/base",
            "_view_module_version": "1.2.0",
            "_view_name": "LayoutView",
            "align_content": null,
            "align_items": null,
            "align_self": null,
            "border": null,
            "bottom": null,
            "display": null,
            "flex": null,
            "flex_flow": null,
            "grid_area": null,
            "grid_auto_columns": null,
            "grid_auto_flow": null,
            "grid_auto_rows": null,
            "grid_column": null,
            "grid_gap": null,
            "grid_row": null,
            "grid_template_areas": null,
            "grid_template_columns": null,
            "grid_template_rows": null,
            "height": null,
            "justify_content": null,
            "justify_items": null,
            "left": null,
            "margin": null,
            "max_height": null,
            "max_width": null,
            "min_height": null,
            "min_width": null,
            "object_fit": null,
            "object_position": null,
            "order": null,
            "overflow": null,
            "overflow_x": null,
            "overflow_y": null,
            "padding": null,
            "right": null,
            "top": null,
            "visibility": null,
            "width": null
          }
        },
        "3f2fe6a9aa254e67b4118f6f141dcca3": {
          "model_module": "@jupyter-widgets/controls",
          "model_name": "ProgressStyleModel",
          "model_module_version": "1.5.0",
          "state": {
            "_model_module": "@jupyter-widgets/controls",
            "_model_module_version": "1.5.0",
            "_model_name": "ProgressStyleModel",
            "_view_count": null,
            "_view_module": "@jupyter-widgets/base",
            "_view_module_version": "1.2.0",
            "_view_name": "StyleView",
            "bar_color": null,
            "description_width": ""
          }
        },
        "3c2a0b3d4ad24c088058255e1ed628c0": {
          "model_module": "@jupyter-widgets/base",
          "model_name": "LayoutModel",
          "model_module_version": "1.2.0",
          "state": {
            "_model_module": "@jupyter-widgets/base",
            "_model_module_version": "1.2.0",
            "_model_name": "LayoutModel",
            "_view_count": null,
            "_view_module": "@jupyter-widgets/base",
            "_view_module_version": "1.2.0",
            "_view_name": "LayoutView",
            "align_content": null,
            "align_items": null,
            "align_self": null,
            "border": null,
            "bottom": null,
            "display": null,
            "flex": null,
            "flex_flow": null,
            "grid_area": null,
            "grid_auto_columns": null,
            "grid_auto_flow": null,
            "grid_auto_rows": null,
            "grid_column": null,
            "grid_gap": null,
            "grid_row": null,
            "grid_template_areas": null,
            "grid_template_columns": null,
            "grid_template_rows": null,
            "height": null,
            "justify_content": null,
            "justify_items": null,
            "left": null,
            "margin": null,
            "max_height": null,
            "max_width": null,
            "min_height": null,
            "min_width": null,
            "object_fit": null,
            "object_position": null,
            "order": null,
            "overflow": null,
            "overflow_x": null,
            "overflow_y": null,
            "padding": null,
            "right": null,
            "top": null,
            "visibility": null,
            "width": null
          }
        },
        "72ead46520bf4d6d8dbc2999a7cf225c": {
          "model_module": "@jupyter-widgets/controls",
          "model_name": "DescriptionStyleModel",
          "model_module_version": "1.5.0",
          "state": {
            "_model_module": "@jupyter-widgets/controls",
            "_model_module_version": "1.5.0",
            "_model_name": "DescriptionStyleModel",
            "_view_count": null,
            "_view_module": "@jupyter-widgets/base",
            "_view_module_version": "1.2.0",
            "_view_name": "StyleView",
            "description_width": ""
          }
        }
      }
    }
  },
  "cells": [
    {
      "cell_type": "markdown",
      "metadata": {
        "id": "view-in-github",
        "colab_type": "text"
      },
      "source": [
        "<a href=\"https://colab.research.google.com/github/FernandoBRdgz/inteligencia_artificial/blob/main/representaciones_latentes/autocodificador_variacional_vae.ipynb\" target=\"_parent\"><img src=\"https://colab.research.google.com/assets/colab-badge.svg\" alt=\"Open In Colab\"/></a>"
      ]
    },
    {
      "cell_type": "markdown",
      "source": [
        "## Introducción\n",
        "\n",
        "Este *notebook* muestra como construir un autocodificador variacional, mejor conocido como Variational Autoencoder (VAE) entrenando un modelo en el conjunto de datos MNIST para generar nuevas imágenes.\n",
        "\n",
        "---"
      ],
      "metadata": {
        "id": "H3X_nrDZfHST"
      }
    },
    {
      "cell_type": "markdown",
      "source": [
        "El VAE es un tipo de modelo generativo basado en redes neuronales que se utiliza para aprender a generar nuevas muestras a partir de un conjunto de datos de entrada. Al igual que el autoencoder clásico, el VAE consta de un codificador y un decodificador, pero en lugar de utilizar una representación latente determinista, el VAE utiliza una distribución latente probabilística.\n",
        "\n",
        "El objetivo del VAE es aprender a mapear la entrada a una distribución latente que represente una codificación compacta de los datos de entrada. La distribución latente se modela mediante una red neuronal conocida como \"codificador probabilístico\", que genera dos vectores de parámetros: la media y la desviación estándar de la distribución latente.\n",
        "\n",
        "La codificación latente se utiliza para generar nuevas muestras mediante el proceso de decodificación. La decodificación se realiza mediante una red neuronal conocida como \"decodificador generativo\", que mapea un punto aleatorio en el espacio latente a una muestra generada.\n",
        "\n",
        "Durante el entrenamiento, el VAE aprende a optimizar los parámetros del codificador y del decodificador de manera que las muestras generadas sean similares a los datos de entrada originales y la distribución latente se aproxime a una distribución de probabilidad estándar (generalmente, una distribución normal).\n",
        "\n",
        "Para medir la calidad de las muestras generadas, se utiliza una función de pérdida que consta de dos términos: la pérdida de reconstrucción, que mide la diferencia entre las muestras generadas y los datos de entrada originales, y la pérdida de regularización, que mide la diferencia entre la distribución latente aprendida y la distribución de probabilidad estándar.\n",
        "\n",
        "El VAE se utiliza en diversas aplicaciones, como la síntesis de imágenes, la generación de música y la modelización de lenguaje natural. Además, también puede utilizarse en la detección de anomalías, ya que puede generar muestras que son muy diferentes a los datos de entrada normales y, por lo tanto, detectar datos anómalos."
      ],
      "metadata": {
        "id": "cF_o3NDqJRLd"
      }
    },
    {
      "cell_type": "code",
      "execution_count": null,
      "metadata": {
        "id": "RC4jB-5Je91Y"
      },
      "outputs": [],
      "source": [
        "import tensorflow as tf\n",
        "import tensorflow_datasets as tfds\n",
        "import matplotlib.pyplot as plt\n",
        "\n",
        "from IPython import display"
      ]
    },
    {
      "cell_type": "code",
      "source": [
        "batch_size = 128\n",
        "latent_dim = 2"
      ],
      "metadata": {
        "id": "0udU8tWrgNie"
      },
      "execution_count": null,
      "outputs": []
    },
    {
      "cell_type": "code",
      "source": [
        "def map_image(image, label):\n",
        "    image = tf.cast(image, dtype=tf.float32)\n",
        "    image /= 255.0\n",
        "    image = tf.reshape(image, shape=(28,28,1,))\n",
        "    return image"
      ],
      "metadata": {
        "id": "rQal3vwbUmTG"
      },
      "execution_count": null,
      "outputs": []
    },
    {
      "cell_type": "code",
      "source": [
        "def get_dataset(map_fn, is_validation=False):\n",
        "    if is_validation:\n",
        "        split_name = \"test\"\n",
        "    else:\n",
        "        split_name = \"train\"\n",
        "  \n",
        "    dataset = tfds.load(\"mnist\", as_supervised=True, split=split_name)\n",
        "    dataset = dataset.map(map_fn)\n",
        "\n",
        "    if is_validation:\n",
        "        dataset = dataset.batch(batch_size)\n",
        "    else:\n",
        "        dataset = dataset.shuffle(1024).batch(batch_size)\n",
        "  \n",
        "    return dataset"
      ],
      "metadata": {
        "id": "hsnMnFIbgVGE"
      },
      "execution_count": null,
      "outputs": []
    },
    {
      "cell_type": "code",
      "source": [
        "train_dataset = get_dataset(map_image, is_validation=False)\n",
        "val_dataset = get_dataset(map_image, is_validation=True)"
      ],
      "metadata": {
        "id": "WerA8xGTgXwC",
        "colab": {
          "base_uri": "https://localhost:8080/",
          "height": 84,
          "referenced_widgets": [
            "8b579fc7b3e44146b1f29c0e8f23ffd3",
            "11e3f300574c41b8a6608feb74596a7e",
            "e0cb48e5d3814844ba310306f2b0ddac",
            "6b0e630a01e145d38299c4317c8bd913",
            "f6bce8059dae4fbba3a78f11798e9eb7",
            "bcc8cd7bc7cd4fafb5a3152f920f2699",
            "7592b8c0173b4f72bc91dc4191e841d2",
            "2a6a38672a43487aa16c43ec41d0f85d",
            "3f2fe6a9aa254e67b4118f6f141dcca3",
            "3c2a0b3d4ad24c088058255e1ed628c0",
            "72ead46520bf4d6d8dbc2999a7cf225c"
          ]
        },
        "outputId": "eb1918ad-0f45-4156-f236-6efd80f1894e"
      },
      "execution_count": null,
      "outputs": [
        {
          "output_type": "stream",
          "name": "stdout",
          "text": [
            "Downloading and preparing dataset Unknown size (download: Unknown size, generated: Unknown size, total: Unknown size) to /root/tensorflow_datasets/mnist/3.0.1...\n"
          ]
        },
        {
          "output_type": "display_data",
          "data": {
            "text/plain": [
              "Dl Completed...:   0%|          | 0/5 [00:00<?, ? file/s]"
            ],
            "application/vnd.jupyter.widget-view+json": {
              "version_major": 2,
              "version_minor": 0,
              "model_id": "8b579fc7b3e44146b1f29c0e8f23ffd3"
            }
          },
          "metadata": {}
        },
        {
          "output_type": "stream",
          "name": "stdout",
          "text": [
            "Dataset mnist downloaded and prepared to /root/tensorflow_datasets/mnist/3.0.1. Subsequent calls will reuse this data.\n"
          ]
        }
      ]
    },
    {
      "cell_type": "code",
      "source": [
        "# Dimensiones del primer lote\n",
        "list(train_dataset.as_numpy_iterator())[0].shape"
      ],
      "metadata": {
        "colab": {
          "base_uri": "https://localhost:8080/"
        },
        "id": "PdZFLry1XJWJ",
        "outputId": "37a22338-43ad-45d6-ea2e-6987c5f82828"
      },
      "execution_count": null,
      "outputs": [
        {
          "output_type": "execute_result",
          "data": {
            "text/plain": [
              "(128, 28, 28, 1)"
            ]
          },
          "metadata": {},
          "execution_count": 6
        }
      ]
    },
    {
      "cell_type": "code",
      "source": [
        " # Imagen del primer lote\n",
        " plt.imshow(list(train_dataset.as_numpy_iterator())[0][0], cmap=\"gray\");"
      ],
      "metadata": {
        "colab": {
          "base_uri": "https://localhost:8080/",
          "height": 265
        },
        "id": "WhQWMqg-Zw9_",
        "outputId": "27fac953-5fea-499f-aa67-c503d3b92143"
      },
      "execution_count": null,
      "outputs": [
        {
          "output_type": "display_data",
          "data": {
            "text/plain": [
              "<Figure size 432x288 with 1 Axes>"
            ],
            "image/png": "[encoded data removed]"
          },
          "metadata": {
            "needs_background": "light"
          }
        }
      ]
    },
    {
      "cell_type": "markdown",
      "source": [
        "### Codificador"
      ],
      "metadata": {
        "id": "NZI1wRdTWnKa"
      }
    },
    {
      "cell_type": "markdown",
      "source": [
        "El codificador de un VAE, también conocido como \"codificador probabilístico\", es la parte del modelo que toma una entrada y produce una distribución de probabilidad sobre las posibles representaciones latentes.\n",
        "\n",
        "El codificador suele ser una red neuronal que toma la entrada y la transforma en una serie de capas ocultas que van reduciendo gradualmente la dimensión de los datos. A continuación, la salida de la última capa oculta se alimenta en dos capas finales, una que genera los parámetros de la media de la distribución latente, y otra que genera los parámetros de la desviación estándar de la distribución latente.\n",
        "\n",
        "Es importante destacar que estos parámetros son generados por capas completamente conectadas que toman la salida de la última capa oculta como entrada. Por lo tanto, los parámetros de la distribución latente son funciones no lineales de los datos de entrada, lo que permite al modelo capturar relaciones complejas y no lineales entre la entrada y la distribución latente.\n",
        "\n",
        "En particular, la media de la distribución latente se puede calcular como una función lineal de la salida de la última capa oculta, mientras que la desviación estándar se suele modelar mediante una capa de activación exponencial, para asegurar que los valores generados sean siempre positivos.\n",
        "\n",
        "Finalmente, una vez que se han generado los parámetros de la distribución latente, se utiliza una técnica conocida como \"reparametrización\" para muestrear una representación latente concreta a partir de esta distribución y poder utilizarla en la decodificación. La reparametrización es una técnica que permite la diferenciación automática durante el entrenamiento y se utiliza para propagar los gradientes a través del proceso de muestreo de la distribución latente."
      ],
      "metadata": {
        "id": "ktN-iEgjLJjt"
      }
    },
    {
      "cell_type": "code",
      "source": [
        "class Sampling(tf.keras.layers.Layer):\n",
        "    def call(self, inputs):\n",
        "        mu, sigma = inputs\n",
        "\n",
        "        batch = tf.shape(mu)[0]\n",
        "        dim = tf.shape(mu)[1]\n",
        "\n",
        "        epsilon = tf.keras.backend.random_normal(shape=(batch, dim))\n",
        "\n",
        "        return mu + tf.exp(0.5 * sigma) * epsilon"
      ],
      "metadata": {
        "id": "vTQaVFChgZ1H"
      },
      "execution_count": null,
      "outputs": []
    },
    {
      "cell_type": "code",
      "source": [
        "def encoder_layers(inputs, latent_dim):\n",
        "    x = tf.keras.layers.Conv2D(filters=32, kernel_size=3, strides=2, padding=\"same\", activation=\"relu\", name=\"encode_conv1\")(inputs)\n",
        "    x = tf.keras.layers.BatchNormalization()(x)\n",
        "    x = tf.keras.layers.Conv2D(filters=64, kernel_size=3, strides=2, padding=\"same\", activation=\"relu\", name=\"encoder_conv2\")(x)\n",
        "\n",
        "    batch_2 = tf.keras.layers.BatchNormalization()(x)\n",
        "\n",
        "    x = tf.keras.layers.Flatten(name=\"encode_flatten\")(batch_2)\n",
        "    x = tf.keras.layers.Dense(20, activation=\"relu\", name=\"encoder_dense\")(x)\n",
        "    x = tf.keras.layers.BatchNormalization()(x)\n",
        "\n",
        "    mu = tf.keras.layers.Dense(latent_dim, name=\"latent_mu\")(x)\n",
        "    sigma = tf.keras.layers.Dense(latent_dim, name=\"latent_sigma\")(x)\n",
        "\n",
        "    return mu, sigma, batch_2.shape"
      ],
      "metadata": {
        "id": "Zeub40m7gqWp"
      },
      "execution_count": null,
      "outputs": []
    },
    {
      "cell_type": "code",
      "source": [
        "def encoder_model(latent_dim, input_shape):\n",
        "    inputs = tf.keras.layers.Input(shape=input_shape)\n",
        "\n",
        "    mu, sigma, conv_shape = encoder_layers(inputs, latent_dim=latent_dim)\n",
        "    z = Sampling()((mu, sigma))\n",
        "    model = tf.keras.Model(inputs=inputs, outputs=[mu, sigma, z])\n",
        "\n",
        "    return model, conv_shape"
      ],
      "metadata": {
        "id": "umFqRJO0g1Jb"
      },
      "execution_count": null,
      "outputs": []
    },
    {
      "cell_type": "markdown",
      "source": [
        "### Decodificador"
      ],
      "metadata": {
        "id": "etIgq2ryWpfS"
      }
    },
    {
      "cell_type": "markdown",
      "source": [
        "El decodificador de un VAE, también conocido como \"generador probabilístico\", es la parte del modelo que toma una representación latente y la decodifica en una salida reconstruida.\n",
        "\n",
        "El decodificador suele ser una red neuronal que toma la representación latente como entrada y la transforma en una serie de capas ocultas que van aumentando gradualmente la dimensión de los datos hasta que se obtiene la salida deseada. \n",
        "\n",
        "Es importante destacar que el decodificador está diseñado para ser capaz de generar una distribución de probabilidad sobre la salida reconstruida, en lugar de una única salida determinista. Esto se logra mediante la introducción de una función de activación en la capa de salida del decodificador, que mapea la salida de la última capa oculta a una distribución de probabilidad sobre los valores de píxeles de la imagen.\n",
        "\n",
        "En particular, en el caso de imágenes, se suele utilizar una función de activación sigmoide o softmax en la capa de salida, que transforma los valores de la última capa oculta en un rango entre 0 y 1 que representa la probabilidad de que cada píxel de la imagen tome un valor determinado. De esta manera, el modelo puede generar diferentes versiones de la misma imagen reconstruida cada vez que se alimenta una representación latente diferente.\n",
        "\n",
        "Finalmente, durante el entrenamiento del modelo, se utiliza una función de pérdida que mide la diferencia entre la salida reconstruida y la entrada original. En el caso de imágenes, por ejemplo, se suele utilizar una función de pérdida de entropía cruzada binaria, que mide la similitud entre las distribuciones de probabilidad de los píxeles de la imagen reconstruida y los píxeles de la imagen original."
      ],
      "metadata": {
        "id": "tEbj7AI3LjTj"
      }
    },
    {
      "cell_type": "code",
      "source": [
        "def decoder_layers(inputs, conv_shape):\n",
        "    units = conv_shape[1] * conv_shape[2] * conv_shape[3]\n",
        "    x = tf.keras.layers.Dense(units, activation=\"relu\", name=\"decode_dense1\")(inputs)\n",
        "    x = tf.keras.layers.BatchNormalization()(x)\n",
        "    x = tf.keras.layers.Reshape((conv_shape[1], conv_shape[2], conv_shape[3]), name=\"decode_reshape\")(x)\n",
        "    x = tf.keras.layers.Conv2DTranspose(filters=64, kernel_size=3, strides=2, padding=\"same\", activation=\"relu\", name=\"decode_conv2d_2\")(x)\n",
        "    x = tf.keras.layers.BatchNormalization()(x)\n",
        "    x = tf.keras.layers.Conv2DTranspose(filters=32, kernel_size=3, strides=2, padding=\"same\", activation=\"relu\", name=\"decode_conv2d_3\")(x)\n",
        "    x =tf.keras.layers.BatchNormalization()(x)\n",
        "    x = tf.keras.layers.Conv2DTranspose(filters=1, kernel_size=3, strides=1, padding=\"same\", activation=\"sigmoid\", name=\"decode_final\")(x)\n",
        "\n",
        "    return x"
      ],
      "metadata": {
        "id": "fcJdxv2mWrWS"
      },
      "execution_count": null,
      "outputs": []
    },
    {
      "cell_type": "code",
      "source": [
        "def decoder_model(latent_dim, conv_shape):\n",
        "    inputs = tf.keras.layers.Input(shape=(latent_dim,))\n",
        "    outputs = decoder_layers(inputs, conv_shape)\n",
        "    model = tf.keras.Model(inputs, outputs)\n",
        "\n",
        "    return model"
      ],
      "metadata": {
        "id": "dr07QXdsW7vV"
      },
      "execution_count": null,
      "outputs": []
    },
    {
      "cell_type": "markdown",
      "source": [
        "### Función de Pérdida"
      ],
      "metadata": {
        "id": "lZ2rxK-WPNj2"
      }
    },
    {
      "cell_type": "markdown",
      "source": [
        "En general, la función de pérdida de un VAE es una combinación de dos términos: el primer término mide la diferencia entre la entrada original y la reconstrucción generada por el decodificador, mientras que el segundo término mide la diferencia entre la distribución latente generada por el codificador y una distribución de referencia, que suele ser una distribución normal estándar.\n",
        "\n",
        "El primer término de la función de pérdida se conoce como pérdida de reconstrucción, y se suele medir utilizando una función de pérdida de entropía cruzada. En el caso de imágenes binarias, por ejemplo, se suele utilizar una función de entropía cruzada binaria que mide la similitud entre las distribuciones de probabilidad de los píxeles de la imagen reconstruida y los píxeles de la imagen original. En el caso de imágenes en escala de grises o en color, se suele utilizar una función de entropía cruzada categórica que mide la similitud entre las distribuciones de probabilidad de los valores de píxeles de la imagen reconstruida y los valores de píxeles de la imagen original.\n",
        "\n",
        "El segundo término de la función de pérdida se conoce como pérdida de regularización y utiliza la divergencia de KL, y mide la diferencia entre la distribución latente generada por el codificador y una distribución de referencia. En particular, la pérdida de regularización se utiliza para asegurar que la distribución latente generada por el codificador se asemeje a una distribución normal estándar, lo que permite al modelo generar representaciones latentes que sean suaves y continuas."
      ],
      "metadata": {
        "id": "iZpV2BVRNiGf"
      }
    },
    {
      "cell_type": "code",
      "source": [
        "def kl_reconstruction_loss(inputs, outputs, mu, sigma):\n",
        "    kl_loss = 1 + sigma - tf.square(mu) - tf.math.exp(sigma)\n",
        "    kl_loss = tf.reduce_mean(kl_loss) * - 0.5\n",
        "\n",
        "    return kl_loss"
      ],
      "metadata": {
        "id": "oS1ZZLHqkdGq"
      },
      "execution_count": null,
      "outputs": []
    },
    {
      "cell_type": "markdown",
      "source": [
        "### Modelo VAE"
      ],
      "metadata": {
        "id": "uePS1ekCP6it"
      }
    },
    {
      "cell_type": "code",
      "source": [
        "def vae_model(encoder, decoder, input_shape):\n",
        "    inputs = tf.keras.layers.Input(shape=input_shape)\n",
        "    mu, sigma, z = encoder(inputs)\n",
        "    reconstructed = decoder(z)\n",
        "\n",
        "    model = tf.keras.Model(inputs=inputs, outputs=reconstructed)\n",
        "    loss = kl_reconstruction_loss(inputs, z, mu, sigma)\n",
        "    model.add_loss(loss)\n",
        "\n",
        "    return model"
      ],
      "metadata": {
        "id": "mb9T6wXxkpZa"
      },
      "execution_count": null,
      "outputs": []
    },
    {
      "cell_type": "code",
      "source": [
        "def get_models(input_shape, latent_dim):\n",
        "    encoder, conv_shape = encoder_model(latent_dim=latent_dim, input_shape=input_shape)\n",
        "    decoder = decoder_model(latent_dim=latent_dim, conv_shape=conv_shape)\n",
        "    vae = vae_model(encoder, decoder, input_shape=input_shape)\n",
        "    return encoder, decoder, vae"
      ],
      "metadata": {
        "id": "fENNd7URkpUC"
      },
      "execution_count": null,
      "outputs": []
    },
    {
      "cell_type": "code",
      "source": [
        "encoder, decoder, vae = get_models(input_shape=(28,28,1,), latent_dim=latent_dim)"
      ],
      "metadata": {
        "id": "d4uEcMKnk8Nq"
      },
      "execution_count": null,
      "outputs": []
    },
    {
      "cell_type": "code",
      "source": [
        "encoder.summary()"
      ],
      "metadata": {
        "colab": {
          "base_uri": "https://localhost:8080/"
        },
        "id": "N-E73arclcL8",
        "outputId": "97f867ae-249c-4701-c7de-b93e3a2185be"
      },
      "execution_count": null,
      "outputs": [
        {
          "output_type": "stream",
          "name": "stdout",
          "text": [
            "Model: \"model\"\n",
            "__________________________________________________________________________________________________\n",
            " Layer (type)                   Output Shape         Param #     Connected to                     \n",
            "==================================================================================================\n",
            " input_1 (InputLayer)           [(None, 28, 28, 1)]  0           []                               \n",
            "                                                                                                  \n",
            " encode_conv1 (Conv2D)          (None, 14, 14, 32)   320         ['input_1[0][0]']                \n",
            "                                                                                                  \n",
            " batch_normalization (BatchNorm  (None, 14, 14, 32)  128         ['encode_conv1[0][0]']           \n",
            " alization)                                                                                       \n",
            "                                                                                                  \n",
            " encoder_conv2 (Conv2D)         (None, 7, 7, 64)     18496       ['batch_normalization[0][0]']    \n",
            "                                                                                                  \n",
            " batch_normalization_1 (BatchNo  (None, 7, 7, 64)    256         ['encoder_conv2[0][0]']          \n",
            " rmalization)                                                                                     \n",
            "                                                                                                  \n",
            " encode_flatten (Flatten)       (None, 3136)         0           ['batch_normalization_1[0][0]']  \n",
            "                                                                                                  \n",
            " encoder_dense (Dense)          (None, 20)           62740       ['encode_flatten[0][0]']         \n",
            "                                                                                                  \n",
            " batch_normalization_2 (BatchNo  (None, 20)          80          ['encoder_dense[0][0]']          \n",
            " rmalization)                                                                                     \n",
            "                                                                                                  \n",
            " latent_mu (Dense)              (None, 2)            42          ['batch_normalization_2[0][0]']  \n",
            "                                                                                                  \n",
            " latent_sigma (Dense)           (None, 2)            42          ['batch_normalization_2[0][0]']  \n",
            "                                                                                                  \n",
            " sampling (Sampling)            (None, 2)            0           ['latent_mu[0][0]',              \n",
            "                                                                  'latent_sigma[0][0]']           \n",
            "                                                                                                  \n",
            "==================================================================================================\n",
            "Total params: 82,104\n",
            "Trainable params: 81,872\n",
            "Non-trainable params: 232\n",
            "__________________________________________________________________________________________________\n"
          ]
        }
      ]
    },
    {
      "cell_type": "code",
      "source": [
        "decoder.summary()"
      ],
      "metadata": {
        "colab": {
          "base_uri": "https://localhost:8080/"
        },
        "id": "FdQjgRQGlg5I",
        "outputId": "7cdc348d-b881-4f31-b001-d2092c28c35c"
      },
      "execution_count": null,
      "outputs": [
        {
          "output_type": "stream",
          "name": "stdout",
          "text": [
            "Model: \"model_1\"\n",
            "_________________________________________________________________\n",
            " Layer (type)                Output Shape              Param #   \n",
            "=================================================================\n",
            " input_2 (InputLayer)        [(None, 2)]               0         \n",
            "                                                                 \n",
            " decode_dense1 (Dense)       (None, 3136)              9408      \n",
            "                                                                 \n",
            " batch_normalization_3 (Batc  (None, 3136)             12544     \n",
            " hNormalization)                                                 \n",
            "                                                                 \n",
            " decode_reshape (Reshape)    (None, 7, 7, 64)          0         \n",
            "                                                                 \n",
            " decode_conv2d_2 (Conv2DTran  (None, 14, 14, 64)       36928     \n",
            " spose)                                                          \n",
            "                                                                 \n",
            " batch_normalization_4 (Batc  (None, 14, 14, 64)       256       \n",
            " hNormalization)                                                 \n",
            "                                                                 \n",
            " decode_conv2d_3 (Conv2DTran  (None, 28, 28, 32)       18464     \n",
            " spose)                                                          \n",
            "                                                                 \n",
            " batch_normalization_5 (Batc  (None, 28, 28, 32)       128       \n",
            " hNormalization)                                                 \n",
            "                                                                 \n",
            " decode_final (Conv2DTranspo  (None, 28, 28, 1)        289       \n",
            " se)                                                             \n",
            "                                                                 \n",
            "=================================================================\n",
            "Total params: 78,017\n",
            "Trainable params: 71,553\n",
            "Non-trainable params: 6,464\n",
            "_________________________________________________________________\n"
          ]
        }
      ]
    },
    {
      "cell_type": "code",
      "source": [
        "vae.summary()"
      ],
      "metadata": {
        "colab": {
          "base_uri": "https://localhost:8080/"
        },
        "id": "khTfhrpjlg1n",
        "outputId": "32c8a3f1-d7c5-4805-8f38-58736f695bc2"
      },
      "execution_count": null,
      "outputs": [
        {
          "output_type": "stream",
          "name": "stdout",
          "text": [
            "Model: \"model_2\"\n",
            "__________________________________________________________________________________________________\n",
            " Layer (type)                   Output Shape         Param #     Connected to                     \n",
            "==================================================================================================\n",
            " input_3 (InputLayer)           [(None, 28, 28, 1)]  0           []                               \n",
            "                                                                                                  \n",
            " model (Functional)             [(None, 2),          82104       ['input_3[0][0]']                \n",
            "                                 (None, 2),                                                       \n",
            "                                 (None, 2)]                                                       \n",
            "                                                                                                  \n",
            " model_1 (Functional)           (None, 28, 28, 1)    78017       ['model[0][2]']                  \n",
            "                                                                                                  \n",
            " tf.__operators__.add (TFOpLamb  (None, 2)           0           ['model[0][1]']                  \n",
            " da)                                                                                              \n",
            "                                                                                                  \n",
            " tf.math.square (TFOpLambda)    (None, 2)            0           ['model[0][0]']                  \n",
            "                                                                                                  \n",
            " tf.math.subtract (TFOpLambda)  (None, 2)            0           ['tf.__operators__.add[0][0]',   \n",
            "                                                                  'tf.math.square[0][0]']         \n",
            "                                                                                                  \n",
            " tf.math.exp (TFOpLambda)       (None, 2)            0           ['model[0][1]']                  \n",
            "                                                                                                  \n",
            " tf.math.subtract_1 (TFOpLambda  (None, 2)           0           ['tf.math.subtract[0][0]',       \n",
            " )                                                                'tf.math.exp[0][0]']            \n",
            "                                                                                                  \n",
            " tf.math.reduce_mean (TFOpLambd  ()                  0           ['tf.math.subtract_1[0][0]']     \n",
            " a)                                                                                               \n",
            "                                                                                                  \n",
            " tf.math.multiply (TFOpLambda)  ()                   0           ['tf.math.reduce_mean[0][0]']    \n",
            "                                                                                                  \n",
            " add_loss (AddLoss)             ()                   0           ['tf.math.multiply[0][0]']       \n",
            "                                                                                                  \n",
            "==================================================================================================\n",
            "Total params: 160,121\n",
            "Trainable params: 153,425\n",
            "Non-trainable params: 6,696\n",
            "__________________________________________________________________________________________________\n"
          ]
        }
      ]
    },
    {
      "cell_type": "markdown",
      "source": [
        "### Entrenamiento de Modelo"
      ],
      "metadata": {
        "id": "1HMhdmrrQBq8"
      }
    },
    {
      "cell_type": "code",
      "source": [
        "optimizer = tf.keras.optimizers.Adam()\n",
        "loss_metric = tf.keras.metrics.Mean()\n",
        "bce_loss = tf.keras.losses.BinaryCrossentropy()"
      ],
      "metadata": {
        "id": "h-_UOyXZK3wX"
      },
      "execution_count": null,
      "outputs": []
    },
    {
      "cell_type": "code",
      "source": [
        "def generate_and_save_images(model, epoch, step, test_input):\n",
        "    predictions = model.predict(test_input)\n",
        "    fig = plt.figure(figsize=(4,4))\n",
        "\n",
        "    for i in range(predictions.shape[0]):\n",
        "        plt.subplot(4, 4, i+1)\n",
        "        plt.imshow(predictions[i, :, :, 0], cmap='gray')\n",
        "        plt.axis('off')\n",
        "\n",
        "    fig.suptitle(\"epoch: {}, step: {}\".format(epoch, step))\n",
        "    plt.savefig('image_at_epoch_{:04d}_step{:04d}.png'.format(epoch, step))\n",
        "    plt.show()"
      ],
      "metadata": {
        "id": "C5ZVIQzcLKD3"
      },
      "execution_count": null,
      "outputs": []
    },
    {
      "cell_type": "code",
      "source": [
        "epochs = 100\n",
        "\n",
        "random_vector_for_generation = tf.random.normal(shape=[16, latent_dim])\n",
        "generate_and_save_images(decoder, 0, 0, random_vector_for_generation)\n",
        "\n",
        "for epoch in range(epochs):\n",
        "    print('Start of epoch %d' % (epoch, ))\n",
        "\n",
        "    for step, x_batch_train in enumerate(train_dataset):\n",
        "        with tf.GradientTape() as tape:\n",
        "            reconstructed = vae(x_batch_train)\n",
        "\n",
        "            flattened_inputs = tf.reshape(x_batch_train, shape=[-1])\n",
        "            flattened_outputs = tf.reshape(reconstructed, shape=[-1])\n",
        "            loss = bce_loss(flattened_inputs, flattened_outputs) * 784\n",
        "            loss += sum(vae.losses)\n",
        "\n",
        "        grads = tape.gradient(loss, vae.trainable_weights)\n",
        "        optimizer.apply_gradients(zip(grads, vae.trainable_weights))\n",
        "        loss_metric(loss)\n",
        "\n",
        "        if step % 100 == 0:\n",
        "            display.clear_output(wait=False)\n",
        "            generate_and_save_images(decoder, epoch, step, random_vector_for_generation)\n",
        "            print('Epoch: %s step: %s mean loss = %s' % (epoch, step, loss_metric.result().numpy()))"
      ],
      "metadata": {
        "colab": {
          "base_uri": "https://localhost:8080/",
          "height": 312
        },
        "id": "uxPcEsfPLy--",
        "outputId": "0e9097fb-cb20-4c8a-fd51-1b3de0581711"
      },
      "execution_count": null,
      "outputs": [
        {
          "output_type": "stream",
          "name": "stdout",
          "text": [
            "1/1 [==============================] - 0s 18ms/step\n"
          ]
        },
        {
          "output_type": "display_data",
          "data": {
            "text/plain": [
              "<Figure size 288x288 with 16 Axes>"
            ],
            "image/png": "[encoded data removed]"
          },
          "metadata": {
            "needs_background": "light"
          }
        },
        {
          "output_type": "stream",
          "name": "stdout",
          "text": [
            "Epoch: 99 step: 400 mean loss = 142.0562\n"
          ]
        }
      ]
    },
    {
      "cell_type": "markdown",
      "source": [
        "**Referencias**\n",
        "\n",
        "* https://arxiv.org/abs/1312.6114v10\n",
        "* https://paperswithcode.com/method/vae\n",
        "* https://towardsdatascience.com/intuitively-understanding-variational-autoencoders-1bfe67eb5daf\n",
        "* https://towardsdatascience.com/understanding-variational-autoencoders-vaes-f70510919f73"
      ],
      "metadata": {
        "id": "ldq2JNlUSjFx"
      }
    },
    {
      "cell_type": "markdown",
      "source": [
        "**Por hacer**\n",
        "\n",
        "* Documentar funciones"
      ],
      "metadata": {
        "id": "uY_ErMhKhBQc"
      }
    }
  ]
}