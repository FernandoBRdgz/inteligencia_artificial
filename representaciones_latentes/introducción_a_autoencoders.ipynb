{
  "nbformat": 4,
  "nbformat_minor": 0,
  "metadata": {
    "colab": {
      "provenance": [],
      "authorship_tag": "ABX9TyPOmOXjg5/K3dJLAwovG6Wi",
      "include_colab_link": true
    },
    "kernelspec": {
      "name": "python3",
      "display_name": "Python 3"
    },
    "language_info": {
      "name": "python"
    },
    "widgets": {
      "application/vnd.jupyter.widget-state+json": {
        "0ba57351ee424f899b35fc08a0bb36ad": {
          "model_module": "@jupyter-widgets/controls",
          "model_name": "HBoxModel",
          "model_module_version": "1.5.0",
          "state": {
            "_dom_classes": [],
            "_model_module": "@jupyter-widgets/controls",
            "_model_module_version": "1.5.0",
            "_model_name": "HBoxModel",
            "_view_count": null,
            "_view_module": "@jupyter-widgets/controls",
            "_view_module_version": "1.5.0",
            "_view_name": "HBoxView",
            "box_style": "",
            "children": [
              "IPY_MODEL_57a8fb5b732b4ac7a2e55a8fdcc999de",
              "IPY_MODEL_810f635ed68f42ccb8040f941b4dc25c",
              "IPY_MODEL_1411bd8e8ae743a398d96d5b6b1e0bea"
            ],
            "layout": "IPY_MODEL_899d25ff85f54754be749c68ca0885b6"
          }
        },
        "57a8fb5b732b4ac7a2e55a8fdcc999de": {
          "model_module": "@jupyter-widgets/controls",
          "model_name": "HTMLModel",
          "model_module_version": "1.5.0",
          "state": {
            "_dom_classes": [],
            "_model_module": "@jupyter-widgets/controls",
            "_model_module_version": "1.5.0",
            "_model_name": "HTMLModel",
            "_view_count": null,
            "_view_module": "@jupyter-widgets/controls",
            "_view_module_version": "1.5.0",
            "_view_name": "HTMLView",
            "description": "",
            "description_tooltip": null,
            "layout": "IPY_MODEL_b06fdb8dcb1e44f1b78e542ac2768c66",
            "placeholder": "​",
            "style": "IPY_MODEL_c1d353e6ddf14063921a0dfc95cec8e4",
            "value": "Dl Completed...: 100%"
          }
        },
        "810f635ed68f42ccb8040f941b4dc25c": {
          "model_module": "@jupyter-widgets/controls",
          "model_name": "FloatProgressModel",
          "model_module_version": "1.5.0",
          "state": {
            "_dom_classes": [],
            "_model_module": "@jupyter-widgets/controls",
            "_model_module_version": "1.5.0",
            "_model_name": "FloatProgressModel",
            "_view_count": null,
            "_view_module": "@jupyter-widgets/controls",
            "_view_module_version": "1.5.0",
            "_view_name": "ProgressView",
            "bar_style": "success",
            "description": "",
            "description_tooltip": null,
            "layout": "IPY_MODEL_17dcc9bef10e46d7ad215a10aadf3905",
            "max": 5,
            "min": 0,
            "orientation": "horizontal",
            "style": "IPY_MODEL_363a5261764a41de97fc82bcbc472b5d",
            "value": 5
          }
        },
        "1411bd8e8ae743a398d96d5b6b1e0bea": {
          "model_module": "@jupyter-widgets/controls",
          "model_name": "HTMLModel",
          "model_module_version": "1.5.0",
          "state": {
            "_dom_classes": [],
            "_model_module": "@jupyter-widgets/controls",
            "_model_module_version": "1.5.0",
            "_model_name": "HTMLModel",
            "_view_count": null,
            "_view_module": "@jupyter-widgets/controls",
            "_view_module_version": "1.5.0",
            "_view_name": "HTMLView",
            "description": "",
            "description_tooltip": null,
            "layout": "IPY_MODEL_5cf1572adbca4644ac3e8a6dbb304615",
            "placeholder": "​",
            "style": "IPY_MODEL_c4ff685b21794a15a884de043a63d3c7",
            "value": " 5/5 [00:00&lt;00:00, 14.08 file/s]"
          }
        },
        "899d25ff85f54754be749c68ca0885b6": {
          "model_module": "@jupyter-widgets/base",
          "model_name": "LayoutModel",
          "model_module_version": "1.2.0",
          "state": {
            "_model_module": "@jupyter-widgets/base",
            "_model_module_version": "1.2.0",
            "_model_name": "LayoutModel",
            "_view_count": null,
            "_view_module": "@jupyter-widgets/base",
            "_view_module_version": "1.2.0",
            "_view_name": "LayoutView",
            "align_content": null,
            "align_items": null,
            "align_self": null,
            "border": null,
            "bottom": null,
            "display": null,
            "flex": null,
            "flex_flow": null,
            "grid_area": null,
            "grid_auto_columns": null,
            "grid_auto_flow": null,
            "grid_auto_rows": null,
            "grid_column": null,
            "grid_gap": null,
            "grid_row": null,
            "grid_template_areas": null,
            "grid_template_columns": null,
            "grid_template_rows": null,
            "height": null,
            "justify_content": null,
            "justify_items": null,
            "left": null,
            "margin": null,
            "max_height": null,
            "max_width": null,
            "min_height": null,
            "min_width": null,
            "object_fit": null,
            "object_position": null,
            "order": null,
            "overflow": null,
            "overflow_x": null,
            "overflow_y": null,
            "padding": null,
            "right": null,
            "top": null,
            "visibility": null,
            "width": null
          }
        },
        "b06fdb8dcb1e44f1b78e542ac2768c66": {
          "model_module": "@jupyter-widgets/base",
          "model_name": "LayoutModel",
          "model_module_version": "1.2.0",
          "state": {
            "_model_module": "@jupyter-widgets/base",
            "_model_module_version": "1.2.0",
            "_model_name": "LayoutModel",
            "_view_count": null,
            "_view_module": "@jupyter-widgets/base",
            "_view_module_version": "1.2.0",
            "_view_name": "LayoutView",
            "align_content": null,
            "align_items": null,
            "align_self": null,
            "border": null,
            "bottom": null,
            "display": null,
            "flex": null,
            "flex_flow": null,
            "grid_area": null,
            "grid_auto_columns": null,
            "grid_auto_flow": null,
            "grid_auto_rows": null,
            "grid_column": null,
            "grid_gap": null,
            "grid_row": null,
            "grid_template_areas": null,
            "grid_template_columns": null,
            "grid_template_rows": null,
            "height": null,
            "justify_content": null,
            "justify_items": null,
            "left": null,
            "margin": null,
            "max_height": null,
            "max_width": null,
            "min_height": null,
            "min_width": null,
            "object_fit": null,
            "object_position": null,
            "order": null,
            "overflow": null,
            "overflow_x": null,
            "overflow_y": null,
            "padding": null,
            "right": null,
            "top": null,
            "visibility": null,
            "width": null
          }
        },
        "c1d353e6ddf14063921a0dfc95cec8e4": {
          "model_module": "@jupyter-widgets/controls",
          "model_name": "DescriptionStyleModel",
          "model_module_version": "1.5.0",
          "state": {
            "_model_module": "@jupyter-widgets/controls",
            "_model_module_version": "1.5.0",
            "_model_name": "DescriptionStyleModel",
            "_view_count": null,
            "_view_module": "@jupyter-widgets/base",
            "_view_module_version": "1.2.0",
            "_view_name": "StyleView",
            "description_width": ""
          }
        },
        "17dcc9bef10e46d7ad215a10aadf3905": {
          "model_module": "@jupyter-widgets/base",
          "model_name": "LayoutModel",
          "model_module_version": "1.2.0",
          "state": {
            "_model_module": "@jupyter-widgets/base",
            "_model_module_version": "1.2.0",
            "_model_name": "LayoutModel",
            "_view_count": null,
            "_view_module": "@jupyter-widgets/base",
            "_view_module_version": "1.2.0",
            "_view_name": "LayoutView",
            "align_content": null,
            "align_items": null,
            "align_self": null,
            "border": null,
            "bottom": null,
            "display": null,
            "flex": null,
            "flex_flow": null,
            "grid_area": null,
            "grid_auto_columns": null,
            "grid_auto_flow": null,
            "grid_auto_rows": null,
            "grid_column": null,
            "grid_gap": null,
            "grid_row": null,
            "grid_template_areas": null,
            "grid_template_columns": null,
            "grid_template_rows": null,
            "height": null,
            "justify_content": null,
            "justify_items": null,
            "left": null,
            "margin": null,
            "max_height": null,
            "max_width": null,
            "min_height": null,
            "min_width": null,
            "object_fit": null,
            "object_position": null,
            "order": null,
            "overflow": null,
            "overflow_x": null,
            "overflow_y": null,
            "padding": null,
            "right": null,
            "top": null,
            "visibility": null,
            "width": null
          }
        },
        "363a5261764a41de97fc82bcbc472b5d": {
          "model_module": "@jupyter-widgets/controls",
          "model_name": "ProgressStyleModel",
          "model_module_version": "1.5.0",
          "state": {
            "_model_module": "@jupyter-widgets/controls",
            "_model_module_version": "1.5.0",
            "_model_name": "ProgressStyleModel",
            "_view_count": null,
            "_view_module": "@jupyter-widgets/base",
            "_view_module_version": "1.2.0",
            "_view_name": "StyleView",
            "bar_color": null,
            "description_width": ""
          }
        },
        "5cf1572adbca4644ac3e8a6dbb304615": {
          "model_module": "@jupyter-widgets/base",
          "model_name": "LayoutModel",
          "model_module_version": "1.2.0",
          "state": {
            "_model_module": "@jupyter-widgets/base",
            "_model_module_version": "1.2.0",
            "_model_name": "LayoutModel",
            "_view_count": null,
            "_view_module": "@jupyter-widgets/base",
            "_view_module_version": "1.2.0",
            "_view_name": "LayoutView",
            "align_content": null,
            "align_items": null,
            "align_self": null,
            "border": null,
            "bottom": null,
            "display": null,
            "flex": null,
            "flex_flow": null,
            "grid_area": null,
            "grid_auto_columns": null,
            "grid_auto_flow": null,
            "grid_auto_rows": null,
            "grid_column": null,
            "grid_gap": null,
            "grid_row": null,
            "grid_template_areas": null,
            "grid_template_columns": null,
            "grid_template_rows": null,
            "height": null,
            "justify_content": null,
            "justify_items": null,
            "left": null,
            "margin": null,
            "max_height": null,
            "max_width": null,
            "min_height": null,
            "min_width": null,
            "object_fit": null,
            "object_position": null,
            "order": null,
            "overflow": null,
            "overflow_x": null,
            "overflow_y": null,
            "padding": null,
            "right": null,
            "top": null,
            "visibility": null,
            "width": null
          }
        },
        "c4ff685b21794a15a884de043a63d3c7": {
          "model_module": "@jupyter-widgets/controls",
          "model_name": "DescriptionStyleModel",
          "model_module_version": "1.5.0",
          "state": {
            "_model_module": "@jupyter-widgets/controls",
            "_model_module_version": "1.5.0",
            "_model_name": "DescriptionStyleModel",
            "_view_count": null,
            "_view_module": "@jupyter-widgets/base",
            "_view_module_version": "1.2.0",
            "_view_name": "StyleView",
            "description_width": ""
          }
        }
      }
    }
  },
  "cells": [
    {
      "cell_type": "markdown",
      "metadata": {
        "id": "view-in-github",
        "colab_type": "text"
      },
      "source": [
        "<a href=\"https://colab.research.google.com/github/FernandoBRdgz/inteligencia_artificial/blob/main/representaciones_latentes/introducci%C3%B3n_a_autoencoders.ipynb\" target=\"_parent\"><img src=\"https://colab.research.google.com/assets/colab-badge.svg\" alt=\"Open In Colab\"/></a>"
      ]
    },
    {
      "cell_type": "markdown",
      "source": [
        "## Introducción\n",
        "\n",
        "Un autocodificador o *autoencoder* es un tipo específico de red neuronal que está diseñado principalmente para codificar la entrada en una representación comprimida y significativa para luego decodificarla de manera que la entrada reconstruida sea lo más similar posible a la original. Un Autoencoder es una arquitectura de cuello de botella que convierte una entrada de alta dimensión en un vector latente de baja dimensión (codificador) y luego realiza una reconstrucción de la entrada con este mismo vector latente (el decodificador)."
      ],
      "metadata": {
        "id": "KL2lITqu3XBg"
      }
    },
    {
      "cell_type": "markdown",
      "source": [
        "En este *notebook* se comparten un par de ejemplos con Autoencoders. El primero es un ejemplo con datos estructurados y el segundo con imágenes."
      ],
      "metadata": {
        "id": "r1dvRGM1dMtn"
      }
    },
    {
      "cell_type": "code",
      "execution_count": 1,
      "metadata": {
        "id": "6AxUHU30yL1E"
      },
      "outputs": [],
      "source": [
        "import numpy as np\n",
        "import matplotlib.pyplot as plt\n",
        "\n",
        "import tensorflow as tf\n",
        "import tensorflow_datasets as tfds"
      ]
    },
    {
      "cell_type": "markdown",
      "source": [
        "#### Ejemplo #1\n",
        "\n",
        "Primero se crea un conjunto de datos sintéticos para que actúe como entrada para el autocodificador con la siguiente función."
      ],
      "metadata": {
        "id": "_jqrDSJPWB_0"
      }
    },
    {
      "cell_type": "code",
      "source": [
        "def generate_data(m):\n",
        "    \"\"\"Traza m puntos aleatorios en un plano 3D\"\"\"\n",
        "    angles = np.random.rand(m) * 3 * np.pi / 2 - 0.5\n",
        "    data = np.empty((m, 3))\n",
        "    data[:,0] = np.cos(angles) + np.sin(angles)/2 + 0.1 * np.random.rand(m)/2\n",
        "    data[:,1] = np.sin(angles) * 0.7 + 0.1 * np.random.rand(m) / 2\n",
        "    data[:,2] = data[:,0] * 0.1 + data[:,1] * 0.3 + 0.1 * np.random.rand(m)\n",
        "\n",
        "    return data"
      ],
      "metadata": {
        "id": "RmJCslRzWLfA"
      },
      "execution_count": 2,
      "outputs": []
    },
    {
      "cell_type": "code",
      "source": [
        "X_train = generate_data(100)\n",
        "X_train = X_train - X_train.mean(axis=0, keepdims=0)\n",
        "\n",
        "# Vista previa de los datos\n",
        "ax = plt.axes(projection=\"3d\")\n",
        "ax.scatter3D(X_train[:, 0], X_train[:, 1], X_train[:, 2], cmap=\"Blues\");"
      ],
      "metadata": {
        "colab": {
          "base_uri": "https://localhost:8080/",
          "height": 248
        },
        "id": "EqqGqYDbWLiZ",
        "outputId": "d2e915d1-3246-41e3-ed7b-506e098bdead"
      },
      "execution_count": 4,
      "outputs": [
        {
          "output_type": "display_data",
          "data": {
            "text/plain": [
              "<Figure size 432x288 with 1 Axes>"
            ],
            "image/png": "[encoded data removed]"
          },
          "metadata": {
            "needs_background": "light"
          }
        }
      ]
    },
    {
      "cell_type": "markdown",
      "source": [
        "### Construcción del modelo"
      ],
      "metadata": {
        "id": "S85u2PJHWplX"
      }
    },
    {
      "cell_type": "code",
      "source": [
        "from tensorflow.keras.models import Sequential"
      ],
      "metadata": {
        "id": "FqNdsotrWxK9"
      },
      "execution_count": 6,
      "outputs": []
    },
    {
      "cell_type": "code",
      "source": [
        "encoder = Sequential([tf.keras.layers.Dense(2, input_shape=[3])])\n",
        "decoder = Sequential([tf.keras.layers.Dense(3, input_shape=[2])])\n",
        "\n",
        "autoencoder = Sequential([encoder, decoder])"
      ],
      "metadata": {
        "id": "bg4b7EfZWuuR"
      },
      "execution_count": 7,
      "outputs": []
    },
    {
      "cell_type": "code",
      "source": [
        "autoencoder.compile(loss=\"mse\", optimizer=tf.keras.optimizers.SGD(learning_rate=0.1))"
      ],
      "metadata": {
        "id": "9EwyZf0rXBV2"
      },
      "execution_count": 9,
      "outputs": []
    },
    {
      "cell_type": "code",
      "source": [
        "%%time\n",
        "history = autoencoder.fit(X_train, X_train, epochs=200)"
      ],
      "metadata": {
        "colab": {
          "base_uri": "https://localhost:8080/"
        },
        "id": "3rPrrN5uXEiS",
        "outputId": "6199e888-dd77-43ac-8c45-5368a47315d9"
      },
      "execution_count": 10,
      "outputs": [
        {
          "output_type": "stream",
          "name": "stdout",
          "text": [
            "Epoch 1/200\n",
            "4/4 [==============================] - 2s 10ms/step - loss: 0.1876\n",
            "Epoch 2/200\n",
            "4/4 [==============================] - 0s 7ms/step - loss: 0.1398\n",
            "Epoch 3/200\n",
            "4/4 [==============================] - 0s 23ms/step - loss: 0.1195\n",
            "Epoch 4/200\n",
            "4/4 [==============================] - 0s 7ms/step - loss: 0.1037\n",
            "Epoch 5/200\n",
            "4/4 [==============================] - 0s 21ms/step - loss: 0.0925\n",
            "Epoch 6/200\n",
            "4/4 [==============================] - 0s 8ms/step - loss: 0.0825\n",
            "Epoch 7/200\n",
            "4/4 [==============================] - 0s 9ms/step - loss: 0.0763\n",
            "Epoch 8/200\n",
            "4/4 [==============================] - 0s 8ms/step - loss: 0.0705\n",
            "Epoch 9/200\n",
            "4/4 [==============================] - 0s 10ms/step - loss: 0.0668\n",
            "Epoch 10/200\n",
            "4/4 [==============================] - 0s 13ms/step - loss: 0.0635\n",
            "Epoch 11/200\n",
            "4/4 [==============================] - 0s 13ms/step - loss: 0.0604\n",
            "Epoch 12/200\n",
            "4/4 [==============================] - 0s 14ms/step - loss: 0.0578\n",
            "Epoch 13/200\n",
            "4/4 [==============================] - 0s 10ms/step - loss: 0.0551\n",
            "Epoch 14/200\n",
            "4/4 [==============================] - 0s 14ms/step - loss: 0.0527\n",
            "Epoch 15/200\n",
            "4/4 [==============================] - 0s 12ms/step - loss: 0.0503\n",
            "Epoch 16/200\n",
            "4/4 [==============================] - 0s 9ms/step - loss: 0.0485\n",
            "Epoch 17/200\n",
            "4/4 [==============================] - 0s 13ms/step - loss: 0.0467\n",
            "Epoch 18/200\n",
            "4/4 [==============================] - 0s 8ms/step - loss: 0.0451\n",
            "Epoch 19/200\n",
            "4/4 [==============================] - 0s 12ms/step - loss: 0.0433\n",
            "Epoch 20/200\n",
            "4/4 [==============================] - 0s 9ms/step - loss: 0.0418\n",
            "Epoch 21/200\n",
            "4/4 [==============================] - 0s 4ms/step - loss: 0.0404\n",
            "Epoch 22/200\n",
            "4/4 [==============================] - 0s 3ms/step - loss: 0.0389\n",
            "Epoch 23/200\n",
            "4/4 [==============================] - 0s 5ms/step - loss: 0.0376\n",
            "Epoch 24/200\n",
            "4/4 [==============================] - 0s 4ms/step - loss: 0.0365\n",
            "Epoch 25/200\n",
            "4/4 [==============================] - 0s 4ms/step - loss: 0.0349\n",
            "Epoch 26/200\n",
            "4/4 [==============================] - 0s 4ms/step - loss: 0.0334\n",
            "Epoch 27/200\n",
            "4/4 [==============================] - 0s 4ms/step - loss: 0.0323\n",
            "Epoch 28/200\n",
            "4/4 [==============================] - 0s 4ms/step - loss: 0.0309\n",
            "Epoch 29/200\n",
            "4/4 [==============================] - 0s 4ms/step - loss: 0.0297\n",
            "Epoch 30/200\n",
            "4/4 [==============================] - 0s 4ms/step - loss: 0.0286\n",
            "Epoch 31/200\n",
            "4/4 [==============================] - 0s 5ms/step - loss: 0.0277\n",
            "Epoch 32/200\n",
            "4/4 [==============================] - 0s 4ms/step - loss: 0.0266\n",
            "Epoch 33/200\n",
            "4/4 [==============================] - 0s 5ms/step - loss: 0.0253\n",
            "Epoch 34/200\n",
            "4/4 [==============================] - 0s 5ms/step - loss: 0.0245\n",
            "Epoch 35/200\n",
            "4/4 [==============================] - 0s 5ms/step - loss: 0.0233\n",
            "Epoch 36/200\n",
            "4/4 [==============================] - 0s 4ms/step - loss: 0.0224\n",
            "Epoch 37/200\n",
            "4/4 [==============================] - 0s 4ms/step - loss: 0.0211\n",
            "Epoch 38/200\n",
            "4/4 [==============================] - 0s 5ms/step - loss: 0.0202\n",
            "Epoch 39/200\n",
            "4/4 [==============================] - 0s 5ms/step - loss: 0.0192\n",
            "Epoch 40/200\n",
            "4/4 [==============================] - 0s 5ms/step - loss: 0.0183\n",
            "Epoch 41/200\n",
            "4/4 [==============================] - 0s 5ms/step - loss: 0.0172\n",
            "Epoch 42/200\n",
            "4/4 [==============================] - 0s 5ms/step - loss: 0.0164\n",
            "Epoch 43/200\n",
            "4/4 [==============================] - 0s 7ms/step - loss: 0.0154\n",
            "Epoch 44/200\n",
            "4/4 [==============================] - 0s 4ms/step - loss: 0.0145\n",
            "Epoch 45/200\n",
            "4/4 [==============================] - 0s 5ms/step - loss: 0.0137\n",
            "Epoch 46/200\n",
            "4/4 [==============================] - 0s 5ms/step - loss: 0.0129\n",
            "Epoch 47/200\n",
            "4/4 [==============================] - 0s 6ms/step - loss: 0.0120\n",
            "Epoch 48/200\n",
            "4/4 [==============================] - 0s 5ms/step - loss: 0.0113\n",
            "Epoch 49/200\n",
            "4/4 [==============================] - 0s 5ms/step - loss: 0.0105\n",
            "Epoch 50/200\n",
            "4/4 [==============================] - 0s 5ms/step - loss: 0.0099\n",
            "Epoch 51/200\n",
            "4/4 [==============================] - 0s 4ms/step - loss: 0.0093\n",
            "Epoch 52/200\n",
            "4/4 [==============================] - 0s 5ms/step - loss: 0.0087\n",
            "Epoch 53/200\n",
            "4/4 [==============================] - 0s 4ms/step - loss: 0.0081\n",
            "Epoch 54/200\n",
            "4/4 [==============================] - 0s 4ms/step - loss: 0.0075\n",
            "Epoch 55/200\n",
            "4/4 [==============================] - 0s 6ms/step - loss: 0.0069\n",
            "Epoch 56/200\n",
            "4/4 [==============================] - 0s 5ms/step - loss: 0.0064\n",
            "Epoch 57/200\n",
            "4/4 [==============================] - 0s 4ms/step - loss: 0.0059\n",
            "Epoch 58/200\n",
            "4/4 [==============================] - 0s 4ms/step - loss: 0.0055\n",
            "Epoch 59/200\n",
            "4/4 [==============================] - 0s 4ms/step - loss: 0.0051\n",
            "Epoch 60/200\n",
            "4/4 [==============================] - 0s 4ms/step - loss: 0.0047\n",
            "Epoch 61/200\n",
            "4/4 [==============================] - 0s 5ms/step - loss: 0.0044\n",
            "Epoch 62/200\n",
            "4/4 [==============================] - 0s 4ms/step - loss: 0.0041\n",
            "Epoch 63/200\n",
            "4/4 [==============================] - 0s 5ms/step - loss: 0.0038\n",
            "Epoch 64/200\n",
            "4/4 [==============================] - 0s 4ms/step - loss: 0.0035\n",
            "Epoch 65/200\n",
            "4/4 [==============================] - 0s 4ms/step - loss: 0.0033\n",
            "Epoch 66/200\n",
            "4/4 [==============================] - 0s 5ms/step - loss: 0.0030\n",
            "Epoch 67/200\n",
            "4/4 [==============================] - 0s 5ms/step - loss: 0.0028\n",
            "Epoch 68/200\n",
            "4/4 [==============================] - 0s 4ms/step - loss: 0.0026\n",
            "Epoch 69/200\n",
            "4/4 [==============================] - 0s 7ms/step - loss: 0.0025\n",
            "Epoch 70/200\n",
            "4/4 [==============================] - 0s 6ms/step - loss: 0.0023\n",
            "Epoch 71/200\n",
            "4/4 [==============================] - 0s 5ms/step - loss: 0.0022\n",
            "Epoch 72/200\n",
            "4/4 [==============================] - 0s 5ms/step - loss: 0.0020\n",
            "Epoch 73/200\n",
            "4/4 [==============================] - 0s 4ms/step - loss: 0.0019\n",
            "Epoch 74/200\n",
            "4/4 [==============================] - 0s 5ms/step - loss: 0.0018\n",
            "Epoch 75/200\n",
            "4/4 [==============================] - 0s 5ms/step - loss: 0.0017\n",
            "Epoch 76/200\n",
            "4/4 [==============================] - 0s 4ms/step - loss: 0.0016\n",
            "Epoch 77/200\n",
            "4/4 [==============================] - 0s 5ms/step - loss: 0.0015\n",
            "Epoch 78/200\n",
            "4/4 [==============================] - 0s 4ms/step - loss: 0.0014\n",
            "Epoch 79/200\n",
            "4/4 [==============================] - 0s 6ms/step - loss: 0.0013\n",
            "Epoch 80/200\n",
            "4/4 [==============================] - 0s 6ms/step - loss: 0.0012\n",
            "Epoch 81/200\n",
            "4/4 [==============================] - 0s 5ms/step - loss: 0.0012\n",
            "Epoch 82/200\n",
            "4/4 [==============================] - 0s 4ms/step - loss: 0.0011\n",
            "Epoch 83/200\n",
            "4/4 [==============================] - 0s 4ms/step - loss: 0.0011\n",
            "Epoch 84/200\n",
            "4/4 [==============================] - 0s 5ms/step - loss: 9.9938e-04\n",
            "Epoch 85/200\n",
            "4/4 [==============================] - 0s 4ms/step - loss: 9.5360e-04\n",
            "Epoch 86/200\n",
            "4/4 [==============================] - 0s 4ms/step - loss: 9.0586e-04\n",
            "Epoch 87/200\n",
            "4/4 [==============================] - 0s 4ms/step - loss: 8.6444e-04\n",
            "Epoch 88/200\n",
            "4/4 [==============================] - 0s 4ms/step - loss: 8.3211e-04\n",
            "Epoch 89/200\n",
            "4/4 [==============================] - 0s 4ms/step - loss: 8.0298e-04\n",
            "Epoch 90/200\n",
            "4/4 [==============================] - 0s 4ms/step - loss: 7.7483e-04\n",
            "Epoch 91/200\n",
            "4/4 [==============================] - 0s 5ms/step - loss: 7.5089e-04\n",
            "Epoch 92/200\n",
            "4/4 [==============================] - 0s 5ms/step - loss: 7.2262e-04\n",
            "Epoch 93/200\n",
            "4/4 [==============================] - 0s 5ms/step - loss: 6.9949e-04\n",
            "Epoch 94/200\n",
            "4/4 [==============================] - 0s 5ms/step - loss: 6.7180e-04\n",
            "Epoch 95/200\n",
            "4/4 [==============================] - 0s 5ms/step - loss: 6.5133e-04\n",
            "Epoch 96/200\n",
            "4/4 [==============================] - 0s 6ms/step - loss: 6.3361e-04\n",
            "Epoch 97/200\n",
            "4/4 [==============================] - 0s 5ms/step - loss: 6.1610e-04\n",
            "Epoch 98/200\n",
            "4/4 [==============================] - 0s 4ms/step - loss: 5.9681e-04\n",
            "Epoch 99/200\n",
            "4/4 [==============================] - 0s 4ms/step - loss: 5.8318e-04\n",
            "Epoch 100/200\n",
            "4/4 [==============================] - 0s 4ms/step - loss: 5.7182e-04\n",
            "Epoch 101/200\n",
            "4/4 [==============================] - 0s 5ms/step - loss: 5.5633e-04\n",
            "Epoch 102/200\n",
            "4/4 [==============================] - 0s 4ms/step - loss: 5.4208e-04\n",
            "Epoch 103/200\n",
            "4/4 [==============================] - 0s 5ms/step - loss: 5.3213e-04\n",
            "Epoch 104/200\n",
            "4/4 [==============================] - 0s 6ms/step - loss: 5.2762e-04\n",
            "Epoch 105/200\n",
            "4/4 [==============================] - 0s 5ms/step - loss: 5.1681e-04\n",
            "Epoch 106/200\n",
            "4/4 [==============================] - 0s 5ms/step - loss: 5.0898e-04\n",
            "Epoch 107/200\n",
            "4/4 [==============================] - 0s 5ms/step - loss: 5.0592e-04\n",
            "Epoch 108/200\n",
            "4/4 [==============================] - 0s 4ms/step - loss: 4.9767e-04\n",
            "Epoch 109/200\n",
            "4/4 [==============================] - 0s 4ms/step - loss: 4.9414e-04\n",
            "Epoch 110/200\n",
            "4/4 [==============================] - 0s 4ms/step - loss: 4.8854e-04\n",
            "Epoch 111/200\n",
            "4/4 [==============================] - 0s 4ms/step - loss: 4.8001e-04\n",
            "Epoch 112/200\n",
            "4/4 [==============================] - 0s 5ms/step - loss: 4.7772e-04\n",
            "Epoch 113/200\n",
            "4/4 [==============================] - 0s 5ms/step - loss: 4.7303e-04\n",
            "Epoch 114/200\n",
            "4/4 [==============================] - 0s 5ms/step - loss: 4.6209e-04\n",
            "Epoch 115/200\n",
            "4/4 [==============================] - 0s 5ms/step - loss: 4.5810e-04\n",
            "Epoch 116/200\n",
            "4/4 [==============================] - 0s 5ms/step - loss: 4.5520e-04\n",
            "Epoch 117/200\n",
            "4/4 [==============================] - 0s 4ms/step - loss: 4.4918e-04\n",
            "Epoch 118/200\n",
            "4/4 [==============================] - 0s 4ms/step - loss: 4.4672e-04\n",
            "Epoch 119/200\n",
            "4/4 [==============================] - 0s 4ms/step - loss: 4.4561e-04\n",
            "Epoch 120/200\n",
            "4/4 [==============================] - 0s 4ms/step - loss: 4.4193e-04\n",
            "Epoch 121/200\n",
            "4/4 [==============================] - 0s 5ms/step - loss: 4.3955e-04\n",
            "Epoch 122/200\n",
            "4/4 [==============================] - 0s 5ms/step - loss: 4.3456e-04\n",
            "Epoch 123/200\n",
            "4/4 [==============================] - 0s 5ms/step - loss: 4.3110e-04\n",
            "Epoch 124/200\n",
            "4/4 [==============================] - 0s 5ms/step - loss: 4.3090e-04\n",
            "Epoch 125/200\n",
            "4/4 [==============================] - 0s 5ms/step - loss: 4.3068e-04\n",
            "Epoch 126/200\n",
            "4/4 [==============================] - 0s 4ms/step - loss: 4.2841e-04\n",
            "Epoch 127/200\n",
            "4/4 [==============================] - 0s 4ms/step - loss: 4.2683e-04\n",
            "Epoch 128/200\n",
            "4/4 [==============================] - 0s 4ms/step - loss: 4.2878e-04\n",
            "Epoch 129/200\n",
            "4/4 [==============================] - 0s 5ms/step - loss: 4.2544e-04\n",
            "Epoch 130/200\n",
            "4/4 [==============================] - 0s 4ms/step - loss: 4.2594e-04\n",
            "Epoch 131/200\n",
            "4/4 [==============================] - 0s 4ms/step - loss: 4.2255e-04\n",
            "Epoch 132/200\n",
            "4/4 [==============================] - 0s 4ms/step - loss: 4.2139e-04\n",
            "Epoch 133/200\n",
            "4/4 [==============================] - 0s 5ms/step - loss: 4.2251e-04\n",
            "Epoch 134/200\n",
            "4/4 [==============================] - 0s 5ms/step - loss: 4.2350e-04\n",
            "Epoch 135/200\n",
            "4/4 [==============================] - 0s 6ms/step - loss: 4.1901e-04\n",
            "Epoch 136/200\n",
            "4/4 [==============================] - 0s 5ms/step - loss: 4.1775e-04\n",
            "Epoch 137/200\n",
            "4/4 [==============================] - 0s 4ms/step - loss: 4.1805e-04\n",
            "Epoch 138/200\n",
            "4/4 [==============================] - 0s 5ms/step - loss: 4.1769e-04\n",
            "Epoch 139/200\n",
            "4/4 [==============================] - 0s 5ms/step - loss: 4.1921e-04\n",
            "Epoch 140/200\n",
            "4/4 [==============================] - 0s 5ms/step - loss: 4.2033e-04\n",
            "Epoch 141/200\n",
            "4/4 [==============================] - 0s 4ms/step - loss: 4.1530e-04\n",
            "Epoch 142/200\n",
            "4/4 [==============================] - 0s 5ms/step - loss: 4.1487e-04\n",
            "Epoch 143/200\n",
            "4/4 [==============================] - 0s 4ms/step - loss: 4.1375e-04\n",
            "Epoch 144/200\n",
            "4/4 [==============================] - 0s 4ms/step - loss: 4.1451e-04\n",
            "Epoch 145/200\n",
            "4/4 [==============================] - 0s 4ms/step - loss: 4.1447e-04\n",
            "Epoch 146/200\n",
            "4/4 [==============================] - 0s 5ms/step - loss: 4.1855e-04\n",
            "Epoch 147/200\n",
            "4/4 [==============================] - 0s 6ms/step - loss: 4.1999e-04\n",
            "Epoch 148/200\n",
            "4/4 [==============================] - 0s 5ms/step - loss: 4.1915e-04\n",
            "Epoch 149/200\n",
            "4/4 [==============================] - 0s 5ms/step - loss: 4.1602e-04\n",
            "Epoch 150/200\n",
            "4/4 [==============================] - 0s 4ms/step - loss: 4.1288e-04\n",
            "Epoch 151/200\n",
            "4/4 [==============================] - 0s 4ms/step - loss: 4.1787e-04\n",
            "Epoch 152/200\n",
            "4/4 [==============================] - 0s 4ms/step - loss: 4.1227e-04\n",
            "Epoch 153/200\n",
            "4/4 [==============================] - 0s 4ms/step - loss: 4.1034e-04\n",
            "Epoch 154/200\n",
            "4/4 [==============================] - 0s 4ms/step - loss: 4.1342e-04\n",
            "Epoch 155/200\n",
            "4/4 [==============================] - 0s 4ms/step - loss: 4.0996e-04\n",
            "Epoch 156/200\n",
            "4/4 [==============================] - 0s 5ms/step - loss: 4.1075e-04\n",
            "Epoch 157/200\n",
            "4/4 [==============================] - 0s 4ms/step - loss: 4.1030e-04\n",
            "Epoch 158/200\n",
            "4/4 [==============================] - 0s 5ms/step - loss: 4.1110e-04\n",
            "Epoch 159/200\n",
            "4/4 [==============================] - 0s 4ms/step - loss: 4.1186e-04\n",
            "Epoch 160/200\n",
            "4/4 [==============================] - 0s 4ms/step - loss: 4.0919e-04\n",
            "Epoch 161/200\n",
            "4/4 [==============================] - 0s 4ms/step - loss: 4.1085e-04\n",
            "Epoch 162/200\n",
            "4/4 [==============================] - 0s 4ms/step - loss: 4.1426e-04\n",
            "Epoch 163/200\n",
            "4/4 [==============================] - 0s 4ms/step - loss: 4.0827e-04\n",
            "Epoch 164/200\n",
            "4/4 [==============================] - 0s 4ms/step - loss: 4.0703e-04\n",
            "Epoch 165/200\n",
            "4/4 [==============================] - 0s 4ms/step - loss: 4.0778e-04\n",
            "Epoch 166/200\n",
            "4/4 [==============================] - 0s 4ms/step - loss: 4.1013e-04\n",
            "Epoch 167/200\n",
            "4/4 [==============================] - 0s 5ms/step - loss: 4.1082e-04\n",
            "Epoch 168/200\n",
            "4/4 [==============================] - 0s 4ms/step - loss: 4.1154e-04\n",
            "Epoch 169/200\n",
            "4/4 [==============================] - 0s 5ms/step - loss: 4.0737e-04\n",
            "Epoch 170/200\n",
            "4/4 [==============================] - 0s 5ms/step - loss: 4.0874e-04\n",
            "Epoch 171/200\n",
            "4/4 [==============================] - 0s 4ms/step - loss: 4.0851e-04\n",
            "Epoch 172/200\n",
            "4/4 [==============================] - 0s 4ms/step - loss: 4.0694e-04\n",
            "Epoch 173/200\n",
            "4/4 [==============================] - 0s 5ms/step - loss: 4.0853e-04\n",
            "Epoch 174/200\n",
            "4/4 [==============================] - 0s 5ms/step - loss: 4.0678e-04\n",
            "Epoch 175/200\n",
            "4/4 [==============================] - 0s 5ms/step - loss: 4.0609e-04\n",
            "Epoch 176/200\n",
            "4/4 [==============================] - 0s 4ms/step - loss: 4.0854e-04\n",
            "Epoch 177/200\n",
            "4/4 [==============================] - 0s 4ms/step - loss: 4.0719e-04\n",
            "Epoch 178/200\n",
            "4/4 [==============================] - 0s 5ms/step - loss: 4.1146e-04\n",
            "Epoch 179/200\n",
            "4/4 [==============================] - 0s 4ms/step - loss: 4.0854e-04\n",
            "Epoch 180/200\n",
            "4/4 [==============================] - 0s 4ms/step - loss: 4.0608e-04\n",
            "Epoch 181/200\n",
            "4/4 [==============================] - 0s 4ms/step - loss: 4.0719e-04\n",
            "Epoch 182/200\n",
            "4/4 [==============================] - 0s 4ms/step - loss: 4.1018e-04\n",
            "Epoch 183/200\n",
            "4/4 [==============================] - 0s 5ms/step - loss: 4.0820e-04\n",
            "Epoch 184/200\n",
            "4/4 [==============================] - 0s 4ms/step - loss: 4.0467e-04\n",
            "Epoch 185/200\n",
            "4/4 [==============================] - 0s 6ms/step - loss: 4.0505e-04\n",
            "Epoch 186/200\n",
            "4/4 [==============================] - 0s 4ms/step - loss: 4.0735e-04\n",
            "Epoch 187/200\n",
            "4/4 [==============================] - 0s 5ms/step - loss: 4.0544e-04\n",
            "Epoch 188/200\n",
            "4/4 [==============================] - 0s 6ms/step - loss: 4.1018e-04\n",
            "Epoch 189/200\n",
            "4/4 [==============================] - 0s 4ms/step - loss: 4.0636e-04\n",
            "Epoch 190/200\n",
            "4/4 [==============================] - 0s 4ms/step - loss: 4.0965e-04\n",
            "Epoch 191/200\n",
            "4/4 [==============================] - 0s 4ms/step - loss: 4.0589e-04\n",
            "Epoch 192/200\n",
            "4/4 [==============================] - 0s 5ms/step - loss: 4.0648e-04\n",
            "Epoch 193/200\n",
            "4/4 [==============================] - 0s 4ms/step - loss: 4.0649e-04\n",
            "Epoch 194/200\n",
            "4/4 [==============================] - 0s 5ms/step - loss: 4.0723e-04\n",
            "Epoch 195/200\n",
            "4/4 [==============================] - 0s 4ms/step - loss: 4.0713e-04\n",
            "Epoch 196/200\n",
            "4/4 [==============================] - 0s 4ms/step - loss: 4.0508e-04\n",
            "Epoch 197/200\n",
            "4/4 [==============================] - 0s 4ms/step - loss: 4.0542e-04\n",
            "Epoch 198/200\n",
            "4/4 [==============================] - 0s 3ms/step - loss: 4.0537e-04\n",
            "Epoch 199/200\n",
            "4/4 [==============================] - 0s 3ms/step - loss: 4.1031e-04\n",
            "Epoch 200/200\n",
            "4/4 [==============================] - 0s 4ms/step - loss: 4.0368e-04\n",
            "CPU times: user 5.28 s, sys: 265 ms, total: 5.54 s\n",
            "Wall time: 7.5 s\n"
          ]
        }
      ]
    },
    {
      "cell_type": "markdown",
      "source": [
        "### Codificador (Encoder)\n",
        "\n",
        "Como se mencionó, se puede usar el codificador para comprimir la entrada a dos dimensiones."
      ],
      "metadata": {
        "id": "ZD-lEAdNYgyC"
      }
    },
    {
      "cell_type": "code",
      "source": [
        "# Codificar los datos\n",
        "codings = encoder.predict(X_train)\n",
        "\n",
        "# Muestra los vectores de entrada-salida del codificador\n",
        "print(f'[INFO] Vector de entrada: {X_train[0]}')\n",
        "print(f'[INFO] Vector codificado: {codings[0]}')"
      ],
      "metadata": {
        "colab": {
          "base_uri": "https://localhost:8080/"
        },
        "id": "1BsTW01vYf_u",
        "outputId": "20ff03f7-6e52-4e26-f842-978ed5f67a5f"
      },
      "execution_count": 12,
      "outputs": [
        {
          "output_type": "stream",
          "name": "stdout",
          "text": [
            "4/4 [==============================] - 0s 3ms/step\n",
            "[INFO] Vector de entrada: [-0.15167821  0.4062239   0.12138062]\n",
            "[INFO] Vector codificado: [-0.3292307   0.34482718]\n"
          ]
        }
      ]
    },
    {
      "cell_type": "code",
      "source": [
        "# Trazar todas las salidas del codificador\n",
        "fig = plt.figure(figsize=(4,3))\n",
        "plt.plot(codings[:, 0], codings[:, 1], 'b.')\n",
        "plt.xlabel(\"\", fontsize=18)\n",
        "plt.ylabel(\"\", fontsize=18, rotation=0)\n",
        "plt.grid(True)\n",
        "plt.show()"
      ],
      "metadata": {
        "colab": {
          "base_uri": "https://localhost:8080/",
          "height": 211
        },
        "id": "85A9cEdzZu1o",
        "outputId": "7b92dcdd-8ea1-48a0-c73f-fc2de4db0c92"
      },
      "execution_count": 13,
      "outputs": [
        {
          "output_type": "display_data",
          "data": {
            "text/plain": [
              "<Figure size 288x216 with 1 Axes>"
            ],
            "image/png": "[encoded data removed]"
          },
          "metadata": {
            "needs_background": "light"
          }
        }
      ]
    },
    {
      "cell_type": "markdown",
      "source": [
        "### Decodificador (Decoder)\n",
        "\n",
        "El decodificador intenta reconstruir la entrada original. Vea las salidas a continuación. Aunque no es perfecto, sigue la forma general de la entrada original."
      ],
      "metadata": {
        "id": "JWYaPhZFaDJ0"
      }
    },
    {
      "cell_type": "code",
      "source": [
        "# Decodificar la salida del codificador\n",
        "decodings = decoder.predict(codings)\n",
        "\n",
        "# Muestra la entrada y salida del codificador y decodificador\n",
        "print(f'[INFO] Observación de entrada: {X_train[0]}')\n",
        "print(f'[INFO] Vector codificado: {codings[0]}')\n",
        "print(f'[INFO] Vector decodificado: {decodings[0]}')"
      ],
      "metadata": {
        "colab": {
          "base_uri": "https://localhost:8080/"
        },
        "id": "vXM655I0aWwR",
        "outputId": "119194ca-47c8-4c43-c773-52b80b4cf8dd"
      },
      "execution_count": 16,
      "outputs": [
        {
          "output_type": "stream",
          "name": "stdout",
          "text": [
            "4/4 [==============================] - 0s 4ms/step\n",
            "[INFO] Observación de entrada: [-0.15167821  0.4062239   0.12138062]\n",
            "[INFO] Vector codificado: [-0.3292307   0.34482718]\n",
            "[INFO] Vector decodificado: [-0.14105693  0.41811258  0.11193671]\n"
          ]
        }
      ]
    },
    {
      "cell_type": "code",
      "source": [
        "# Trazar la salida del decodificador\n",
        "\n",
        "ax = plt.axes(projection='3d')\n",
        "ax.scatter3D(decodings[:, 0], decodings[:, 1], decodings[:, 2], c=decodings[:, 0], cmap=\"Reds\");"
      ],
      "metadata": {
        "colab": {
          "base_uri": "https://localhost:8080/",
          "height": 248
        },
        "id": "41v0I9bEaWz0",
        "outputId": "ac01137f-ac1e-4e3f-fd18-4ee8748b472b"
      },
      "execution_count": 17,
      "outputs": [
        {
          "output_type": "display_data",
          "data": {
            "text/plain": [
              "<Figure size 432x288 with 1 Axes>"
            ],
            "image/png": "[encoded data removed]"
          },
          "metadata": {
            "needs_background": "light"
          }
        }
      ]
    },
    {
      "cell_type": "markdown",
      "source": [
        "#### Ejemplo #2\n",
        "\n",
        "Se carga el conjunto de datos MNIST de TFDS particionado en conjuntos de entrenamiento y prueba. Primero se define una función de preprocesamiento para normalizar y aplanar las imágenes. Dado que se entrena un auto-codificador, devolverá dos veces la misma imagen porque los datos de entrada también serán la viariable objetivo o la etiqueta durante el entrenamiento."
      ],
      "metadata": {
        "id": "YmaxEv490hsx"
      }
    },
    {
      "cell_type": "code",
      "source": [
        "def map_image(image, label):\n",
        "    # Normaliza y aplana las imágenes. Devuelve la misma imagen tanto como entrada como salida (etiqueta)\n",
        "    image = tf.cast(image, dtype=tf.float32)\n",
        "    image /= 255.0\n",
        "    image = tf.reshape(image, shape=(784,))\n",
        "    return image, image"
      ],
      "metadata": {
        "id": "m0oryG5ayVo7"
      },
      "execution_count": 18,
      "outputs": []
    },
    {
      "cell_type": "code",
      "source": [
        "batch_size = 128\n",
        "buffer_size = 1024"
      ],
      "metadata": {
        "id": "43pr9ErQhWt9"
      },
      "execution_count": 19,
      "outputs": []
    },
    {
      "cell_type": "code",
      "source": [
        "train_dataset = tfds.load(\"mnist\", as_supervised=True, split=\"train\")\n",
        "train_dataset = train_dataset.map(map_image)\n",
        "train_dataset = train_dataset.shuffle(buffer_size).batch(batch_size).repeat()"
      ],
      "metadata": {
        "colab": {
          "base_uri": "https://localhost:8080/",
          "height": 105,
          "referenced_widgets": [
            "0ba57351ee424f899b35fc08a0bb36ad",
            "57a8fb5b732b4ac7a2e55a8fdcc999de",
            "810f635ed68f42ccb8040f941b4dc25c",
            "1411bd8e8ae743a398d96d5b6b1e0bea",
            "899d25ff85f54754be749c68ca0885b6",
            "b06fdb8dcb1e44f1b78e542ac2768c66",
            "c1d353e6ddf14063921a0dfc95cec8e4",
            "17dcc9bef10e46d7ad215a10aadf3905",
            "363a5261764a41de97fc82bcbc472b5d",
            "5cf1572adbca4644ac3e8a6dbb304615",
            "c4ff685b21794a15a884de043a63d3c7"
          ]
        },
        "id": "w5BoEriXyfFj",
        "outputId": "1fff0116-68e8-48c7-d798-007b19007cf8"
      },
      "execution_count": 20,
      "outputs": [
        {
          "output_type": "stream",
          "name": "stdout",
          "text": [
            "Downloading and preparing dataset 11.06 MiB (download: 11.06 MiB, generated: 21.00 MiB, total: 32.06 MiB) to /root/tensorflow_datasets/mnist/3.0.1...\n"
          ]
        },
        {
          "output_type": "display_data",
          "data": {
            "text/plain": [
              "Dl Completed...:   0%|          | 0/5 [00:00<?, ? file/s]"
            ],
            "application/vnd.jupyter.widget-view+json": {
              "version_major": 2,
              "version_minor": 0,
              "model_id": "0ba57351ee424f899b35fc08a0bb36ad"
            }
          },
          "metadata": {}
        },
        {
          "output_type": "stream",
          "name": "stdout",
          "text": [
            "Dataset mnist downloaded and prepared to /root/tensorflow_datasets/mnist/3.0.1. Subsequent calls will reuse this data.\n"
          ]
        }
      ]
    },
    {
      "cell_type": "code",
      "source": [
        "test_dataset = tfds.load(\"mnist\", as_supervised=True, split=\"test\")\n",
        "test_dataset = test_dataset.map(map_image)\n",
        "test_dataset = test_dataset.batch(batch_size).repeat()"
      ],
      "metadata": {
        "id": "ATcwdDuFhaJ2"
      },
      "execution_count": 21,
      "outputs": []
    },
    {
      "cell_type": "code",
      "source": [
        "def simple_autoencoder(inputs):\n",
        "    \"\"\"Construye el codificador y decodificador usando capas densas\"\"\"\n",
        "    encoder = tf.keras.layers.Dense(units=32, activation=\"relu\")(inputs)\n",
        "    decoder = tf.keras.layers.Dense(units=784, activation=\"sigmoid\")(encoder)\n",
        "    return encoder, decoder"
      ],
      "metadata": {
        "id": "cW1pbYqMhjCC"
      },
      "execution_count": 22,
      "outputs": []
    },
    {
      "cell_type": "code",
      "source": [
        "inputs = tf.keras.layers.Input(shape=(784,))\n",
        "encoder_output, decoder_output = simple_autoencoder(inputs)\n",
        "encoder_model = tf.keras.Model(inputs=inputs, outputs=encoder_output)\n",
        "autoencoder_model = tf.keras.Model(inputs=inputs, outputs=decoder_output)"
      ],
      "metadata": {
        "id": "4-gkNsvoysd0"
      },
      "execution_count": 23,
      "outputs": []
    },
    {
      "cell_type": "code",
      "source": [
        "autoencoder_model.compile(optimizer=tf.keras.optimizers.Adam(), loss=\"binary_crossentropy\")"
      ],
      "metadata": {
        "id": "5dcVx83Qywnz"
      },
      "execution_count": 24,
      "outputs": []
    },
    {
      "cell_type": "code",
      "source": [
        "%%time\n",
        "train_steps = 60000 // batch_size\n",
        "simple_auto_history = autoencoder_model.fit(train_dataset, steps_per_epoch=train_steps, epochs=50)"
      ],
      "metadata": {
        "id": "j1NmXfdzy2EP",
        "colab": {
          "base_uri": "https://localhost:8080/"
        },
        "outputId": "51b18ca5-48af-43df-fca5-6119c48c1d33"
      },
      "execution_count": 25,
      "outputs": [
        {
          "output_type": "stream",
          "name": "stdout",
          "text": [
            "Epoch 1/50\n",
            "468/468 [==============================] - 10s 20ms/step - loss: 0.2276\n",
            "Epoch 2/50\n",
            "468/468 [==============================] - 7s 14ms/step - loss: 0.1411\n",
            "Epoch 3/50\n",
            "468/468 [==============================] - 6s 12ms/step - loss: 0.1191\n",
            "Epoch 4/50\n",
            "468/468 [==============================] - 7s 14ms/step - loss: 0.1080\n",
            "Epoch 5/50\n",
            "468/468 [==============================] - 6s 12ms/step - loss: 0.1015\n",
            "Epoch 6/50\n",
            "468/468 [==============================] - 6s 13ms/step - loss: 0.0978\n",
            "Epoch 7/50\n",
            "468/468 [==============================] - 6s 13ms/step - loss: 0.0959\n",
            "Epoch 8/50\n",
            "468/468 [==============================] - 6s 12ms/step - loss: 0.0950\n",
            "Epoch 9/50\n",
            "468/468 [==============================] - 7s 14ms/step - loss: 0.0945\n",
            "Epoch 10/50\n",
            "468/468 [==============================] - 5s 12ms/step - loss: 0.0941\n",
            "Epoch 11/50\n",
            "468/468 [==============================] - 8s 17ms/step - loss: 0.0939\n",
            "Epoch 12/50\n",
            "468/468 [==============================] - 6s 12ms/step - loss: 0.0938\n",
            "Epoch 13/50\n",
            "468/468 [==============================] - 7s 15ms/step - loss: 0.0936\n",
            "Epoch 14/50\n",
            "468/468 [==============================] - 6s 12ms/step - loss: 0.0936\n",
            "Epoch 15/50\n",
            "468/468 [==============================] - 7s 14ms/step - loss: 0.0934\n",
            "Epoch 16/50\n",
            "468/468 [==============================] - 5s 12ms/step - loss: 0.0934\n",
            "Epoch 17/50\n",
            "468/468 [==============================] - 7s 14ms/step - loss: 0.0933\n",
            "Epoch 18/50\n",
            "468/468 [==============================] - 6s 12ms/step - loss: 0.0933\n",
            "Epoch 19/50\n",
            "468/468 [==============================] - 7s 15ms/step - loss: 0.0932\n",
            "Epoch 20/50\n",
            "468/468 [==============================] - 6s 12ms/step - loss: 0.0932\n",
            "Epoch 21/50\n",
            "468/468 [==============================] - 7s 15ms/step - loss: 0.0931\n",
            "Epoch 22/50\n",
            "468/468 [==============================] - 6s 12ms/step - loss: 0.0931\n",
            "Epoch 23/50\n",
            "468/468 [==============================] - 6s 13ms/step - loss: 0.0931\n",
            "Epoch 24/50\n",
            "468/468 [==============================] - 6s 13ms/step - loss: 0.0931\n",
            "Epoch 25/50\n",
            "468/468 [==============================] - 6s 12ms/step - loss: 0.0930\n",
            "Epoch 26/50\n",
            "468/468 [==============================] - 7s 14ms/step - loss: 0.0930\n",
            "Epoch 27/50\n",
            "468/468 [==============================] - 6s 12ms/step - loss: 0.0930\n",
            "Epoch 28/50\n",
            "468/468 [==============================] - 7s 15ms/step - loss: 0.0929\n",
            "Epoch 29/50\n",
            "468/468 [==============================] - 6s 12ms/step - loss: 0.0929\n",
            "Epoch 30/50\n",
            "468/468 [==============================] - 7s 14ms/step - loss: 0.0929\n",
            "Epoch 31/50\n",
            "468/468 [==============================] - 6s 12ms/step - loss: 0.0929\n",
            "Epoch 32/50\n",
            "468/468 [==============================] - 7s 14ms/step - loss: 0.0928\n",
            "Epoch 33/50\n",
            "468/468 [==============================] - 5s 12ms/step - loss: 0.0928\n",
            "Epoch 34/50\n",
            "468/468 [==============================] - 7s 14ms/step - loss: 0.0928\n",
            "Epoch 35/50\n",
            "468/468 [==============================] - 6s 12ms/step - loss: 0.0928\n",
            "Epoch 36/50\n",
            "468/468 [==============================] - 7s 14ms/step - loss: 0.0928\n",
            "Epoch 37/50\n",
            "468/468 [==============================] - 6s 12ms/step - loss: 0.0927\n",
            "Epoch 38/50\n",
            "468/468 [==============================] - 7s 15ms/step - loss: 0.0927\n",
            "Epoch 39/50\n",
            "468/468 [==============================] - 6s 12ms/step - loss: 0.0927\n",
            "Epoch 40/50\n",
            "468/468 [==============================] - 7s 14ms/step - loss: 0.0927\n",
            "Epoch 41/50\n",
            "468/468 [==============================] - 6s 12ms/step - loss: 0.0927\n",
            "Epoch 42/50\n",
            "468/468 [==============================] - 6s 14ms/step - loss: 0.0927\n",
            "Epoch 43/50\n",
            "468/468 [==============================] - 6s 13ms/step - loss: 0.0927\n",
            "Epoch 44/50\n",
            "468/468 [==============================] - 6s 13ms/step - loss: 0.0927\n",
            "Epoch 45/50\n",
            "468/468 [==============================] - 7s 14ms/step - loss: 0.0926\n",
            "Epoch 46/50\n",
            "468/468 [==============================] - 8s 16ms/step - loss: 0.0926\n",
            "Epoch 47/50\n",
            "468/468 [==============================] - 6s 12ms/step - loss: 0.0926\n",
            "Epoch 48/50\n",
            "468/468 [==============================] - 6s 13ms/step - loss: 0.0926\n",
            "Epoch 49/50\n",
            "468/468 [==============================] - 6s 14ms/step - loss: 0.0926\n",
            "Epoch 50/50\n",
            "468/468 [==============================] - 6s 12ms/step - loss: 0.0926\n",
            "CPU times: user 6min 39s, sys: 1min 8s, total: 7min 47s\n",
            "Wall time: 5min 22s\n"
          ]
        }
      ]
    },
    {
      "cell_type": "code",
      "source": [
        "def display_one_row(disp_images, offset, shape=(28, 28)):\n",
        "    # Muestra los resultados en una fila\n",
        "    for idx, test_image in enumerate(disp_images):\n",
        "        plt.subplot(3, 10, offset + idx + 1)\n",
        "        plt.xticks([])\n",
        "        plt.yticks([])\n",
        "        test_image = np.reshape(test_image, shape)\n",
        "        plt.imshow(test_image, cmap='gray')"
      ],
      "metadata": {
        "id": "dQjZf-tZy9Gl"
      },
      "execution_count": 27,
      "outputs": []
    },
    {
      "cell_type": "code",
      "source": [
        "def display_results(disp_input_images, disp_encoded, disp_predicted, enc_shape=(8, 4)):\n",
        "    # Muestra los valores de salida de entrada, codificados y decodificados\n",
        "    plt.figure(figsize=(15, 5))\n",
        "    display_one_row(disp_input_images, 0, shape=(28, 28,))\n",
        "    display_one_row(disp_encoded, 10, shape=enc_shape)\n",
        "    display_one_row(disp_predicted, 20, shape=(28, 28,))"
      ],
      "metadata": {
        "id": "uEtvOs9vzEvy"
      },
      "execution_count": 31,
      "outputs": []
    },
    {
      "cell_type": "code",
      "source": [
        "# Toma un batch del conjunto de datos\n",
        "test_dataset = test_dataset.take(1)\n",
        "\n",
        "output_samples = []\n",
        "for input_image, image in tfds.as_numpy(test_dataset):\n",
        "      output_samples = input_image\n",
        "\n",
        "idxs = np.random.choice(batch_size, size=10)\n",
        "\n",
        "# Obtiene la salida del codificador\n",
        "encoded_predicted = encoder_model.predict(test_dataset)\n",
        "\n",
        "# Obtiene una predicción para el lote de prueba\n",
        "simple_predicted = autoencoder_model.predict(test_dataset)\n",
        "\n",
        "# Muestra 10 observaciones, sus codificaciones y los valores decodificados\n",
        "display_results(output_samples[idxs], encoded_predicted[idxs], simple_predicted[idxs])"
      ],
      "metadata": {
        "id": "smcr8w30zIhf",
        "colab": {
          "base_uri": "https://localhost:8080/",
          "height": 334
        },
        "outputId": "a5e73e48-e743-4c8a-df3d-72c280b6f0a4"
      },
      "execution_count": 30,
      "outputs": [
        {
          "output_type": "stream",
          "name": "stdout",
          "text": [
            "1/1 [==============================] - 0s 293ms/step\n",
            "1/1 [==============================] - 0s 156ms/step\n"
          ]
        },
        {
          "output_type": "display_data",
          "data": {
            "text/plain": [
              "<Figure size 1080x360 with 30 Axes>"
            ],
            "image/png": "[encoded data removed]"
          },
          "metadata": {}
        }
      ]
    }
  ]
}