{
  "nbformat": 4,
  "nbformat_minor": 0,
  "metadata": {
    "colab": {
      "provenance": [],
      "authorship_tag": "ABX9TyNfcineyRp4HF3op3SgYAKl",
      "include_colab_link": true
    },
    "kernelspec": {
      "name": "python3",
      "display_name": "Python 3"
    },
    "language_info": {
      "name": "python"
    },
    "gpuClass": "standard"
  },
  "cells": [
    {
      "cell_type": "markdown",
      "metadata": {
        "id": "view-in-github",
        "colab_type": "text"
      },
      "source": [
        "<a href=\"https://colab.research.google.com/github/FernandoBRdgz/inteligencia_artificial/blob/main/remoci%C3%B3n_de_fondo/alpha_matting_con_rembg.ipynb\" target=\"_parent\"><img src=\"https://colab.research.google.com/assets/colab-badge.svg\" alt=\"Open In Colab\"/></a>"
      ]
    },
    {
      "cell_type": "markdown",
      "source": [
        "## Introducción\n",
        "\n",
        "Este notebook utiliza la técnica *alpha matting* de la librería *rembg* para extraer un objeto de primer plano con límites suaves de una imagen de fondo, es decir, remover el fondo de una imagen dada."
      ],
      "metadata": {
        "id": "HX35U-Pstcm9"
      }
    },
    {
      "cell_type": "markdown",
      "source": [
        "El mateado de imágenes es el proceso de extraer un mate alfa preciso que separa los objetos de primer plano y de fondo en una imagen. Esta técnica se ha utilizado tradicionalmente en la industria cinematográfica y fotográfica para fines de edición de imágenes y videos, por ejemplo, reemplazo de fondo, efecto bokeh sintético y otros efectos visuales. La superposición de imágenes supone que una imagen es una combinación de imágenes de primer plano y de fondo y, por lo tanto, la intensidad de cada píxel es una combinación lineal del primer plano y el fondo.\n",
        "\n",
        "En el caso de la segmentación tradicional de imágenes, la imagen se segmenta de forma binaria, en la que un píxel pertenece al primer plano o al fondo. Este tipo de segmentación, sin embargo, no puede tratar con escenas naturales que contienen detalles finos, por ejemplo, cabello y pelaje, que requieren estimar un valor de transparencia para cada píxel del objeto en primer plano."
      ],
      "metadata": {
        "id": "f6pHfG_duLh4"
      }
    },
    {
      "cell_type": "code",
      "execution_count": null,
      "metadata": {
        "id": "4i2icmeXRDlM"
      },
      "outputs": [],
      "source": [
        "!pip install rembg gradio"
      ]
    },
    {
      "cell_type": "code",
      "source": [
        "import os\n",
        "import cv2\n",
        "import gradio as gr\n",
        "\n",
        "from rembg import remove\n",
        "from rembg.session_base import BaseSession\n",
        "from rembg.session_factory import new_session\n",
        "\n",
        "import warnings\n",
        "warnings.filterwarnings(\"ignore\")"
      ],
      "metadata": {
        "id": "-VywFVA9RyEN"
      },
      "execution_count": 2,
      "outputs": []
    },
    {
      "cell_type": "code",
      "source": [
        "def inference(file, af, mask, model):\n",
        "    img = cv2.imread(file, cv2.IMREAD_COLOR)\n",
        "    cv2.imwrite(os.path.join(\"input.png\"), img)\n",
        "\n",
        "    input_path = 'input.png'\n",
        "    output_path = 'output.png'\n",
        "\n",
        "    with open(input_path, 'rb') as i:\n",
        "        with open(output_path, 'wb') as o:\n",
        "            input = i.read()\n",
        "            sessions: dict[str, BaseSession] = {}\n",
        "            output = remove(input, session=sessions.setdefault(model, new_session(model)),\n",
        "                            alpha_matting_erode_size = af,\n",
        "                            only_mask = (True if mask == \"Mask only\" else False))\n",
        "            o.write(output)\n",
        "    return os.path.join(\"output.png\")"
      ],
      "metadata": {
        "id": "H-_as-hrSGV_"
      },
      "execution_count": 3,
      "outputs": []
    },
    {
      "cell_type": "code",
      "source": [
        "title = \"Remover Fondo\"\n",
        "description = \"Demostración de la libraría rembg. Para usarlo, simplemente cargue una imagen, seleccione un modelo y envíe.\""
      ],
      "metadata": {
        "id": "ceZuBXroTcNY"
      },
      "execution_count": 4,
      "outputs": []
    },
    {
      "cell_type": "code",
      "source": [
        "gr.Interface(inference,\n",
        "    [gr.inputs.Image(type=\"filepath\", label=\"Imagen de entrada\"),\n",
        "     gr.inputs.Slider(10, 25, default=10, label=\"Ajuste de 'alpha matting'\"), \n",
        "     gr.inputs.Radio([\"Default\", \"Mask only\"], type=\"value\", default=\"Default\", label=\"Opciones\"),\n",
        "     gr.inputs.Dropdown([\"u2net\", \"u2netp\", \"u2net_human_seg\", \"u2net_cloth_seg\", \"silueta\"],\n",
        "                        type=\"value\", default=\"u2net\", label=\"Modelos\")], \n",
        "    gr.outputs.Image(type=\"pil\", label=\"Imagen de salida\"),\n",
        "    title=title, description=description, enable_queue=True).launch(share=True)"
      ],
      "metadata": {
        "colab": {
          "base_uri": "https://localhost:8080/",
          "height": 591
        },
        "id": "jdMKYQjjTuz3",
        "outputId": "ba537301-02b0-46be-cadc-003d2046e89f"
      },
      "execution_count": 5,
      "outputs": [
        {
          "output_type": "stream",
          "name": "stdout",
          "text": [
            "Colab notebook detected. To show errors in colab notebook, set debug=True in launch()\n",
            "Running on public URL: https://009e422836b63f3106.gradio.live\n",
            "\n",
            "This share link expires in 72 hours. For free permanent hosting and GPU upgrades (NEW!), check out Spaces: https://huggingface.co/spaces\n"
          ]
        },
        {
          "output_type": "display_data",
          "data": {
            "text/plain": [
              "<IPython.core.display.HTML object>"
            ],
            "text/html": [
              "<div><iframe src=\"https://009e422836b63f3106.gradio.live\" width=\"100%\" height=\"500\" allow=\"autoplay; camera; microphone; clipboard-read; clipboard-write;\" frameborder=\"0\" allowfullscreen></iframe></div>"
            ]
          },
          "metadata": {}
        },
        {
          "output_type": "execute_result",
          "data": {
            "text/plain": []
          },
          "metadata": {},
          "execution_count": 5
        }
      ]
    },
    {
      "cell_type": "markdown",
      "source": [
        "**Referencias**\n",
        "\n",
        "* https://gradio.app/docs/#image\n",
        "* https://github.com/danielgatis/rembg\n",
        "* https://docs.opencv.org/4.x/d4/d40/group__alphamat.html"
      ],
      "metadata": {
        "id": "uMhtBvBbrvyW"
      }
    }
  ]
}