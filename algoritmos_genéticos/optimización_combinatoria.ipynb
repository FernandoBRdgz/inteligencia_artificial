{
  "nbformat": 4,
  "nbformat_minor": 0,
  "metadata": {
    "colab": {
      "provenance": [],
      "authorship_tag": "ABX9TyO+IfBBWgLqtHN1ceUSweKV",
      "include_colab_link": true
    },
    "kernelspec": {
      "name": "python3",
      "display_name": "Python 3"
    },
    "language_info": {
      "name": "python"
    }
  },
  "cells": [
    {
      "cell_type": "markdown",
      "metadata": {
        "id": "view-in-github",
        "colab_type": "text"
      },
      "source": [
        "<a href=\"https://colab.research.google.com/github/FernandoBRdgz/inteligencia_artificial/blob/main/algoritmos_gen%C3%A9ticos/optimizaci%C3%B3n_combinatoria.ipynb\" target=\"_parent\"><img src=\"https://colab.research.google.com/assets/colab-badge.svg\" alt=\"Open In Colab\"/></a>"
      ]
    },
    {
      "cell_type": "markdown",
      "source": [
        "## Introducción\n",
        "\n",
        "Un algoritmo genético es una técnica de optimización que se inspira en la evolución biológica para encontrar soluciones a problemas complejos. En términos generales, consiste en crear una población inicial de soluciones candidatas, aplicar operaciones de selección, cruza y mutación para generar nuevas soluciones, y evaluar el rendimiento de cada solución en base a una función objetivo definida. Las soluciones con mejores rendimientos tienen más posibilidades de sobrevivir y reproducirse en la siguiente generación, mientras que las soluciones peor adaptadas son eliminadas.\n",
        "\n",
        "La idea detrás de los algoritmos genéticos es que, al aplicar una selección natural sobre soluciones candidatas, se pueden encontrar soluciones mejores y mejores con el tiempo. En la inteligencia artificial, los algoritmos genéticos se utilizan a menudo en problemas de optimización, como encontrar la mejor solución para un problema de programación lineal o de asignación de recursos. También se pueden utilizar en la generación de soluciones creativas en áreas como la arquitectura o el diseño."
      ],
      "metadata": {
        "id": "6c0Qjp0VCCQd"
      }
    },
    {
      "cell_type": "markdown",
      "source": [
        "**Objetivo** En este ejemplo, veremos como implementar el problema de la mochila, también conocido como problema de la mochila 0-1 o problema Knapsack. Es un problema de optimización combinatoria. El problema consiste en seleccionar un subconjunto de elementos de un conjunto dado, de tal manera que la suma de sus pesos no exceda una capacidad dada, y que la suma de sus valores sea lo más grande posible.\n",
        "\n",
        "El problema se puede formular de la siguiente manera: se tiene una mochila con una capacidad máxima de peso W, y se tiene un conjunto de n elementos, cada uno con un valor v y un peso w. El objetivo es seleccionar un subconjunto de elementos cuya suma de pesos no exceda W, y cuya suma de valores sea lo más grande posible.\n",
        "\n",
        "El problema de la mochila es un problema NP-completo, lo que significa que no se conoce un algoritmo eficiente para resolverlo en el peor de los casos. Sin embargo, existen varios algoritmos heurísticos y metaheurísticos que pueden proporcionar soluciones aproximadas al problema de manera eficiente en la mayoría de los casos."
      ],
      "metadata": {
        "id": "K10B4kYUCEZT"
      }
    },
    {
      "cell_type": "code",
      "source": [
        "from functools import partial\n",
        "from collections import namedtuple\n",
        "from random import choices, randint, randrange, random"
      ],
      "metadata": {
        "id": "SmcI4RZaFLsJ"
      },
      "execution_count": null,
      "outputs": []
    },
    {
      "cell_type": "code",
      "source": [
        "# Función para generar un genoma aleatorio de longitud \"length\"\n",
        "def generate_genome(length):\n",
        "    # Se utiliza la función \"choices\" del módulo \"random\" para generar un genoma aleatorio\n",
        "    return choices([0, 1], k=length)"
      ],
      "metadata": {
        "id": "DxZH3u1SE7_u"
      },
      "execution_count": null,
      "outputs": []
    },
    {
      "cell_type": "code",
      "source": [
        "# Función para generar una población aleatoria de tamaño \"size\", donde cada individuo tiene un genoma de longitud \"genome_length\"\n",
        "def generate_population(size, genome_length):\n",
        "    # Se utiliza la función \"generate_genome\" para generar cada individuo de la población\n",
        "    return [generate_genome(genome_length) for _ in range(size)]"
      ],
      "metadata": {
        "id": "6QIbScpnE9c2"
      },
      "execution_count": null,
      "outputs": []
    },
    {
      "cell_type": "code",
      "source": [
        "# Función para realizar un cruce de un punto entre dos genomas \"a\" y \"b\"\n",
        "def single_point_crossover(a, b):\n",
        "    # Se verifica que los genomas \"a\" y \"b\" tengan la misma longitud\n",
        "    if len(a) != len(b):\n",
        "        raise ValueError(\"Genomes a and b must be of same length\")\n",
        "    # Se obtiene la longitud de los genomas\n",
        "    length = len(a)\n",
        "    # Si la longitud es menor a 2, se devuelve los mismos genomas\n",
        "    if length < 2:\n",
        "        return a, b\n",
        "    # Se elige un punto de cruce aleatorio entre 1 y la longitud del genoma menos 1\n",
        "    p = randint(1, length - 1)\n",
        "    # Se intercambian las partes del genoma a partir del punto de cruce para generar dos nuevos genomas\n",
        "    return a[0:p] + b[p:], b[0:p] + a[p:]"
      ],
      "metadata": {
        "id": "JfddB1IJE_SW"
      },
      "execution_count": null,
      "outputs": []
    },
    {
      "cell_type": "code",
      "source": [
        "# Función para mutar un genoma. \"num\" indica la cantidad de mutaciones a realizar, y \"probability\" es la probabilidad de que un bit sea invertido.\n",
        "def mutation(genome, num=1, probability=0.5):\n",
        "    # Se realizan \"num\" mutaciones en el genoma\n",
        "    for _ in range(num):\n",
        "        # Se elige un índice aleatorio del genoma\n",
        "        index = randrange(len(genome))\n",
        "        # Se invierte el bit en el índice elegido con una probabilidad \"probability\"\n",
        "        genome[index] = genome[index] if random() > probability else abs(genome[index] - 1)\n",
        "    # Se devuelve el genoma mutado\n",
        "    return genome"
      ],
      "metadata": {
        "id": "0zJMTaN9HQD6"
      },
      "execution_count": null,
      "outputs": []
    },
    {
      "cell_type": "code",
      "source": [
        "# Función para calcular el fitness total de una población\n",
        "def population_fitness(population, fitness_func):\n",
        "    # Se utiliza la función \"sum\" para calcular la suma de los fitness de cada individuo de la población\n",
        "    return sum([fitness_func(genome) for genome in population])"
      ],
      "metadata": {
        "id": "o3-Uc_CcHV8h"
      },
      "execution_count": null,
      "outputs": []
    },
    {
      "cell_type": "code",
      "source": [
        "# Función para seleccionar una pareja de individuos para el cruce\n",
        "def selection_pair(population, fitness_func):\n",
        "    # Se utiliza la función \"choices\" del módulo \"random\" para elegir dos individuos de la población con una probabilidad ponderada por su fitness\n",
        "    return choices(population=population, weights=[fitness_func(gene) for gene in population], k=2)"
      ],
      "metadata": {
        "id": "8BfeMx4tHbIm"
      },
      "execution_count": null,
      "outputs": []
    },
    {
      "cell_type": "code",
      "source": [
        "# Función para ordenar una población de mayor a menor fitness\n",
        "def sort_population(population, fitness_func):\n",
        "    # Se utiliza la función \"sorted\" para ordenar la población en función de su fitness, de mayor a menor\n",
        "    return sorted(population, key=fitness_func, reverse=True)"
      ],
      "metadata": {
        "id": "CqO3WHLMHfN6"
      },
      "execution_count": null,
      "outputs": []
    },
    {
      "cell_type": "code",
      "source": [
        "# Función para convertir un genoma a una cadena de caracteres\n",
        "def genome_to_string(genome):\n",
        "    # Se utiliza la función \"join\" para concatenar los elementos del genoma como una cadena de caracteres\n",
        "    return \"\".join(map(str, genome))"
      ],
      "metadata": {
        "id": "Ks3966bwHj_0"
      },
      "execution_count": null,
      "outputs": []
    },
    {
      "cell_type": "code",
      "source": [
        "def print_stats(population, generation_id, fitness_func):\n",
        "    print(\"Generación %02d\" % generation_id)\n",
        "    print(\"=============\")\n",
        "    print(\"Población: [%s]\" % \", \".join([genome_to_string(gene) for gene in population]))\n",
        "    print(\"Ajuste medio: %f\" % (population_fitness(population, fitness_func) / len(population)))\n",
        "    sorted_population = sort_population(population, fitness_func)\n",
        "    print(\"Mejor: %s (%f)\" % (genome_to_string(sorted_population[0]), fitness_func(sorted_population[0])))\n",
        "    print(\"Peor: %s (%f)\" % (genome_to_string(sorted_population[-1]), fitness_func(sorted_population[-1])))\n",
        "    print(\"\")\n",
        "    return sorted_population[0]"
      ],
      "metadata": {
        "id": "CazoE7OuGQmr"
      },
      "execution_count": null,
      "outputs": []
    },
    {
      "cell_type": "code",
      "source": [
        "# Función para ejecutar el algoritmo evolutivo\n",
        "def run_evolution(populate_func, fitness_func, fitness_limit, selection_func=selection_pair, crossover_func=single_point_crossover,\n",
        "                  mutation_func=mutation, generation_limit=100, printer=print_stats):\n",
        "    \n",
        "    # Se crea la población inicial\n",
        "    population = populate_func()\n",
        "\n",
        "    # Se ejecutan las generaciones del algoritmo\n",
        "    for i in range(generation_limit):\n",
        "        # Se ordena la población en función de su fitness\n",
        "        population = sorted(population, key=lambda genome: fitness_func(genome), reverse=True)\n",
        "\n",
        "        # Se imprime la información de la población si se proporciona una función de impresión\n",
        "        if printer is not None:\n",
        "            printer(population, i, fitness_func)\n",
        "\n",
        "        # Si se alcanza el fitness límite, se sale del bucle\n",
        "        if fitness_func(population[0]) >= fitness_limit:\n",
        "            break\n",
        "\n",
        "        # Se seleccionan los dos individuos con mayor fitness para la siguiente generación\n",
        "        next_generation = population[0:2]\n",
        "\n",
        "        # Se generan los descendientes a partir de los padres seleccionados mediante cruce y mutación\n",
        "        for j in range(int(len(population) / 2) - 1):\n",
        "            parents = selection_func(population, fitness_func)\n",
        "            offspring_a, offspring_b = crossover_func(parents[0], parents[1])\n",
        "            offspring_a = mutation_func(offspring_a)\n",
        "            offspring_b = mutation_func(offspring_b)\n",
        "            next_generation += [offspring_a, offspring_b]\n",
        "\n",
        "        # Se actualiza la población para la siguiente generación\n",
        "        population = next_generation\n",
        "\n",
        "    # Se devuelve la población final y el número de generaciones ejecutadas\n",
        "    return population, i"
      ],
      "metadata": {
        "id": "7lyfvyOKH6i1"
      },
      "execution_count": null,
      "outputs": []
    },
    {
      "cell_type": "code",
      "source": [
        "Thing = namedtuple('Thing', ['name', 'value', 'weight'])"
      ],
      "metadata": {
        "id": "1lS73tPbHZuF"
      },
      "execution_count": null,
      "outputs": []
    },
    {
      "cell_type": "code",
      "source": [
        "def generate_things(num):\n",
        "    # Genera una lista de objetos \"Thing\" con valores y pesos aleatorios.\n",
        "    return [Thing(f\"thing{i}\", i, i) for i in range(1, num+1)]"
      ],
      "metadata": {
        "id": "HXgl82gOHSoF"
      },
      "execution_count": null,
      "outputs": []
    },
    {
      "cell_type": "code",
      "source": [
        "def fitness(genome, things, weight_limit):\n",
        "    if len(genome) != len(things):\n",
        "        raise ValueError(\"el genoma y los objetos deben ser de la misma longitud\")\n",
        "\n",
        "    weight = 0\n",
        "    value = 0\n",
        "    for i, thing in enumerate(things):\n",
        "        if genome[i] == 1:\n",
        "            weight += thing.weight\n",
        "            value += thing.value\n",
        "\n",
        "            if weight > weight_limit:\n",
        "                return 0\n",
        "\n",
        "    return value"
      ],
      "metadata": {
        "id": "FpYltJC4HQ7i"
      },
      "execution_count": null,
      "outputs": []
    },
    {
      "cell_type": "code",
      "source": [
        "first_example = [\n",
        "    Thing('Laptop', 500, 2200),\n",
        "    Thing('Audífonos', 150, 160),\n",
        "    Thing('Taza de café', 60, 350),\n",
        "    Thing('Cuaderno', 40, 333),\n",
        "    Thing('Botella de agua', 30, 192),\n",
        "]\n",
        "\n",
        "second_example = first_example + [\n",
        "    Thing('Dulces', 5, 25),\n",
        "    Thing('Calcetines', 10, 38),\n",
        "    Thing('Pañuelos', 15, 80),\n",
        "    Thing('Celular', 500, 200),\n",
        "    Thing('Batería', 100, 70)\n",
        "]"
      ],
      "metadata": {
        "id": "rwlVSIl6Hjxl"
      },
      "execution_count": null,
      "outputs": []
    },
    {
      "cell_type": "code",
      "source": [
        "things = generate_things(22)\n",
        "things = second_example\n",
        "\n",
        "weight_limit = 3000\n",
        "\n",
        "print(\"Peso límite: %dkg\" % weight_limit)"
      ],
      "metadata": {
        "colab": {
          "base_uri": "https://localhost:8080/"
        },
        "id": "JQmOOKbvG83Y",
        "outputId": "5f8454d9-081b-46d3-d5b0-a46fcaf87799"
      },
      "execution_count": null,
      "outputs": [
        {
          "output_type": "stream",
          "name": "stdout",
          "text": [
            "Peso límite: 3000kg\n"
          ]
        }
      ]
    },
    {
      "cell_type": "code",
      "source": [
        "def bruteforce(things, weight_limit: int):\n",
        "    if len(things) == 0:\n",
        "        return 0, []\n",
        "\n",
        "    max_value = 0\n",
        "    max_valued_packed = []\n",
        "    for i, thing in enumerate(things):\n",
        "        if thing.weight > weight_limit:\n",
        "            continue\n",
        "\n",
        "        value, packed = bruteforce(things[i + 1:], weight_limit - thing.weight)\n",
        "        if value + thing.value >= max_value:\n",
        "            max_value = value + thing.value\n",
        "            max_valued_packed = [thing] + packed\n",
        "\n",
        "    return max_value, max_valued_packed"
      ],
      "metadata": {
        "id": "srmsaUsUITYd"
      },
      "execution_count": null,
      "outputs": []
    },
    {
      "cell_type": "code",
      "source": [
        "result = bruteforce(things, weight_limit)\n",
        "result"
      ],
      "metadata": {
        "colab": {
          "base_uri": "https://localhost:8080/"
        },
        "id": "vVLzOweDIZXX",
        "outputId": "856a8c92-52c4-47c5-bd5d-1a34f3a6bf5c"
      },
      "execution_count": null,
      "outputs": [
        {
          "output_type": "execute_result",
          "data": {
            "text/plain": [
              "(1310,\n",
              " [Thing(name='Laptop', value=500, weight=2200),\n",
              "  Thing(name='Audífonos', value=150, weight=160),\n",
              "  Thing(name='Botella de agua', value=30, weight=192),\n",
              "  Thing(name='Dulces', value=5, weight=25),\n",
              "  Thing(name='Calcetines', value=10, weight=38),\n",
              "  Thing(name='Pañuelos', value=15, weight=80),\n",
              "  Thing(name='Celular', value=500, weight=200),\n",
              "  Thing(name='Batería', value=100, weight=70)])"
            ]
          },
          "metadata": {},
          "execution_count": 18
        }
      ]
    },
    {
      "cell_type": "code",
      "source": [
        "population, generations = run_evolution(\n",
        "\t\tpopulate_func=partial(generate_population, size=10, genome_length=len(things)),\n",
        "\t\tfitness_func=partial(fitness, things=things, weight_limit=weight_limit),\n",
        "\t\tfitness_limit=result[0],\n",
        "\t\tgeneration_limit=100)"
      ],
      "metadata": {
        "colab": {
          "base_uri": "https://localhost:8080/"
        },
        "id": "YHlPl4HdGNU9",
        "outputId": "0329c6cd-5ca7-4e67-ae56-a96015e9e59f"
      },
      "execution_count": null,
      "outputs": [
        {
          "output_type": "stream",
          "name": "stdout",
          "text": [
            "Generación 00\n",
            "=============\n",
            "Población: [0110100011, 0100101110, 1001011101, 0001000111, 0001001010, 0011100101, 0011110000, 0000111100, 1110111101, 1011110010]\n",
            "Ajuste medio: 386.000000\n",
            "Mejor: 0110100011 (840.000000)\n",
            "Peor: 1011110010 (0.000000)\n",
            "\n",
            "Generación 01\n",
            "=============\n",
            "Población: [1100101111, 0110100111, 0110100011, 0110100011, 0100101110, 0010100011, 0011001010, 0111100101, 0001100101, 1110100010]\n",
            "Ajuste medio: 642.500000\n",
            "Mejor: 1100101111 (1305.000000)\n",
            "Peor: 1110100010 (0.000000)\n",
            "\n",
            "Generación 02\n",
            "=============\n",
            "Población: [1100101111, 1000101011, 0111100011, 0110100111, 0110100011, 0110100011, 0010101011, 0010100011, 0000100111, 0110100001]\n",
            "Ajuste medio: 823.500000\n",
            "Mejor: 1100101111 (1305.000000)\n",
            "Peor: 0110100001 (340.000000)\n",
            "\n",
            "Generación 03\n",
            "=============\n",
            "Población: [1100101111, 1000101011, 1000100011, 0110101011, 0110100011, 0011100011, 0010100011, 0000001011, 0000100101, 1010101011]\n",
            "Ajuste medio: 744.000000\n",
            "Mejor: 1100101111 (1305.000000)\n",
            "Peor: 1010101011 (0.000000)\n",
            "\n",
            "Generación 04\n",
            "=============\n",
            "Población: [1100101111, 1100101011, 1000101111, 1000101011, 1000100011, 0110100111, 0000100011, 1000100001, 0011100101, 1010101011]\n",
            "Ajuste medio: 838.000000\n",
            "Mejor: 1100101111 (1305.000000)\n",
            "Peor: 1010101011 (0.000000)\n",
            "\n",
            "Generación 05\n",
            "=============\n",
            "Población: [1100101111, 1100100111, 1100101011, 1100101011, 1100100011, 1100101010, 1000100111, 1000101011, 0110100111, 1000001001]\n",
            "Ajuste medio: 1140.000000\n",
            "Mejor: 1100101111 (1305.000000)\n",
            "Peor: 1000001001 (610.000000)\n",
            "\n",
            "Generación 06\n",
            "=============\n",
            "Población: [1100101111, 1100101111, 1100100111, 1100101011, 1100100011, 1100101010, 1000101010, 0110100110, 1110101011, 1110100111]\n",
            "Ajuste medio: 946.000000\n",
            "Mejor: 1100101111 (1305.000000)\n",
            "Peor: 1110100111 (0.000000)\n",
            "\n",
            "Generación 07\n",
            "=============\n",
            "Población: [1100101111, 1100101111, 1100101111, 1100101111, 1100101011, 1100101110, 1100101010, 1100101010, 1100101010, 1000101010]\n",
            "Ajuste medio: 1232.500000\n",
            "Mejor: 1100101111 (1305.000000)\n",
            "Peor: 1000101010 (1040.000000)\n",
            "\n",
            "Generación 08\n",
            "=============\n",
            "Población: [1100111111, 1100101111, 1100101111, 1100101111, 1100101111, 1100101111, 1100101110, 1100101110, 1100101010, 0100101010]\n",
            "Ajuste medio: 1212.500000\n",
            "Mejor: 1100111111 (1310.000000)\n",
            "Peor: 0100101010 (690.000000)\n",
            "\n"
          ]
        }
      ]
    },
    {
      "cell_type": "code",
      "source": [
        "def from_genome(genome, things):\n",
        "    result = []\n",
        "    for i, thing in enumerate(things):\n",
        "        if genome[i] == 1:\n",
        "            result += [thing]\n",
        "\n",
        "    return result"
      ],
      "metadata": {
        "id": "cO8wHl-4Ik5o"
      },
      "execution_count": null,
      "outputs": []
    },
    {
      "cell_type": "code",
      "source": [
        "def to_string(things):\n",
        "    return f\"[{', '.join([t.name for t in things])}]\"\n",
        "\n",
        "\n",
        "def value(things):\n",
        "    return sum([t.value for t in things])\n",
        "\n",
        "\n",
        "def weight(things):\n",
        "    return sum([p.weight for p in things])"
      ],
      "metadata": {
        "id": "54NwWEK0I3FE"
      },
      "execution_count": null,
      "outputs": []
    },
    {
      "cell_type": "code",
      "source": [
        "def print_stats2(things):\n",
        "    print(f\"Things: {to_string(things)}\")\n",
        "    print(f\"Value {value(things)}\")\n",
        "    print(f\"Weight: {weight(things)}\")"
      ],
      "metadata": {
        "id": "yvE-5B5xIwGZ"
      },
      "execution_count": null,
      "outputs": []
    },
    {
      "cell_type": "code",
      "source": [
        "sack = from_genome(population[0], things)\n",
        "print_stats2(sack)"
      ],
      "metadata": {
        "colab": {
          "base_uri": "https://localhost:8080/"
        },
        "id": "7S2HwoKZH__A",
        "outputId": "e7d26584-7acc-4f77-877d-64685664bdcb"
      },
      "execution_count": null,
      "outputs": [
        {
          "output_type": "stream",
          "name": "stdout",
          "text": [
            "Things: [Laptop, Audífonos, Botella de agua, Dulces, Calcetines, Pañuelos, Celular, Batería]\n",
            "Value 1310\n",
            "Weight: 2965\n"
          ]
        }
      ]
    },
    {
      "cell_type": "code",
      "source": [
        "result"
      ],
      "metadata": {
        "colab": {
          "base_uri": "https://localhost:8080/"
        },
        "id": "pXSxL_8fInqj",
        "outputId": "6bfca885-4023-448f-b1eb-c3283b98f2cc"
      },
      "execution_count": null,
      "outputs": [
        {
          "output_type": "execute_result",
          "data": {
            "text/plain": [
              "(1310,\n",
              " [Thing(name='Laptop', value=500, weight=2200),\n",
              "  Thing(name='Audífonos', value=150, weight=160),\n",
              "  Thing(name='Botella de agua', value=30, weight=192),\n",
              "  Thing(name='Dulces', value=5, weight=25),\n",
              "  Thing(name='Calcetines', value=10, weight=38),\n",
              "  Thing(name='Pañuelos', value=15, weight=80),\n",
              "  Thing(name='Celular', value=500, weight=200),\n",
              "  Thing(name='Batería', value=100, weight=70)])"
            ]
          },
          "metadata": {},
          "execution_count": 24
        }
      ]
    },
    {
      "cell_type": "markdown",
      "source": [
        "**Referencias**\n",
        "\n",
        "* https://arpitbhayani.me/blogs/genetic-knapsack\n",
        "* https://plainenglish.io/blog/genetic-algorithm-in-python-101-da1687d3339b\n",
        "* https://www.kdnuggets.com/2023/01/knapsack-problem-genetic-programming-python.html"
      ],
      "metadata": {
        "id": "__phB-cYJRGz"
      }
    },
    {
      "cell_type": "markdown",
      "source": [
        "**Por hacer**\n",
        "\n",
        "* Terminar comentarios a las funciones\n",
        "* Reestructurar orden de funciones"
      ],
      "metadata": {
        "id": "FFiexQaIPKR5"
      }
    }
  ]
}