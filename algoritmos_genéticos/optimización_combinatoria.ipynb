{
  "nbformat": 4,
  "nbformat_minor": 0,
  "metadata": {
    "colab": {
      "provenance": [],
      "authorship_tag": "ABX9TyOgGxkJme8Gnk+5cL69wKKU",
      "include_colab_link": true
    },
    "kernelspec": {
      "name": "python3",
      "display_name": "Python 3"
    },
    "language_info": {
      "name": "python"
    }
  },
  "cells": [
    {
      "cell_type": "markdown",
      "metadata": {
        "id": "view-in-github",
        "colab_type": "text"
      },
      "source": [
        "<a href=\"https://colab.research.google.com/github/FernandoBRdgz/inteligencia_artificial/blob/main/algoritmos_gen%C3%A9ticos/optimizaci%C3%B3n_combinatoria.ipynb\" target=\"_parent\"><img src=\"https://colab.research.google.com/assets/colab-badge.svg\" alt=\"Open In Colab\"/></a>"
      ]
    },
    {
      "cell_type": "code",
      "source": [
        "from functools import partial\n",
        "from collections import namedtuple\n",
        "from random import choices, randint, randrange, random"
      ],
      "metadata": {
        "id": "SmcI4RZaFLsJ"
      },
      "execution_count": 1,
      "outputs": []
    },
    {
      "cell_type": "code",
      "source": [
        "def generate_genome(length):\n",
        "    return choices([0, 1], k=length)"
      ],
      "metadata": {
        "id": "DxZH3u1SE7_u"
      },
      "execution_count": 2,
      "outputs": []
    },
    {
      "cell_type": "code",
      "source": [
        "def generate_population(size, genome_length):\n",
        "    return [generate_genome(genome_length) for _ in range(size)]"
      ],
      "metadata": {
        "id": "6QIbScpnE9c2"
      },
      "execution_count": 3,
      "outputs": []
    },
    {
      "cell_type": "code",
      "source": [
        "def single_point_crossover(a, b):\n",
        "    if len(a) != len(b):\n",
        "        raise ValueError(\"Genomes a and b must be of same length\")\n",
        "\n",
        "    length = len(a)\n",
        "    if length < 2:\n",
        "        return a, b\n",
        "\n",
        "    p = randint(1, length - 1)\n",
        "    return a[0:p] + b[p:], b[0:p] + a[p:]"
      ],
      "metadata": {
        "id": "JfddB1IJE_SW"
      },
      "execution_count": 4,
      "outputs": []
    },
    {
      "cell_type": "code",
      "source": [
        "def mutation(genome, num=1, probability=0.5):\n",
        "    for _ in range(num):\n",
        "        index = randrange(len(genome))\n",
        "        genome[index] = genome[index] if random() > probability else abs(genome[index] - 1)\n",
        "    return genome"
      ],
      "metadata": {
        "id": "qIIMY9frFBCr"
      },
      "execution_count": 5,
      "outputs": []
    },
    {
      "cell_type": "code",
      "source": [
        "def population_fitness(population, fitness_func):\n",
        "    return sum([fitness_func(genome) for genome in population])"
      ],
      "metadata": {
        "id": "WzjGozioFCuv"
      },
      "execution_count": 6,
      "outputs": []
    },
    {
      "cell_type": "code",
      "source": [
        "def selection_pair(population, fitness_func):\n",
        "    return choices(population=population, weights=[fitness_func(gene) for gene in population], k=2)"
      ],
      "metadata": {
        "id": "Oo3G1_OKFEVs"
      },
      "execution_count": 7,
      "outputs": []
    },
    {
      "cell_type": "code",
      "source": [
        "def sort_population(population, fitness_func):\n",
        "    return sorted(population, key=fitness_func, reverse=True)"
      ],
      "metadata": {
        "id": "ovMbEcu1FFzh"
      },
      "execution_count": 8,
      "outputs": []
    },
    {
      "cell_type": "code",
      "source": [
        "def genome_to_string(genome):\n",
        "    return \"\".join(map(str, genome))"
      ],
      "metadata": {
        "id": "7LYxk2N0-wL7"
      },
      "execution_count": 9,
      "outputs": []
    },
    {
      "cell_type": "code",
      "source": [
        "def print_stats(population, generation_id, fitness_func):\n",
        "    print(\"Generación %02d\" % generation_id)\n",
        "    print(\"=============\")\n",
        "    print(\"Población: [%s]\" % \", \".join([genome_to_string(gene) for gene in population]))\n",
        "    print(\"Ajuste medio: %f\" % (population_fitness(population, fitness_func) / len(population)))\n",
        "    sorted_population = sort_population(population, fitness_func)\n",
        "    print(\"Mejor: %s (%f)\" % (genome_to_string(sorted_population[0]), fitness_func(sorted_population[0])))\n",
        "    print(\"Peor: %s (%f)\" % (genome_to_string(sorted_population[-1]), fitness_func(sorted_population[-1])))\n",
        "    print(\"\")\n",
        "    return sorted_population[0]"
      ],
      "metadata": {
        "id": "CazoE7OuGQmr"
      },
      "execution_count": 10,
      "outputs": []
    },
    {
      "cell_type": "code",
      "source": [
        "def run_evolution(populate_func, fitness_func, fitness_limit, selection_func=selection_pair, crossover_func=single_point_crossover,\n",
        "                  mutation_func=mutation, generation_limit=100, printer=print_stats):\n",
        "    \n",
        "    population = populate_func()\n",
        "\n",
        "    for i in range(generation_limit):\n",
        "        population = sorted(population, key=lambda genome: fitness_func(genome), reverse=True)\n",
        "\n",
        "        if printer is not None:\n",
        "            printer(population, i, fitness_func)\n",
        "\n",
        "        if fitness_func(population[0]) >= fitness_limit:\n",
        "            break\n",
        "\n",
        "        next_generation = population[0:2]\n",
        "\n",
        "        for j in range(int(len(population) / 2) - 1):\n",
        "            parents = selection_func(population, fitness_func)\n",
        "            offspring_a, offspring_b = crossover_func(parents[0], parents[1])\n",
        "            offspring_a = mutation_func(offspring_a)\n",
        "            offspring_b = mutation_func(offspring_b)\n",
        "            next_generation += [offspring_a, offspring_b]\n",
        "\n",
        "        population = next_generation\n",
        "\n",
        "    return population, i"
      ],
      "metadata": {
        "id": "GeQsJgjZFGUJ"
      },
      "execution_count": 11,
      "outputs": []
    },
    {
      "cell_type": "code",
      "source": [
        "Thing = namedtuple('Thing', ['name', 'value', 'weight'])"
      ],
      "metadata": {
        "id": "1lS73tPbHZuF"
      },
      "execution_count": 12,
      "outputs": []
    },
    {
      "cell_type": "code",
      "source": [
        "def generate_things(num):\n",
        "    return [Thing(f\"thing{i}\", i, i) for i in range(1, num+1)]"
      ],
      "metadata": {
        "id": "HXgl82gOHSoF"
      },
      "execution_count": 13,
      "outputs": []
    },
    {
      "cell_type": "code",
      "source": [
        "def fitness(genome, things, weight_limit):\n",
        "    if len(genome) != len(things):\n",
        "        raise ValueError(\"el genoma y los objetos deben ser de la misma longitud\")\n",
        "\n",
        "    weight = 0\n",
        "    value = 0\n",
        "    for i, thing in enumerate(things):\n",
        "        if genome[i] == 1:\n",
        "            weight += thing.weight\n",
        "            value += thing.value\n",
        "\n",
        "            if weight > weight_limit:\n",
        "                return 0\n",
        "\n",
        "    return value"
      ],
      "metadata": {
        "id": "FpYltJC4HQ7i"
      },
      "execution_count": 14,
      "outputs": []
    },
    {
      "cell_type": "code",
      "source": [
        "first_example = [\n",
        "    Thing('Laptop', 500, 2200),\n",
        "    Thing('Audífonos', 150, 160),\n",
        "    Thing('Taza de café', 60, 350),\n",
        "    Thing('Cuaderno', 40, 333),\n",
        "    Thing('Botella de agua', 30, 192),\n",
        "]\n",
        "\n",
        "second_example = first_example + [\n",
        "    Thing('Dulces', 5, 25),\n",
        "    Thing('Calcetines', 10, 38),\n",
        "    Thing('Pañuelos', 15, 80),\n",
        "    Thing('Celular', 500, 200),\n",
        "    Thing('Batería', 100, 70)\n",
        "]"
      ],
      "metadata": {
        "id": "rwlVSIl6Hjxl"
      },
      "execution_count": 15,
      "outputs": []
    },
    {
      "cell_type": "code",
      "source": [
        "things = generate_things(22)\n",
        "things = second_example\n",
        "\n",
        "weight_limit = 3000\n",
        "\n",
        "print(\"Peso límite: %dkg\" % weight_limit)"
      ],
      "metadata": {
        "colab": {
          "base_uri": "https://localhost:8080/"
        },
        "id": "JQmOOKbvG83Y",
        "outputId": "5f8454d9-081b-46d3-d5b0-a46fcaf87799"
      },
      "execution_count": 16,
      "outputs": [
        {
          "output_type": "stream",
          "name": "stdout",
          "text": [
            "Peso límite: 3000kg\n"
          ]
        }
      ]
    },
    {
      "cell_type": "code",
      "source": [
        "def bruteforce(things, weight_limit: int):\n",
        "    if len(things) == 0:\n",
        "        return 0, []\n",
        "\n",
        "    max_value = 0\n",
        "    max_valued_packed = []\n",
        "    for i, thing in enumerate(things):\n",
        "        if thing.weight > weight_limit:\n",
        "            continue\n",
        "\n",
        "        value, packed = bruteforce(things[i + 1:], weight_limit - thing.weight)\n",
        "        if value + thing.value >= max_value:\n",
        "            max_value = value + thing.value\n",
        "            max_valued_packed = [thing] + packed\n",
        "\n",
        "    return max_value, max_valued_packed"
      ],
      "metadata": {
        "id": "srmsaUsUITYd"
      },
      "execution_count": 17,
      "outputs": []
    },
    {
      "cell_type": "code",
      "source": [
        "result = bruteforce(things, weight_limit)\n",
        "result"
      ],
      "metadata": {
        "colab": {
          "base_uri": "https://localhost:8080/"
        },
        "id": "vVLzOweDIZXX",
        "outputId": "856a8c92-52c4-47c5-bd5d-1a34f3a6bf5c"
      },
      "execution_count": 18,
      "outputs": [
        {
          "output_type": "execute_result",
          "data": {
            "text/plain": [
              "(1310,\n",
              " [Thing(name='Laptop', value=500, weight=2200),\n",
              "  Thing(name='Audífonos', value=150, weight=160),\n",
              "  Thing(name='Botella de agua', value=30, weight=192),\n",
              "  Thing(name='Dulces', value=5, weight=25),\n",
              "  Thing(name='Calcetines', value=10, weight=38),\n",
              "  Thing(name='Pañuelos', value=15, weight=80),\n",
              "  Thing(name='Celular', value=500, weight=200),\n",
              "  Thing(name='Batería', value=100, weight=70)])"
            ]
          },
          "metadata": {},
          "execution_count": 18
        }
      ]
    },
    {
      "cell_type": "code",
      "source": [
        "population, generations = run_evolution(\n",
        "\t\tpopulate_func=partial(generate_population, size=10, genome_length=len(things)),\n",
        "\t\tfitness_func=partial(fitness, things=things, weight_limit=weight_limit),\n",
        "\t\tfitness_limit=result[0],\n",
        "\t\tgeneration_limit=100)"
      ],
      "metadata": {
        "colab": {
          "base_uri": "https://localhost:8080/"
        },
        "id": "YHlPl4HdGNU9",
        "outputId": "0329c6cd-5ca7-4e67-ae56-a96015e9e59f"
      },
      "execution_count": 19,
      "outputs": [
        {
          "output_type": "stream",
          "name": "stdout",
          "text": [
            "Generación 00\n",
            "=============\n",
            "Población: [0110100011, 0100101110, 1001011101, 0001000111, 0001001010, 0011100101, 0011110000, 0000111100, 1110111101, 1011110010]\n",
            "Ajuste medio: 386.000000\n",
            "Mejor: 0110100011 (840.000000)\n",
            "Peor: 1011110010 (0.000000)\n",
            "\n",
            "Generación 01\n",
            "=============\n",
            "Población: [1100101111, 0110100111, 0110100011, 0110100011, 0100101110, 0010100011, 0011001010, 0111100101, 0001100101, 1110100010]\n",
            "Ajuste medio: 642.500000\n",
            "Mejor: 1100101111 (1305.000000)\n",
            "Peor: 1110100010 (0.000000)\n",
            "\n",
            "Generación 02\n",
            "=============\n",
            "Población: [1100101111, 1000101011, 0111100011, 0110100111, 0110100011, 0110100011, 0010101011, 0010100011, 0000100111, 0110100001]\n",
            "Ajuste medio: 823.500000\n",
            "Mejor: 1100101111 (1305.000000)\n",
            "Peor: 0110100001 (340.000000)\n",
            "\n",
            "Generación 03\n",
            "=============\n",
            "Población: [1100101111, 1000101011, 1000100011, 0110101011, 0110100011, 0011100011, 0010100011, 0000001011, 0000100101, 1010101011]\n",
            "Ajuste medio: 744.000000\n",
            "Mejor: 1100101111 (1305.000000)\n",
            "Peor: 1010101011 (0.000000)\n",
            "\n",
            "Generación 04\n",
            "=============\n",
            "Población: [1100101111, 1100101011, 1000101111, 1000101011, 1000100011, 0110100111, 0000100011, 1000100001, 0011100101, 1010101011]\n",
            "Ajuste medio: 838.000000\n",
            "Mejor: 1100101111 (1305.000000)\n",
            "Peor: 1010101011 (0.000000)\n",
            "\n",
            "Generación 05\n",
            "=============\n",
            "Población: [1100101111, 1100100111, 1100101011, 1100101011, 1100100011, 1100101010, 1000100111, 1000101011, 0110100111, 1000001001]\n",
            "Ajuste medio: 1140.000000\n",
            "Mejor: 1100101111 (1305.000000)\n",
            "Peor: 1000001001 (610.000000)\n",
            "\n",
            "Generación 06\n",
            "=============\n",
            "Población: [1100101111, 1100101111, 1100100111, 1100101011, 1100100011, 1100101010, 1000101010, 0110100110, 1110101011, 1110100111]\n",
            "Ajuste medio: 946.000000\n",
            "Mejor: 1100101111 (1305.000000)\n",
            "Peor: 1110100111 (0.000000)\n",
            "\n",
            "Generación 07\n",
            "=============\n",
            "Población: [1100101111, 1100101111, 1100101111, 1100101111, 1100101011, 1100101110, 1100101010, 1100101010, 1100101010, 1000101010]\n",
            "Ajuste medio: 1232.500000\n",
            "Mejor: 1100101111 (1305.000000)\n",
            "Peor: 1000101010 (1040.000000)\n",
            "\n",
            "Generación 08\n",
            "=============\n",
            "Población: [1100111111, 1100101111, 1100101111, 1100101111, 1100101111, 1100101111, 1100101110, 1100101110, 1100101010, 0100101010]\n",
            "Ajuste medio: 1212.500000\n",
            "Mejor: 1100111111 (1310.000000)\n",
            "Peor: 0100101010 (690.000000)\n",
            "\n"
          ]
        }
      ]
    },
    {
      "cell_type": "code",
      "source": [
        "def from_genome(genome, things):\n",
        "    result = []\n",
        "    for i, thing in enumerate(things):\n",
        "        if genome[i] == 1:\n",
        "            result += [thing]\n",
        "\n",
        "    return result"
      ],
      "metadata": {
        "id": "cO8wHl-4Ik5o"
      },
      "execution_count": 20,
      "outputs": []
    },
    {
      "cell_type": "code",
      "source": [
        "def to_string(things):\n",
        "    return f\"[{', '.join([t.name for t in things])}]\"\n",
        "\n",
        "\n",
        "def value(things):\n",
        "    return sum([t.value for t in things])\n",
        "\n",
        "\n",
        "def weight(things):\n",
        "    return sum([p.weight for p in things])"
      ],
      "metadata": {
        "id": "54NwWEK0I3FE"
      },
      "execution_count": 21,
      "outputs": []
    },
    {
      "cell_type": "code",
      "source": [
        "def print_stats2(things):\n",
        "    print(f\"Things: {to_string(things)}\")\n",
        "    print(f\"Value {value(things)}\")\n",
        "    print(f\"Weight: {weight(things)}\")"
      ],
      "metadata": {
        "id": "yvE-5B5xIwGZ"
      },
      "execution_count": 22,
      "outputs": []
    },
    {
      "cell_type": "code",
      "source": [
        "sack = from_genome(population[0], things)\n",
        "print_stats2(sack)"
      ],
      "metadata": {
        "colab": {
          "base_uri": "https://localhost:8080/"
        },
        "id": "7S2HwoKZH__A",
        "outputId": "e7d26584-7acc-4f77-877d-64685664bdcb"
      },
      "execution_count": 23,
      "outputs": [
        {
          "output_type": "stream",
          "name": "stdout",
          "text": [
            "Things: [Laptop, Audífonos, Botella de agua, Dulces, Calcetines, Pañuelos, Celular, Batería]\n",
            "Value 1310\n",
            "Weight: 2965\n"
          ]
        }
      ]
    },
    {
      "cell_type": "code",
      "source": [
        "result"
      ],
      "metadata": {
        "colab": {
          "base_uri": "https://localhost:8080/"
        },
        "id": "pXSxL_8fInqj",
        "outputId": "6bfca885-4023-448f-b1eb-c3283b98f2cc"
      },
      "execution_count": 24,
      "outputs": [
        {
          "output_type": "execute_result",
          "data": {
            "text/plain": [
              "(1310,\n",
              " [Thing(name='Laptop', value=500, weight=2200),\n",
              "  Thing(name='Audífonos', value=150, weight=160),\n",
              "  Thing(name='Botella de agua', value=30, weight=192),\n",
              "  Thing(name='Dulces', value=5, weight=25),\n",
              "  Thing(name='Calcetines', value=10, weight=38),\n",
              "  Thing(name='Pañuelos', value=15, weight=80),\n",
              "  Thing(name='Celular', value=500, weight=200),\n",
              "  Thing(name='Batería', value=100, weight=70)])"
            ]
          },
          "metadata": {},
          "execution_count": 24
        }
      ]
    },
    {
      "cell_type": "markdown",
      "source": [
        "**Por hacer**\n",
        "\n",
        "* Añadir descripción de la solución\n",
        "* Añadir planteamiento del problema\n",
        "* Añadir comentarios a las funciones\n",
        "* Reestructurar orden de funciones\n",
        "* Añadir referencias"
      ],
      "metadata": {
        "id": "FFiexQaIPKR5"
      }
    }
  ]
}