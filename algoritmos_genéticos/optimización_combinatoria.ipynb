{
  "nbformat": 4,
  "nbformat_minor": 0,
  "metadata": {
    "colab": {
      "provenance": [],
      "authorship_tag": "ABX9TyM84RKxcv6e3B9PU6UQCFaU",
      "include_colab_link": true
    },
    "kernelspec": {
      "name": "python3",
      "display_name": "Python 3"
    },
    "language_info": {
      "name": "python"
    }
  },
  "cells": [
    {
      "cell_type": "markdown",
      "metadata": {
        "id": "view-in-github",
        "colab_type": "text"
      },
      "source": [
        "<a href=\"https://colab.research.google.com/github/FernandoBRdgz/inteligencia_artificial/blob/main/algoritmos_gen%C3%A9ticos/optimizaci%C3%B3n_combinatoria.ipynb\" target=\"_parent\"><img src=\"https://colab.research.google.com/assets/colab-badge.svg\" alt=\"Open In Colab\"/></a>"
      ]
    },
    {
      "cell_type": "markdown",
      "source": [
        "## Introducción\n",
        "\n",
        "Un algoritmo genético es una técnica de optimización que se inspira en la evolución biológica para encontrar soluciones a problemas complejos. En términos generales, consiste en crear una población inicial de soluciones candidatas, aplicar operaciones de selección, cruza y mutación para generar nuevas soluciones, y evaluar el rendimiento de cada solución en base a una función objetivo definida. Las soluciones con mejores rendimientos tienen más posibilidades de sobrevivir y reproducirse en la siguiente generación, mientras que las soluciones peor adaptadas son eliminadas.\n",
        "\n",
        "La idea detrás de los algoritmos genéticos es que, al aplicar una selección natural sobre soluciones candidatas, se pueden encontrar soluciones mejores y mejores con el tiempo. En la inteligencia artificial, los algoritmos genéticos se utilizan a menudo en problemas de optimización, como encontrar la mejor solución para un problema de programación lineal o de asignación de recursos. También se pueden utilizar en la generación de soluciones creativas en áreas como la arquitectura o el diseño."
      ],
      "metadata": {
        "id": "6c0Qjp0VCCQd"
      }
    },
    {
      "cell_type": "markdown",
      "source": [
        "**Objetivo** En este ejemplo, veremos como implementar el problema de la mochila, también conocido como problema de la mochila 0-1 o problema Knapsack. Es un problema de optimización combinatoria. El problema consiste en seleccionar un subconjunto de elementos de un conjunto dado, de tal manera que la suma de sus pesos no exceda una capacidad dada, y que la suma de sus valores sea lo más grande posible.\n",
        "\n",
        "El problema se puede formular de la siguiente manera: se tiene una mochila con una capacidad máxima de peso W, y se tiene un conjunto de n elementos, cada uno con un valor v y un peso w. El objetivo es seleccionar un subconjunto de elementos cuya suma de pesos no exceda W, y cuya suma de valores sea lo más grande posible.\n",
        "\n",
        "El problema de la mochila es un problema NP-completo, lo que significa que no se conoce un algoritmo eficiente para resolverlo en el peor de los casos. Sin embargo, existen varios algoritmos heurísticos y metaheurísticos que pueden proporcionar soluciones aproximadas al problema de manera eficiente en la mayoría de los casos."
      ],
      "metadata": {
        "id": "K10B4kYUCEZT"
      }
    },
    {
      "cell_type": "code",
      "source": [
        "from functools import partial\n",
        "from collections import namedtuple\n",
        "from random import choices, randint, randrange, random"
      ],
      "metadata": {
        "id": "SmcI4RZaFLsJ"
      },
      "execution_count": 1,
      "outputs": []
    },
    {
      "cell_type": "code",
      "source": [
        "# Función para generar un genoma aleatorio de longitud \"length\"\n",
        "def generate_genome(length):\n",
        "    # Se utiliza la función \"choices\" del módulo \"random\" para generar un genoma aleatorio\n",
        "    return choices([0, 1], k=length)"
      ],
      "metadata": {
        "id": "DxZH3u1SE7_u"
      },
      "execution_count": 2,
      "outputs": []
    },
    {
      "cell_type": "code",
      "source": [
        "# Función para generar una población aleatoria de tamaño \"size\", donde cada individuo tiene un genoma de longitud \"genome_length\"\n",
        "def generate_population(size, genome_length):\n",
        "    # Se utiliza la función \"generate_genome\" para generar cada individuo de la población\n",
        "    return [generate_genome(genome_length) for _ in range(size)]"
      ],
      "metadata": {
        "id": "6QIbScpnE9c2"
      },
      "execution_count": 3,
      "outputs": []
    },
    {
      "cell_type": "code",
      "source": [
        "# Función para realizar un cruce de un punto entre dos genomas \"a\" y \"b\"\n",
        "def single_point_crossover(a, b):\n",
        "    # Se verifica que los genomas \"a\" y \"b\" tengan la misma longitud\n",
        "    if len(a) != len(b):\n",
        "        raise ValueError(\"Genomes a and b must be of same length\")\n",
        "    # Se obtiene la longitud de los genomas\n",
        "    length = len(a)\n",
        "    # Si la longitud es menor a 2, se devuelve los mismos genomas\n",
        "    if length < 2:\n",
        "        return a, b\n",
        "    # Se elige un punto de cruce aleatorio entre 1 y la longitud del genoma menos 1\n",
        "    p = randint(1, length - 1)\n",
        "    # Se intercambian las partes del genoma a partir del punto de cruce para generar dos nuevos genomas\n",
        "    return a[0:p] + b[p:], b[0:p] + a[p:]"
      ],
      "metadata": {
        "id": "JfddB1IJE_SW"
      },
      "execution_count": 4,
      "outputs": []
    },
    {
      "cell_type": "code",
      "source": [
        "# Función para mutar un genoma. \"num\" indica la cantidad de mutaciones a realizar, y \"probability\" es la probabilidad de que un bit sea invertido.\n",
        "def mutation(genome, num=1, probability=0.5):\n",
        "    # Se realizan \"num\" mutaciones en el genoma\n",
        "    for _ in range(num):\n",
        "        # Se elige un índice aleatorio del genoma\n",
        "        index = randrange(len(genome))\n",
        "        # Se invierte el bit en el índice elegido con una probabilidad \"probability\"\n",
        "        genome[index] = genome[index] if random() > probability else abs(genome[index] - 1)\n",
        "    # Se devuelve el genoma mutado\n",
        "    return genome"
      ],
      "metadata": {
        "id": "0zJMTaN9HQD6"
      },
      "execution_count": 5,
      "outputs": []
    },
    {
      "cell_type": "code",
      "source": [
        "# Función para calcular el fitness total de una población\n",
        "def population_fitness(population, fitness_func):\n",
        "    # Se utiliza la función \"sum\" para calcular la suma de los fitness de cada individuo de la población\n",
        "    return sum([fitness_func(genome) for genome in population])"
      ],
      "metadata": {
        "id": "o3-Uc_CcHV8h"
      },
      "execution_count": 6,
      "outputs": []
    },
    {
      "cell_type": "code",
      "source": [
        "# Función para seleccionar una pareja de individuos para el cruce\n",
        "def selection_pair(population, fitness_func):\n",
        "    # Se utiliza la función \"choices\" del módulo \"random\" para elegir dos individuos de la población con una probabilidad ponderada por su fitness\n",
        "    return choices(population=population, weights=[fitness_func(gene) for gene in population], k=2)"
      ],
      "metadata": {
        "id": "8BfeMx4tHbIm"
      },
      "execution_count": 7,
      "outputs": []
    },
    {
      "cell_type": "code",
      "source": [
        "# Función para ordenar una población de mayor a menor fitness\n",
        "def sort_population(population, fitness_func):\n",
        "    # Se utiliza la función \"sorted\" para ordenar la población en función de su fitness, de mayor a menor\n",
        "    return sorted(population, key=fitness_func, reverse=True)"
      ],
      "metadata": {
        "id": "CqO3WHLMHfN6"
      },
      "execution_count": 8,
      "outputs": []
    },
    {
      "cell_type": "code",
      "source": [
        "# Función para convertir un genoma a una cadena de caracteres\n",
        "def genome_to_string(genome):\n",
        "    # Se utiliza la función \"join\" para concatenar los elementos del genoma como una cadena de caracteres\n",
        "    return \"\".join(map(str, genome))"
      ],
      "metadata": {
        "id": "Ks3966bwHj_0"
      },
      "execution_count": 9,
      "outputs": []
    },
    {
      "cell_type": "code",
      "source": [
        "def print_stats(population, generation_id, fitness_func):\n",
        "    print(\"Generación %02d\" % generation_id)\n",
        "    print(\"=============\")\n",
        "    print(\"Población: [%s]\" % \", \".join([genome_to_string(gene) for gene in population]))\n",
        "    print(\"Ajuste medio: %f\" % (population_fitness(population, fitness_func) / len(population)))\n",
        "    sorted_population = sort_population(population, fitness_func)\n",
        "    print(\"Mejor: %s (%f)\" % (genome_to_string(sorted_population[0]), fitness_func(sorted_population[0])))\n",
        "    print(\"Peor: %s (%f)\" % (genome_to_string(sorted_population[-1]), fitness_func(sorted_population[-1])))\n",
        "    print(\"\")\n",
        "    return sorted_population[0]"
      ],
      "metadata": {
        "id": "CazoE7OuGQmr"
      },
      "execution_count": 10,
      "outputs": []
    },
    {
      "cell_type": "code",
      "source": [
        "# Función para ejecutar el algoritmo evolutivo\n",
        "def run_evolution(populate_func, fitness_func, fitness_limit, selection_func=selection_pair, crossover_func=single_point_crossover,\n",
        "                  mutation_func=mutation, generation_limit=100, printer=print_stats):\n",
        "    \n",
        "    # Se crea la población inicial\n",
        "    population = populate_func()\n",
        "\n",
        "    # Se ejecutan las generaciones del algoritmo\n",
        "    for i in range(generation_limit):\n",
        "        # Se ordena la población en función de su fitness\n",
        "        population = sorted(population, key=lambda genome: fitness_func(genome), reverse=True)\n",
        "\n",
        "        # Se imprime la información de la población si se proporciona una función de impresión\n",
        "        if printer is not None:\n",
        "            printer(population, i, fitness_func)\n",
        "\n",
        "        # Si se alcanza el fitness límite, se sale del bucle\n",
        "        if fitness_func(population[0]) >= fitness_limit:\n",
        "            break\n",
        "\n",
        "        # Se seleccionan los dos individuos con mayor fitness para la siguiente generación\n",
        "        next_generation = population[0:2]\n",
        "\n",
        "        # Se generan los descendientes a partir de los padres seleccionados mediante cruce y mutación\n",
        "        for j in range(int(len(population) / 2) - 1):\n",
        "            parents = selection_func(population, fitness_func)\n",
        "            offspring_a, offspring_b = crossover_func(parents[0], parents[1])\n",
        "            offspring_a = mutation_func(offspring_a)\n",
        "            offspring_b = mutation_func(offspring_b)\n",
        "            next_generation += [offspring_a, offspring_b]\n",
        "\n",
        "        # Se actualiza la población para la siguiente generación\n",
        "        population = next_generation\n",
        "\n",
        "    # Se devuelve la población final y el número de generaciones ejecutadas\n",
        "    return population, i"
      ],
      "metadata": {
        "id": "7lyfvyOKH6i1"
      },
      "execution_count": 11,
      "outputs": []
    },
    {
      "cell_type": "code",
      "source": [
        "Thing = namedtuple('Thing', ['name', 'value', 'weight'])"
      ],
      "metadata": {
        "id": "1lS73tPbHZuF"
      },
      "execution_count": 12,
      "outputs": []
    },
    {
      "cell_type": "code",
      "source": [
        "def generate_things(num):\n",
        "    # Genera una lista de objetos \"Thing\" con valores y pesos aleatorios.\n",
        "    return [Thing(f\"thing{i}\", i, i) for i in range(1, num+1)]"
      ],
      "metadata": {
        "id": "HXgl82gOHSoF"
      },
      "execution_count": 13,
      "outputs": []
    },
    {
      "cell_type": "code",
      "source": [
        "def fitness(genome, things, weight_limit):\n",
        "    # Verifica que el genoma y la lista de objetos tengan la misma longitud\n",
        "    if len(genome) != len(things):\n",
        "        raise ValueError(\"el genoma y los objetos deben ser de la misma longitud\")\n",
        "\n",
        "    # Inicializa el peso y el valor de la mochila en cero\n",
        "    weight = 0\n",
        "    value = 0\n",
        "\n",
        "    # Recorre la lista de objetos y agrega el peso y el valor de los objetos incluidos en la mochila\n",
        "    for i, thing in enumerate(things):\n",
        "        if genome[i] == 1:\n",
        "            weight += thing.weight\n",
        "            value += thing.value\n",
        "\n",
        "            # Si el peso de la mochila supera el límite permitido, retorna un valor de cero\n",
        "            if weight > weight_limit:\n",
        "                return 0\n",
        "\n",
        "    # Si el peso de la mochila está dentro del límite permitido, retorna el valor total de los objetos incluidos\n",
        "    return value"
      ],
      "metadata": {
        "id": "OHCAa14vKUye"
      },
      "execution_count": 14,
      "outputs": []
    },
    {
      "cell_type": "code",
      "source": [
        "# Primer ejemplo con 5 objetos\n",
        "first_example = [\n",
        "    Thing('Laptop', 500, 2200),\n",
        "    Thing('Audífonos', 150, 160),\n",
        "    Thing('Taza de café', 60, 350),\n",
        "    Thing('Cuaderno', 40, 333),\n",
        "    Thing('Botella de agua', 30, 192),\n",
        "]\n",
        "# Segundo ejemplo con 10 objetos\n",
        "second_example = first_example + [\n",
        "    Thing('Dulces', 5, 25),\n",
        "    Thing('Calcetines', 10, 38),\n",
        "    Thing('Pañuelos', 15, 80),\n",
        "    Thing('Celular', 500, 200),\n",
        "    Thing('Batería', 100, 70)\n",
        "]"
      ],
      "metadata": {
        "id": "rwlVSIl6Hjxl"
      },
      "execution_count": 15,
      "outputs": []
    },
    {
      "cell_type": "code",
      "source": [
        "# things = generate_things(22)\n",
        "things = second_example\n",
        "weight_limit = 3000\n",
        "\n",
        "print(\"Peso límite: %dkg\" % weight_limit)"
      ],
      "metadata": {
        "colab": {
          "base_uri": "https://localhost:8080/"
        },
        "id": "JQmOOKbvG83Y",
        "outputId": "5d8ed318-4855-4386-a58b-0b2afcf1f2b4"
      },
      "execution_count": 16,
      "outputs": [
        {
          "output_type": "stream",
          "name": "stdout",
          "text": [
            "Peso límite: 3000kg\n"
          ]
        }
      ]
    },
    {
      "cell_type": "code",
      "source": [
        "def bruteforce(things, weight_limit: int):\n",
        "    # Verifica si la lista de objetos está vacía\n",
        "    if len(things) == 0:\n",
        "        return 0, []\n",
        "\n",
        "    # Inicializa el valor máximo y la lista de objetos incluidos en la mochila que tienen el valor máximo\n",
        "    max_value = 0\n",
        "    max_valued_packed = []\n",
        "\n",
        "    # Recorre la lista de objetos\n",
        "    for i, thing in enumerate(things):\n",
        "        # Si el peso del objeto es mayor que el límite permitido, pasa al siguiente objeto\n",
        "        if thing.weight > weight_limit:\n",
        "            continue\n",
        "\n",
        "        # Llama recursivamente a la función bruteforce con el resto de los objetos y el peso limitado restante\n",
        "        value, packed = bruteforce(things[i + 1:], weight_limit - thing.weight)\n",
        "\n",
        "        # Si el valor del objeto actual más el valor de los objetos incluidos en la mochila recursiva es mayor o igual que el valor máximo,\n",
        "        # actualiza el valor máximo y la lista de objetos incluidos en la mochila con el valor actual y los objetos actuales más los objetos incluidos\n",
        "        # en la mochila recursiva\n",
        "        if value + thing.value >= max_value:\n",
        "            max_value = value + thing.value\n",
        "            max_valued_packed = [thing] + packed\n",
        "\n",
        "    # Retorna el valor máximo y la lista de objetos incluidos en la mochila que tienen el valor máximo\n",
        "    return max_value, max_valued_packed"
      ],
      "metadata": {
        "id": "KtQ83aFXLBHN"
      },
      "execution_count": 17,
      "outputs": []
    },
    {
      "cell_type": "code",
      "source": [
        "# Resolución por fuerza bruta\n",
        "result = bruteforce(things, weight_limit)\n",
        "result"
      ],
      "metadata": {
        "colab": {
          "base_uri": "https://localhost:8080/"
        },
        "id": "vVLzOweDIZXX",
        "outputId": "63248e22-6ad9-4026-f14b-372b166aa5d4"
      },
      "execution_count": 18,
      "outputs": [
        {
          "output_type": "execute_result",
          "data": {
            "text/plain": [
              "(1310,\n",
              " [Thing(name='Laptop', value=500, weight=2200),\n",
              "  Thing(name='Audífonos', value=150, weight=160),\n",
              "  Thing(name='Botella de agua', value=30, weight=192),\n",
              "  Thing(name='Dulces', value=5, weight=25),\n",
              "  Thing(name='Calcetines', value=10, weight=38),\n",
              "  Thing(name='Pañuelos', value=15, weight=80),\n",
              "  Thing(name='Celular', value=500, weight=200),\n",
              "  Thing(name='Batería', value=100, weight=70)])"
            ]
          },
          "metadata": {},
          "execution_count": 18
        }
      ]
    },
    {
      "cell_type": "code",
      "source": [
        "# Resolución por algoritmo genético\n",
        "population, generations = run_evolution(\n",
        "\t\tpopulate_func=partial(generate_population, size=10, genome_length=len(things)),\n",
        "\t\tfitness_func=partial(fitness, things=things, weight_limit=weight_limit),\n",
        "\t\tfitness_limit=result[0],\n",
        "\t\tgeneration_limit=100)"
      ],
      "metadata": {
        "colab": {
          "base_uri": "https://localhost:8080/"
        },
        "id": "YHlPl4HdGNU9",
        "outputId": "1b256cdd-8ea6-46e0-99d3-9a948fa87744"
      },
      "execution_count": 19,
      "outputs": [
        {
          "output_type": "stream",
          "name": "stdout",
          "text": [
            "Generación 00\n",
            "=============\n",
            "Población: [1001001010, 0101000111, 1100110101, 0010001111, 1100000100, 1001010100, 0101011101, 0110110000, 0011101000, 1011011010]\n",
            "Ajuste medio: 527.000000\n",
            "Mejor: 1001001010 (1050.000000)\n",
            "Peor: 1011011010 (0.000000)\n",
            "\n",
            "Generación 01\n",
            "=============\n",
            "Población: [1100000111, 1001001010, 0101011111, 1100111101, 0101000111, 1100110101, 0101011101, 0100110101, 0010001100, 1110011111]\n",
            "Ajuste medio: 625.500000\n",
            "Mejor: 1100000111 (1265.000000)\n",
            "Peor: 1110011111 (0.000000)\n",
            "\n",
            "Generación 02\n",
            "=============\n",
            "Población: [1100000111, 1100110010, 1001001010, 1001001010, 0101100111, 0101011111, 0101000110, 1001001101, 0100111101, 1101000111]\n",
            "Ajuste medio: 788.500000\n",
            "Mejor: 1100000111 (1265.000000)\n",
            "Peor: 1101000111 (0.000000)\n",
            "\n",
            "Generación 03\n",
            "=============\n",
            "Población: [1100000111, 1100110010, 1100110010, 1100000110, 1001101010, 0101111111, 0101100111, 0101011111, 0101001111, 0100000111]\n",
            "Ajuste medio: 996.500000\n",
            "Mejor: 1100000111 (1265.000000)\n",
            "Peor: 0100000111 (765.000000)\n",
            "\n",
            "Generación 04\n",
            "=============\n",
            "Población: [1100110011, 1100000111, 1100000111, 1100110010, 1000100010, 1101001101, 0100001110, 0001111110, 0100000100, 1101101010]\n",
            "Ajuste medio: 828.500000\n",
            "Mejor: 1100110011 (1285.000000)\n",
            "Peor: 1101101010 (0.000000)\n",
            "\n",
            "Generación 05\n",
            "=============\n",
            "Población: [1100110011, 1100000111, 1100000111, 1100000111, 1100110010, 1000110011, 1101001101, 1100000101, 0000110011, 1101111110]\n",
            "Ajuste medio: 961.500000\n",
            "Mejor: 1100110011 (1285.000000)\n",
            "Peor: 1101111110 (0.000000)\n",
            "\n",
            "Generación 06\n",
            "=============\n",
            "Población: [1100111011, 1100110011, 1100110011, 1100100011, 1100000111, 1100000110, 1000110011, 1000110011, 0000010011, 1101110011]\n",
            "Ajuste medio: 1045.000000\n",
            "Mejor: 1100111011 (1295.000000)\n",
            "Peor: 1101110011 (0.000000)\n",
            "\n",
            "Generación 07\n",
            "=============\n",
            "Población: [1100111011, 1100110011, 1100110011, 1100100011, 1100100011, 1100000111, 1100010011, 1100111010, 1000111011, 0000110011]\n",
            "Ajuste medio: 1192.000000\n",
            "Mejor: 1100111011 (1295.000000)\n",
            "Peor: 0000110011 (635.000000)\n",
            "\n",
            "Generación 08\n",
            "=============\n",
            "Población: [1100111011, 1100110011, 1100110011, 1100110011, 1100110011, 1100100011, 1000100011, 0000100011, 0000010011, 1110110011]\n",
            "Ajuste medio: 1008.000000\n",
            "Mejor: 1100111011 (1295.000000)\n",
            "Peor: 1110110011 (0.000000)\n",
            "\n",
            "Generación 09\n",
            "=============\n",
            "Población: [1100111011, 1100100111, 1100110011, 1100110011, 1100110011, 1100100011, 1000100011, 1000110010, 1101110011, 1101100011]\n",
            "Ajuste medio: 989.000000\n",
            "Mejor: 1100111011 (1295.000000)\n",
            "Peor: 1101100011 (0.000000)\n",
            "\n",
            "Generación 10\n",
            "=============\n",
            "Población: [1100111011, 1100100111, 1100110011, 1000100111, 1000110011, 1000110010, 1100110001, 1100100100, 1110100111, 1010100011]\n",
            "Ajuste medio: 867.000000\n",
            "Mejor: 1100111011 (1295.000000)\n",
            "Peor: 1010100011 (0.000000)\n",
            "\n",
            "Generación 11\n",
            "=============\n",
            "Población: [1100111111, 1100111011, 1100100111, 1100110011, 1100110011, 1100010010, 1000110011, 1000000111, 1000110010, 1100110001]\n",
            "Ajuste medio: 1169.500000\n",
            "Mejor: 1100111111 (1310.000000)\n",
            "Peor: 1100110001 (785.000000)\n",
            "\n"
          ]
        }
      ]
    },
    {
      "cell_type": "code",
      "source": [
        "def from_genome(genome, things):\n",
        "    # Inicializa una lista vacía para almacenar los objetos incluidos en la mochila\n",
        "    result = []\n",
        "    \n",
        "    # Recorre la lista de objetos y agrega los objetos que se incluyen en la mochila a la lista resultante\n",
        "    for i, thing in enumerate(things):\n",
        "        if genome[i] == 1:\n",
        "            result += [thing]\n",
        "\n",
        "    # Retorna la lista de objetos incluidos en la mochila\n",
        "    return result"
      ],
      "metadata": {
        "id": "8PZuLSwoM1mT"
      },
      "execution_count": 20,
      "outputs": []
    },
    {
      "cell_type": "code",
      "source": [
        "def to_string(things):\n",
        "    # Crea una cadena que representa la lista de objetos, separados por comas y entre corchetes\n",
        "    return f\"[{', '.join([t.name for t in things])}]\""
      ],
      "metadata": {
        "id": "D93anu0wNBvi"
      },
      "execution_count": 21,
      "outputs": []
    },
    {
      "cell_type": "code",
      "source": [
        "def value(things):\n",
        "    # Retorna la suma de los valores de los objetos en la lista de objetos\n",
        "    return sum([t.value for t in things])"
      ],
      "metadata": {
        "id": "SKaqxFcrNEai"
      },
      "execution_count": 22,
      "outputs": []
    },
    {
      "cell_type": "code",
      "source": [
        "def weight(things):\n",
        "    # Retorna la suma de los pesos de los objetos en la lista de objetos\n",
        "    return sum([p.weight for p in things])"
      ],
      "metadata": {
        "id": "nnqmiQDvNHeu"
      },
      "execution_count": 23,
      "outputs": []
    },
    {
      "cell_type": "code",
      "source": [
        "def print_stats2(things):\n",
        "    print(f\"Things: {to_string(things)}\")\n",
        "    print(f\"Value {value(things)}\")\n",
        "    print(f\"Weight: {weight(things)}\")"
      ],
      "metadata": {
        "id": "yvE-5B5xIwGZ"
      },
      "execution_count": 24,
      "outputs": []
    },
    {
      "cell_type": "code",
      "source": [
        "# Resultado por algoritmo genético\n",
        "sack = from_genome(population[0], things)\n",
        "print_stats2(sack)"
      ],
      "metadata": {
        "colab": {
          "base_uri": "https://localhost:8080/"
        },
        "id": "7S2HwoKZH__A",
        "outputId": "90ff4ca8-2820-4ebf-e988-3ff167fa7a95"
      },
      "execution_count": 25,
      "outputs": [
        {
          "output_type": "stream",
          "name": "stdout",
          "text": [
            "Things: [Laptop, Audífonos, Botella de agua, Dulces, Calcetines, Pañuelos, Celular, Batería]\n",
            "Value 1310\n",
            "Weight: 2965\n"
          ]
        }
      ]
    },
    {
      "cell_type": "code",
      "source": [
        "# Resultado por fuerza bruta\n",
        "result"
      ],
      "metadata": {
        "colab": {
          "base_uri": "https://localhost:8080/"
        },
        "id": "pXSxL_8fInqj",
        "outputId": "716e5d47-2e0f-45b3-c203-10f2a9b818d9"
      },
      "execution_count": 26,
      "outputs": [
        {
          "output_type": "execute_result",
          "data": {
            "text/plain": [
              "(1310,\n",
              " [Thing(name='Laptop', value=500, weight=2200),\n",
              "  Thing(name='Audífonos', value=150, weight=160),\n",
              "  Thing(name='Botella de agua', value=30, weight=192),\n",
              "  Thing(name='Dulces', value=5, weight=25),\n",
              "  Thing(name='Calcetines', value=10, weight=38),\n",
              "  Thing(name='Pañuelos', value=15, weight=80),\n",
              "  Thing(name='Celular', value=500, weight=200),\n",
              "  Thing(name='Batería', value=100, weight=70)])"
            ]
          },
          "metadata": {},
          "execution_count": 26
        }
      ]
    },
    {
      "cell_type": "markdown",
      "source": [
        "**Referencias**\n",
        "\n",
        "* https://arpitbhayani.me/blogs/genetic-knapsack\n",
        "* https://plainenglish.io/blog/genetic-algorithm-in-python-101-da1687d3339b\n",
        "* https://www.kdnuggets.com/2023/01/knapsack-problem-genetic-programming-python.html"
      ],
      "metadata": {
        "id": "__phB-cYJRGz"
      }
    }
  ]
}