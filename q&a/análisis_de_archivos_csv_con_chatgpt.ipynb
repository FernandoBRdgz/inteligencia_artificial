{
  "nbformat": 4,
  "nbformat_minor": 0,
  "metadata": {
    "colab": {
      "provenance": [],
      "mount_file_id": "19Ev0HD3ycqXwEy9yD1IW_5AskP_g_tU3",
      "authorship_tag": "ABX9TyNfPKGoH4baw5nJ3q8WclfB",
      "include_colab_link": true
    },
    "kernelspec": {
      "name": "python3",
      "display_name": "Python 3"
    },
    "language_info": {
      "name": "python"
    }
  },
  "cells": [
    {
      "cell_type": "markdown",
      "metadata": {
        "id": "view-in-github",
        "colab_type": "text"
      },
      "source": [
        "<a href=\"https://colab.research.google.com/github/FernandoBRdgz/inteligencia_artificial/blob/main/q%26a/an%C3%A1lisis_de_archivos_csv_con_chatgpt.ipynb\" target=\"_parent\"><img src=\"https://colab.research.google.com/assets/colab-badge.svg\" alt=\"Open In Colab\"/></a>"
      ]
    },
    {
      "cell_type": "markdown",
      "source": [
        "LangChain es un marco para desarrollar aplicaciones impulsadas por modelos de lenguaje.\n",
        "\n",
        "Las aplicaciones más poderosas y diferenciadas no solo llamarán a un modelo de lenguaje a través de una API, sino también se busca:\n",
        "\n",
        "* Conectar un modelo de lenguaje a otras fuentes de datos\n",
        "* Permitir que un modelo de lenguaje interactúe con su entorno"
      ],
      "metadata": {
        "id": "WQ_j1NMt-Xza"
      }
    },
    {
      "cell_type": "code",
      "source": [
        "import os\n",
        "import sys\n",
        "from config import api_key"
      ],
      "metadata": {
        "id": "tlLCeqBQ1RON"
      },
      "execution_count": null,
      "outputs": []
    },
    {
      "cell_type": "code",
      "source": [
        "path = '/content/gdrive/My Drive/Colab Notebooks/Inteligencia Artificial/Q&A/'"
      ],
      "metadata": {
        "id": "xHp6HtsfgAZd"
      },
      "execution_count": 26,
      "outputs": []
    },
    {
      "cell_type": "code",
      "source": [
        "sys.path.append(path)"
      ],
      "metadata": {
        "id": "q26sMQQygiAO"
      },
      "execution_count": 27,
      "outputs": []
    },
    {
      "cell_type": "code",
      "source": [
        "!pip install -q langchain openai chromadb"
      ],
      "metadata": {
        "id": "SWTuRQRcg2c5"
      },
      "execution_count": 29,
      "outputs": []
    },
    {
      "cell_type": "code",
      "source": [
        "from langchain.document_loaders import CSVLoader\n",
        "from langchain.indexes import VectorstoreIndexCreator\n",
        "from langchain.chains import RetrievalQA\n",
        "from langchain.llms import OpenAIChat"
      ],
      "metadata": {
        "id": "P3o6ksl9hZD8"
      },
      "execution_count": 30,
      "outputs": []
    },
    {
      "cell_type": "code",
      "source": [
        "os.environ[\"OPENAI_API_KEY\"] = api_key"
      ],
      "metadata": {
        "id": "mutHdGE8hvBs"
      },
      "execution_count": 31,
      "outputs": []
    },
    {
      "cell_type": "code",
      "source": [
        "# Descarga de conjunto de datos de pokemon en formato csv\n",
        "!wget https://gist.githubusercontent.com/armgilles/194bcff35001e7eb53a2a8b441e8b2c6/raw/92200bc0a673d5ce2110aaad4544ed6c4010f687/pokemon.csv"
      ],
      "metadata": {
        "colab": {
          "base_uri": "https://localhost:8080/"
        },
        "id": "NkXgnphAhzQE",
        "outputId": "896b7108-fe43-4cdb-bcb4-6c28ca3cbd8d"
      },
      "execution_count": 32,
      "outputs": [
        {
          "output_type": "stream",
          "name": "stdout",
          "text": [
            "--2023-04-03 00:57:26--  https://gist.githubusercontent.com/armgilles/194bcff35001e7eb53a2a8b441e8b2c6/raw/92200bc0a673d5ce2110aaad4544ed6c4010f687/pokemon.csv\n",
            "Resolving gist.githubusercontent.com (gist.githubusercontent.com)... 185.199.108.133, 185.199.109.133, 185.199.110.133, ...\n",
            "Connecting to gist.githubusercontent.com (gist.githubusercontent.com)|185.199.108.133|:443... connected.\n",
            "HTTP request sent, awaiting response... 200 OK\n",
            "Length: 44028 (43K) [text/plain]\n",
            "Saving to: ‘pokemon.csv.1’\n",
            "\n",
            "\rpokemon.csv.1         0%[                    ]       0  --.-KB/s               \rpokemon.csv.1       100%[===================>]  43.00K  --.-KB/s    in 0.01s   \n",
            "\n",
            "2023-04-03 00:57:27 (4.15 MB/s) - ‘pokemon.csv.1’ saved [44028/44028]\n",
            "\n"
          ]
        }
      ]
    },
    {
      "cell_type": "code",
      "source": [
        "# Crear una instancia de CSVLoader con la ruta del archivo CSV\n",
        "loader = CSVLoader(file_path='pokemon.csv')"
      ],
      "metadata": {
        "id": "ShL4OKhA3rET"
      },
      "execution_count": null,
      "outputs": []
    },
    {
      "cell_type": "code",
      "source": [
        "# Crear una instancia de VectorstoreIndexCreator\n",
        "index_creator = VectorstoreIndexCreator()"
      ],
      "metadata": {
        "id": "OvUP6G-t3yUf"
      },
      "execution_count": null,
      "outputs": []
    },
    {
      "cell_type": "code",
      "source": [
        "# Crear una instancia de docsearch usando el método from_loaders de VectorstoreIndexCreator\n",
        "docsearch = index_creator.from_loaders([loader])"
      ],
      "metadata": {
        "id": "j1I6Q8Mc3wJD"
      },
      "execution_count": null,
      "outputs": []
    },
    {
      "cell_type": "code",
      "source": [
        "# Crear una instancia de OpenAIChat y especificar el modelo a utilizar\n",
        "llm = OpenAIChat(model_name='gpt-3.5-turbo')"
      ],
      "metadata": {
        "id": "TE-fj70H3nqU"
      },
      "execution_count": null,
      "outputs": []
    },
    {
      "cell_type": "code",
      "source": [
        "# Crear una instancia de RetrievalQA y especificar el tipo de cadena, el recuperador y la clave de entrada\n",
        "chain = RetrievalQA.from_chain_type(llm=llm,\n",
        "                                    chain_type=\"stuff\",\n",
        "                                    retriever=docsearch.vectorstore.as_retriever(),\n",
        "                                    input_key=\"question\")"
      ],
      "metadata": {
        "id": "-aLHh89UiAjs"
      },
      "execution_count": 40,
      "outputs": []
    },
    {
      "cell_type": "code",
      "source": [
        "query = \"¿Una batalla entre Bulbasaur y Volcanion quién ganaría basado en Ataque?\"\n",
        "response = chain({\"question\": query})\n",
        "print(response['result'])"
      ],
      "metadata": {
        "colab": {
          "base_uri": "https://localhost:8080/"
        },
        "id": "D4ZMdK8UiKtN",
        "outputId": "ecd84ccf-fd4d-49fe-a7ec-7690973fc0de"
      },
      "execution_count": 36,
      "outputs": [
        {
          "output_type": "stream",
          "name": "stdout",
          "text": [
            "Volcanion ganaría, ya que su ataque es de 110 mientras que el de Bulbasaur es de solo 49.\n"
          ]
        }
      ]
    },
    {
      "cell_type": "markdown",
      "source": [
        "**Referencias**\n",
        "\n",
        "* https://python.langchain.com/en/latest/index.html\n",
        "* https://python.langchain.com/en/latest/modules/indexes/document_loaders/examples/csv.html"
      ],
      "metadata": {
        "id": "hwKCs0m791GP"
      }
    }
  ]
}